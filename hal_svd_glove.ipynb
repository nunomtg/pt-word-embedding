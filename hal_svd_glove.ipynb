{
 "cells": [
  {
   "attachments": {},
   "cell_type": "markdown",
   "metadata": {},
   "source": [
    "# Opening files"
   ]
  },
  {
   "cell_type": "code",
   "execution_count": null,
   "metadata": {},
   "outputs": [],
   "source": [
    "first_lines = []\n",
    "\n",
    "with open(\"dataset.txt\", \"r\") as file:\n",
    "    for i in range(5):\n",
    "        first_lines.append(file.readline())\n",
    "\n",
    "print(first_lines)"
   ]
  },
  {
   "cell_type": "code",
   "execution_count": null,
   "metadata": {},
   "outputs": [
    {
     "data": {
      "text/plain": [
       "33372416"
      ]
     },
     "execution_count": 3,
     "metadata": {},
     "output_type": "execute_result"
    }
   ],
   "source": [
    "with open(\"dataset.txt\", \"r\") as file:\n",
    "    count = 0\n",
    "    for line in file:\n",
    "        count += 1\n",
    "count"
   ]
  },
  {
   "cell_type": "code",
   "execution_count": null,
   "metadata": {},
   "outputs": [],
   "source": [
    "subset_lines = []\n",
    "\n",
    "with open(\"dataset.txt\", \"r\") as file:\n",
    "    for i in range(100000):\n",
    "        subset_lines.append(file.readline().strip())\n",
    "\n",
    "with open(\"subset_dataset.txt\", \"w\") as file:\n",
    "    for line in subset_lines:\n",
    "        file.write(line + \"\\n\")"
   ]
  },
  {
   "cell_type": "code",
   "execution_count": null,
   "metadata": {},
   "outputs": [],
   "source": [
    "train_set = []\n",
    "\n",
    "with open(\"dataset.txt\", \"r\") as file:\n",
    "    i = 0\n",
    "    for line in file:\n",
    "        i += 1\n",
    "        if i > 1_000_000:\n",
    "            break\n",
    "        train_set.append(line.strip())"
   ]
  },
  {
   "attachments": {},
   "cell_type": "markdown",
   "metadata": {},
   "source": [
    "# HAL"
   ]
  },
  {
   "cell_type": "code",
   "execution_count": 26,
   "metadata": {},
   "outputs": [],
   "source": [
    "import numpy as np\n",
    "from collections import Counter"
   ]
  },
  {
   "cell_type": "code",
   "execution_count": null,
   "metadata": {},
   "outputs": [],
   "source": [
    "def get_new_matrix(matrix):\n",
    "    n = matrix.shape[0]\n",
    "\n",
    "    new_matrix = np.zeros((n, 2 * n), dtype=np.float32)\n",
    "\n",
    "    for i in range(n):\n",
    "        row = matrix[i, :]\n",
    "        column = matrix[:, i]\n",
    "\n",
    "        new_row = np.concatenate((row, column))\n",
    "\n",
    "        new_matrix[i] = new_row\n",
    "    return new_matrix\n",
    "\n",
    "\n",
    "def normalize_matrix(matrix):\n",
    "    row_sums = matrix.sum(axis=1)\n",
    "\n",
    "    row_sums = row_sums.reshape(-1, 1)\n",
    "\n",
    "    normalized_matrix = matrix / row_sums\n",
    "\n",
    "    return normalized_matrix"
   ]
  },
  {
   "cell_type": "code",
   "execution_count": null,
   "metadata": {},
   "outputs": [
    {
     "name": "stdout",
     "output_type": "stream",
     "text": [
      "HAL Matrix:\n",
      "[[0. 4. 0. 3. 0. 7.]\n",
      " [0. 0. 0. 5. 0. 4.]\n",
      " [5. 3. 0. 2. 0. 5.]\n",
      " [0. 0. 0. 0. 0. 5.]\n",
      " [4. 2. 5. 1. 0. 3.]\n",
      " [0. 5. 0. 4. 0. 3.]]\n",
      "\n",
      "Vocabulary:\n",
      "['bolo', 'comeu', 'do', 'joão', 'miguel', 'o']\n",
      "\n",
      "Vocabulary vectors:\n",
      "[[0.         0.17391305 0.         0.13043478 0.         0.3043478\n",
      "  0.         0.         0.2173913  0.         0.17391305 0.        ]\n",
      " [0.         0.         0.         0.2173913  0.         0.17391305\n",
      "  0.17391305 0.         0.13043478 0.         0.08695652 0.2173913 ]\n",
      " [0.25       0.15       0.         0.1        0.         0.25\n",
      "  0.         0.         0.         0.         0.25       0.        ]\n",
      " [0.         0.         0.         0.         0.         0.25\n",
      "  0.15       0.25       0.1        0.         0.05       0.2       ]\n",
      " [0.26666668 0.13333334 0.33333334 0.06666667 0.         0.2\n",
      "  0.         0.         0.         0.         0.         0.        ]\n",
      " [0.         0.12820514 0.         0.1025641  0.         0.07692308\n",
      "  0.17948718 0.1025641  0.12820514 0.12820514 0.07692308 0.07692308]]\n"
     ]
    }
   ],
   "source": [
    "def hal(sentences, window_size, min_occurrences=1):\n",
    "    word_counter = Counter()\n",
    "    sentences = [s.lower() for s in sentences]\n",
    "\n",
    "    for string in sentences:\n",
    "        word_counter.update(string.split())\n",
    "\n",
    "    vocab = set([k for k, v in word_counter.items() if v >= min_occurrences])\n",
    "    vocab = sorted(vocab)\n",
    "\n",
    "    vocab_size = len(vocab)\n",
    "    hal_matrix = np.zeros((vocab_size, vocab_size), dtype=np.float32)\n",
    "    vocab_index = {word: i for i, word in enumerate(vocab)}\n",
    "\n",
    "    cont = 0\n",
    "    for s in sentences:\n",
    "        tokens = s.split()\n",
    "        len_sentence = len(tokens)\n",
    "        for curr_i in range(len_sentence):\n",
    "            for less_i in range(1, window_size + 1):\n",
    "                before_i = curr_i - less_i\n",
    "                if before_i < 0:\n",
    "                    break\n",
    "                try:\n",
    "                    curr_word = tokens[curr_i]\n",
    "                    before_word = tokens[before_i]\n",
    "                    score = window_size - less_i + 1\n",
    "                    hal_matrix[vocab_index[curr_word]][\n",
    "                        vocab_index[before_word]\n",
    "                    ] += score\n",
    "                except:\n",
    "                    continue\n",
    "\n",
    "    vocab_vectors = normalize_matrix(get_new_matrix(hal_matrix))\n",
    "\n",
    "    return hal_matrix, vocab, vocab_vectors\n",
    "\n",
    "\n",
    "sentence = [\"O João comeu o bolo do Miguel\"]\n",
    "window_size = 5\n",
    "\n",
    "hal_matrix, vocab, vocab_vectors = hal(sentence, window_size)\n",
    "\n",
    "print(\"HAL Matrix:\")\n",
    "print(hal_matrix)\n",
    "\n",
    "print(\"\\nVocabulary:\")\n",
    "print(vocab)\n",
    "\n",
    "print(\"\\nVocabulary vectors:\")\n",
    "print(vocab_vectors)"
   ]
  },
  {
   "attachments": {},
   "cell_type": "markdown",
   "metadata": {},
   "source": [
    "# HAL SVD"
   ]
  },
  {
   "cell_type": "code",
   "execution_count": null,
   "metadata": {},
   "outputs": [],
   "source": [
    "from sklearn.decomposition import TruncatedSVD\n",
    "\n",
    "\n",
    "def hal_svd(sentences, window_size, min_occurrences=1):\n",
    "    word_counter = Counter()\n",
    "    sentences = [s.lower() for s in sentences]\n",
    "\n",
    "    for string in sentences:\n",
    "        word_counter.update(string.split())\n",
    "\n",
    "    vocab = set([k for k, v in word_counter.items() if v >= min_occurrences])\n",
    "    vocab = sorted(vocab)\n",
    "\n",
    "    vocab_size = len(vocab)\n",
    "    hal_matrix = np.zeros((vocab_size, vocab_size), dtype=np.float32)\n",
    "    vocab_index = {word: i for i, word in enumerate(vocab)}\n",
    "\n",
    "    cont = 0\n",
    "    for s in sentences:\n",
    "        tokens = s.split()\n",
    "        len_sentence = len(tokens)\n",
    "        for curr_i in range(len_sentence):\n",
    "            for less_i in range(1, window_size + 1):\n",
    "                before_i = curr_i - less_i\n",
    "                if before_i < 0:\n",
    "                    break\n",
    "                try:\n",
    "                    curr_word = tokens[curr_i]\n",
    "                    before_word = tokens[before_i]\n",
    "                    score = window_size - less_i + 1\n",
    "                    hal_matrix[vocab_index[curr_word]][\n",
    "                        vocab_index[before_word]\n",
    "                    ] += score\n",
    "                except:\n",
    "                    continue\n",
    "    svd = TruncatedSVD(n_components=300)\n",
    "    vocab_vectors = svd.fit_transform(hal_matrix)\n",
    "\n",
    "    return hal_matrix, vocab, vocab_vectors"
   ]
  },
  {
   "cell_type": "code",
   "execution_count": 30,
   "metadata": {},
   "outputs": [
    {
     "name": "stdout",
     "output_type": "stream",
     "text": [
      "HAL Matrix:\n",
      "(4982, 4982)\n",
      "\n",
      "Vocabulary:\n",
      "['0', '00', '000', '01', '02', '03', '04', '05', '06', '07', '08', '09', '1', '10', '100', '11', '110', '12', '120', '125', '13', '130', '14', '140', '15', '150', '1500', '16', '17', '18', '180', '19', '1998', '1999', '1º', '2', '20', '200', '2000', '2001', '2002', '2003', '2004', '2005', '2006', '2007', '2008', '2009', '2010', '2011', '2012', '2013', '2014', '2015', '2016', '2017', '2018', '2019', '2020', '2021', '2022', '2023', '2030', '21', '22', '23', '24', '25', '250', '26', '27', '28', '29', '3', '30', '300', '31', '32', '33', '34', '35', '350', '36', '37', '38', '39', '4', '40', '400', '41', '42', '43', '44', '45', '450', '46', '47', '48', '49', '5', '50', '500', '51', '52', '53', '54', '55', '56', '57', '58', '59', '6', '60', '600', '61', '62', '63', '64', '65', '66', '67', '68', '69', '7', '70', '700', '71', '72', '73', '74', '75', '750', '76', '77', '78', '79', '8', '80', '800', '81', '82', '83', '84', '85', '86', '87', '88', '89', '9', '90', '900', '91', '92', '93', '94', '95', '96', '97', '98', '99', 'a1', 'abandona', 'abandonar', 'abandono', 'abandonou', 'abastecimento', 'abel', 'aberta', 'abertas', 'aberto', 'abertura', 'aborto', 'abr', 'abrantes', 'abre', 'abrem', 'abrigo', 'abril', 'abrir', 'abriu', 'absoluta', 'absolutamente', 'absoluto', 'abstenção', 'abuso', 'abusos', 'ac', 'acaba', 'acabar', 'academia', 'académica', 'académico', 'accionistas', 'aceita', 'aceitar', 'aceitou', 'acelerar', 'acesso', 'acessível', 'acha', 'acidente', 'acidentes', 'acionistas', 'acolhe', 'acolher', 'acolhimento', 'acompanha', 'acompanhado', 'acompanhamento', 'acompanhar', 'aconselha', 'acontecimentos', 'acordo', 'acordos', 'acredita', 'acreditam', 'acreditar', 'actividade', 'actividades', 'activos', 'acto', 'actor', 'actores', 'actriz', 'actua', 'actual', 'actualizada', 'actualmente', 'acusa', 'acusada', 'acusado', 'acusados', 'acusam', 'acusando', 'acusação', 'acusações', 'acusou', 'acção', 'acções', 'acórdão', 'adaptação', 'adeptos', 'adesão', 'adia', 'adiada', 'adiado', 'adiamento', 'adiar', 'adicional', 'adjunto', 'administrador', 'administradores', 'administrativa', 'administrativo', 'administração', 'admite', 'admitem', 'admitindo', 'adolescente', 'adolescentes', 'adse', 'adultos', 'adversário', 'adversários', 'adverte', 'advertiu', 'advogado', 'advogados', 'aeroporto', 'aeroportos', 'afasta', 'afastado', 'afastamento', 'afastar', 'afecta', 'afeganistão', 'afeta', 'afetadas', 'afetados', 'afetar', 'afinal', 'afirmando', 'afirmar', 'afonso', 'afp', 'africana', 'africano', 'africanos', 'ag', 'agenda', 'agendada', 'agente', 'agentes', 'agir', 'agitação', 'agosto', 'agravamento', 'agravar', 'agredido', 'agressão', 'agressões', 'agricultores', 'agricultura', 'agrícola', 'agrícolas', 'aguarda', 'aguardar', 'aguiar', 'agência', 'agências', 'ahmadinejad', 'air', 'aires', 'airlines', 'ajuda', 'ajudam', 'ajudas', 'ajudou', 'ajustamento', 'al', 'ala', 'alargado', 'alargamento', 'alargar', 'alberto', 'albufeira', 'albuquerque', 'alcançado', 'alcançar', 'alcochete', 'aldeia', 'aldeias', 'alegada', 'alegadamente', 'alegadas', 'alegado', 'alegados', 'alegando', 'alegre', 'alegria', 'alemanha', 'alemã', 'alemães', 'alemão', 'alentejo', 'alerta', 'alertam', 'alertou', 'alex', 'alexandra', 'alexandre', 'alfredo', 'algarve', 'alguém', 'aliados', 'aliança', 'alimentar', 'alimentares', 'alimentação', 'alimentos', 'alive', 'alma', 'almada', 'almeida', 'almoço', 'alojamento', 'alonso', 'alta', 'altas', 'alterar', 'alteração', 'alterações', 'alternativa', 'alternativas', 'altice', 'alto', 'altos', 'altura', 'aluno', 'alunos', 'alvalade', 'alves', 'alvo', 'amado', 'amadora', 'amanhã', 'amaral', 'amarante', 'amarela', 'amarelo', 'amarelos', 'amazon', 'ambientais', 'ambiental', 'ambiente', 'ambição', 'ameaça', 'ameaçam', 'ameaças', 'ameaçou', 'americana', 'americanas', 'americano', 'americanos', 'amigo', 'amigos', 'amnistia', 'amor', 'amorim', 'amália', 'américa', 'ana', 'anacom', 'analisa', 'analisar', 'analistas', 'and', 'anda', 'andar', 'andebol', 'andrade', 'andré', 'angela', 'angeles', 'angola', 'angolana', 'angolanas', 'angolano', 'angolanos', 'animais', 'animal', 'animação', 'aniversário', 'ano', 'anpc', 'antecipa', 'antecipadas', 'anterior', 'anteriores', 'anti', 'antidopagem', 'antiga', 'antigas', 'antigo', 'antigos', 'antonio', 'antunes', 'antónio', 'anuais', 'anual', 'anuncia', 'anunciada', 'anunciadas', 'anunciado', 'anunciam', 'anunciar', 'anunciaram', 'análise', 'análises', 'anúncio', 'apanhado', 'aparelho', 'apela', 'apelo', 'apelou', 'apesar', 'aplicada', 'aplicar', 'aplicação', 'aplicações', 'apoia', 'apoiam', 'apoiantes', 'apoiar', 'apoios', 'aponta', 'apontado', 'apontam', 'apontando', 'apontou', 'aposta', 'apostar', 'apostas', 'apple', 'apreende', 'apreendeu', 'apreendidos', 'apreensão', 'aprender', 'apresenta', 'apresentada', 'apresentadas', 'apresentadora', 'apresentados', 'apresentam', 'apresentar', 'apresentaram', 'apresentação', 'aprova', 'aprovada', 'aprovadas', 'aprovado', 'aprovam', 'aprovar', 'aprovaram', 'aprovação', 'aproveitar', 'aprovou', 'aproximação', 'apuramento', 'apurar', 'apurou', 'aquecimento', 'aquisição', 'ar', 'araújo', 'arbitragem', 'arbitral', 'areia', 'arena', 'argentina', 'argentino', 'arguido', 'arguidos', 'argélia', 'arma', 'armada', 'armadas', 'armado', 'armados', 'armando', 'armas', 'arouca', 'arquipélago', 'arquitetura', 'arranca', 'arrancou', 'arranque', 'arredores', 'arrendamento', 'arrisca', 'arrábida', 'arsenal', 'arte', 'artes', 'artificial', 'artigo', 'artigos', 'artista', 'artistas', 'artur', 'artística', 'artístico', 'arábia', 'asae', 'asilo', 'assad', 'assaltantes', 'assalto', 'assaltos', 'assange', 'assassinado', 'assassínio', 'assegura', 'assegurar', 'assegurou', 'assembleia', 'assessor', 'assina', 'assinado', 'assinala', 'assinalar', 'assinam', 'assinar', 'assinaram', 'assinatura', 'assinaturas', 'assinou', 'assis', 'assistir', 'assistência', 'associados', 'associação', 'associações', 'assume', 'assumir', 'assumiu', 'assunto', 'assuntos', 'assunção', 'assédio', 'ataca', 'atacar', 'ataque', 'ataques', 'atenas', 'atendimento', 'atentado', 'atentados', 'atenção', 'atenções', 'atinge', 'atingido', 'atingir', 'atingiram', 'atingiu', 'atitude', 'atividade', 'atividades', 'ativista', 'ativistas', 'ativos', 'atleta', 'atletas', 'atletismo', 'atlântico', 'atlético', 'atmosfera', 'ato', 'ator', 'atores', 'atos', 'atrair', 'atraso', 'atrasos', 'atravessa', 'atribui', 'atribuir', 'atribuiu', 'atribuição', 'atribuído', 'atriz', 'atropelamento', 'atuais', 'atual', 'atualização', 'atualmente', 'atuação', 'auditoria', 'auditório', 'audição', 'audiência', 'audiências', 'augusto', 'aulas', 'aumenta', 'aumentam', 'aumentar', 'aumentaram', 'aumento', 'aumentos', 'aumentou', 'ausente', 'austeridade', 'australiana', 'australiano', 'austrália', 'ausência', 'autarca', 'autarcas', 'autarquia', 'autarquias', 'auto', 'autocarro', 'autocarros', 'autoestrada', 'autoeuropa', 'automóveis', 'automóvel', 'autonomia', 'autor', 'autores', 'autoria', 'autoridade', 'autoridades', 'autoriza', 'autorização', 'autorizou', 'autárquicas', 'autónoma', 'avaliar', 'avaliação', 'avança', 'avançada', 'avançado', 'avançam', 'avanço', 'avanços', 'avançou', 'ave', 'aveiro', 'avenida', 'aventura', 'aves', 'aviação', 'avisa', 'aviso', 'avisou', 'avião', 'aviões', 'awards', 'azevedo', 'azuis', 'azul', 'açores', 'açoriano', 'ação', 'ações', 'aérea', 'aéreas', 'aéreo', 'aéreos', 'b', 'bairro', 'bairros', 'baixa', 'baixar', 'baixas', 'baixo', 'baixos', 'baixou', 'balanço', 'banca', 'bancada', 'banco', 'bancos', 'bancária', 'bancário', 'bancários', 'banda', 'bandeira', 'banho', 'banif', 'bank', 'bar', 'barack', 'barbosa', 'barcelona', 'barcelos', 'barco', 'barragem', 'barreira', 'barreiro', 'barril', 'barroso', 'base', 'bases', 'basquetebol', 'basta', 'bastonário', 'batalha', 'bate', 'bater', 'bateu', 'bayern', 'baía', 'bbc', 'bce', 'bcp', 'bdp', 'be', 'bebidas', 'bebé', 'bebés', 'beckham', 'beira', 'beja', 'bela', 'belenenses', 'beleza', 'belga', 'belém', 'ben', 'beneficiar', 'beneficiários', 'benefícios', 'benfica', 'benjamin', 'bens', 'bento', 'berardo', 'berlim', 'berlusconi', 'bernardo', 'bes', 'bettencourt', 'biblioteca', 'bicicleta', 'bienal', 'bilaterais', 'bilateral', 'bilhetes', 'bin', 'birmânia', 'bispo', 'bispos', 'bissau', 'bloco', 'bmw', 'boavista', 'boca', 'boeing', 'bola', 'bolsa', 'bolsas', 'bolsonaro', 'bomba', 'bombeiros', 'borba', 'bordo', 'bpi', 'bpn', 'bpp', 'braga', 'bragança', 'branca', 'branco', 'brancos', 'branqueamento', 'brasil', 'brasileira', 'brasileiras', 'brasileiro', 'brasileiros', 'brasília', 'braço', 'brent', 'brexit', 'brisa', 'brito', 'britânica', 'britânico', 'britânicos', 'bronze', 'brown', 'bruno', 'bruto', 'bruxelas', 'bull', 'burla', 'busca', 'buscas', 'bush', 'básico', 'bélgica', 'bósnia', 'c', 'cabe', 'cabeça', 'cabinda', 'cabo', 'cabral', 'cabrita', 'cabul', 'cadeia', 'cadáver', 'caem', 'café', 'cai', 'cair', 'cairo', 'cais', 'caiu', 'caixa', 'caixas', 'caldas', 'calendário', 'califórnia', 'calma', 'calor', 'calçado', 'camas', 'cambridge', 'cameron', 'caminha', 'caminhos', 'camisola', 'camião', 'camiões', 'campanha', 'campanhas', 'campeonato', 'campeonatos', 'campeã', 'campeão', 'campeões', 'campo', 'campos', 'camões', 'canadiano', 'canadá', 'canais', 'canal', 'cancela', 'cancelados', 'cancelamento', 'cancro', 'candidata', 'candidatar', 'candidato', 'candidatos', 'candidatura', 'candidaturas', 'cannes', 'canoagem', 'cantar', 'cantor', 'cantora', 'canção', 'canções', 'caos', 'capa', 'capacidade', 'caparica', 'capaz', 'capitais', 'capital', 'capitão', 'captura', 'cara', 'caracas', 'carbono', 'cardeal', 'cardoso', 'cardozo', 'carga', 'cargo', 'cargos', 'carla', 'carlos', 'carnaval', 'carne', 'carneiro', 'caro', 'carolina', 'carreira', 'carreiras', 'carrinha', 'carris', 'carro', 'carros', 'carta', 'cartas', 'cartaz', 'cartão', 'cartões', 'carvalhal', 'carvalho', 'casa', 'casais', 'casal', 'casamento', 'casamentos', 'casar', 'casas', 'cascais', 'casino', 'caso', 'casos', 'castelo', 'castigo', 'castro', 'catalunha', 'catalão', 'catarina', 'catedral', 'categoria', 'católica', 'católicos', 'causa', 'causar', 'causaram', 'causas', 'causou', 'cautelar', 'cavaco', 'caça', 'caíram', 'ccb', 'cd', 'cdos', 'cds', 'cdu', 'ceder', 'celebra', 'celebrar', 'celebração', 'cem', 'cena', 'censura', 'centena', 'centenas', 'centeno', 'centenário', 'centrais', 'central', 'centro', 'centros', 'cenário', 'ceo', 'cerca', 'cerimónia', 'certa', 'cessar', 'cgd', 'cgtp', 'challenge', 'challenger', 'chama', 'chamada', 'chamadas', 'chamado', 'chamados', 'chamar', 'chamas', 'chamou', 'champions', 'chanceler', 'charles', 'chave', 'chaves', 'checa', 'chefe', 'chefes', 'chegada', 'chegado', 'chegam', 'chegaram', 'cheias', 'chelsea', 'chiado', 'chile', 'china', 'chinesa', 'chinesas', 'chineses', 'chinês', 'choque', 'chumbo', 'chuva', 'chuvas', 'chávez', 'chão', 'ciclismo', 'ciclista', 'ciclo', 'ciclone', 'cidadania', 'cidade', 'cidades', 'cidadão', 'cidadãos', 'cientistas', 'científica', 'cimeira', 'cimpor', 'cineasta', 'cinema', 'cinzas', 'cip', 'circuito', 'circular', 'circulação', 'cirurgia', 'cirurgias', 'citado', 'city', 'civil', 'civis', 'ciência', 'ciências', 'clara', 'classe', 'classificado', 'classificação', 'classificações', 'classificou', 'claude', 'cliente', 'clientes', 'clima', 'climáticas', 'clinton', 'clube', 'clubes', 'clássica', 'clássico', 'cláudia', 'clínica', 'cmvm', 'cne', 'co', 'cobertura', 'cobrança', 'cobrar', 'cocaína', 'coelho', 'coentrão', 'coesão', 'coimbra', 'colaboradores', 'colaboração', 'colapso', 'colecção', 'colega', 'colegas', 'coletes', 'coletiva', 'coletivo', 'coleção', 'coligação', 'coliseu', 'colisão', 'coloca', 'colocado', 'colocar', 'colocação', 'colocou', 'colombiano', 'colégio', 'colômbia', 'comandante', 'comando', 'combate', 'combatentes', 'combater', 'combates', 'combinação', 'comboio', 'comboios', 'combustíveis', 'combustível', 'comemora', 'comemorações', 'comentar', 'comentário', 'comentários', 'comer', 'comerciais', 'comercial', 'comerciantes', 'começa', 'começam', 'começaram', 'comida', 'comissário', 'comissão', 'comissões', 'comité', 'companheiro', 'companhia', 'companhias', 'comparação', 'compensação', 'competir', 'competitividade', 'competição', 'competições', 'competências', 'completa', 'completamente', 'completo', 'complexo', 'comportamento', 'compositor', 'composta', 'compra', 'comprar', 'compras', 'compromisso', 'compromissos', 'comprou', 'computador', 'computadores', 'comum', 'comunicado', 'comunicação', 'comunicações', 'comunidade', 'comunidades', 'comunista', 'comunistas', 'comunitário', 'comunitários', 'comuns', 'comédia', 'comércio', 'conceito', 'conceição', 'concelho', 'concelhos', 'concentração', 'concertação', 'concerto', 'concertos', 'concessão', 'conclui', 'concluir', 'conclusão', 'conclusões', 'concluída', 'concluído', 'concorda', 'concorrentes', 'concorrência', 'concretizar', 'concurso', 'concursos', 'conde', 'condena', 'condenada', 'condenado', 'condenados', 'condenação', 'condenou', 'condicionado', 'condição', 'condições', 'condutor', 'condutores', 'conduzir', 'condução', 'confederação', 'conferência', 'confessou', 'confiante', 'confiança', 'confirma', 'confirmada', 'confirmado', 'confirmados', 'confirmam', 'confirmar', 'conflito', 'conflitos', 'conforme', 'confronto', 'confrontos', 'congelamento', 'congo', 'congratulou', 'congresso', 'conhece', 'conhecer', 'conhecida', 'conhecidos', 'conhecimento', 'conheça', 'conjunta', 'conjunto', 'conjuntura', 'conquista', 'conquistar', 'conquistou', 'consciência', 'consecutiva', 'consecutivo', 'consegue', 'conseguiram', 'conselheiro', 'conselhos', 'consenso', 'consequência', 'consequências', 'conservador', 'conservação', 'considerada', 'considerado', 'consideram', 'considerar', 'consolidação', 'constitucional', 'constitui', 'constituição', 'constituído', 'construir', 'construção', 'constâncio', 'consulado', 'consulta', 'consultas', 'consultora', 'consumidor', 'consumidores', 'consumo', 'consórcio', 'conta', 'contacto', 'contactos', 'contador', 'contagem', 'contam', 'contar', 'contas', 'contemporânea', 'contentores', 'contenção', 'contesta', 'contestação', 'contexto', 'conteúdos', 'continental', 'continente', 'continuará', 'continuidade', 'contrata', 'contratar', 'contratação', 'contrato', 'contratos', 'contribuintes', 'contribuir', 'contribuição', 'contributo', 'controlar', 'controlo', 'contrário', 'convenção', 'conversa', 'conversas', 'conversações', 'convidado', 'convidados', 'convite', 'convoca', 'convocada', 'convocado', 'convocados', 'convocatória', 'convocou', 'cooperação', 'coordenador', 'coordenadora', 'coordenação', 'copenhaga', 'cor', 'coragem', 'coração', 'cordeiro', 'coreana', 'coreano', 'coreia', 'coreias', 'coronel', 'corpo', 'corporação', 'corpos', 'corre', 'correia', 'correio', 'correios', 'correr', 'correção', 'corrida', 'corrigir', 'corrupção', 'corta', 'cortar', 'corte', 'cortes', 'corvo', 'costa', 'costas', 'costeira', 'couto', 'cova', 'covilhã', 'cozinha', 'cp', 'cplp', 'cr7', 'cravo', 'credibilidade', 'credores', 'cresce', 'crescem', 'crescente', 'crescer', 'cresceu', 'crescimento', 'cria', 'criada', 'criado', 'criam', 'criança', 'crianças', 'criar', 'criação', 'crime', 'crimes', 'criminal', 'criminalidade', 'criminosa', 'criou', 'crise', 'cristas', 'cristiano', 'cristina', 'cristo', 'cristãos', 'critica', 'criticam', 'criticou', 'critérios', 'croácia', 'cruz', 'cruzeiro', 'crédito', 'créditos', 'crítica', 'críticas', 'crítico', 'críticos', 'crónica', 'ctt', 'cuba', 'cuidados', 'culpa', 'cultura', 'culturais', 'cultural', 'cumpre', 'cumprimento', 'cumpriu', 'cunha', 'cup', 'curso', 'cursos', 'curta', 'curtas', 'curto', 'custar', 'custo', 'custos', 'custou', 'câmara', 'câmaras', 'cães', 'cão', 'células', 'cérebro', 'césar', 'céu', 'cêntimos', 'código', 'd', 'dada', 'dado', 'dados', 'damasco', 'dando', 'daniel', 'danos', 'dança', 'daqui', 'data', 'datas', 'david', 'davis', 'debate', 'debater', 'debates', 'decide', 'decidido', 'decidir', 'decidiram', 'decisivo', 'decisão', 'decisões', 'declara', 'declaração', 'declarações', 'deco', 'decorre', 'decorrem', 'decorrer', 'decorreu', 'decreto', 'dedicada', 'dedicado', 'defendem', 'defendendo', 'defender', 'defendeu', 'defesa', 'deficiência', 'define', 'definir', 'definição', 'deflagrou', 'defronta', 'defrontar', 'degradação', 'deixam', 'deixando', 'deixaram', 'deixou', 'del', 'delegação', 'delgada', 'delgado', 'demasiado', 'demissão', 'demite', 'demitir', 'demitiu', 'democracia', 'democrata', 'democratas', 'democrática', 'democrático', 'denuncia', 'denunciou', 'denúncia', 'denúncias', 'departamento', 'depende', 'deputada', 'deputado', 'deputados', 'depósitos', 'deram', 'derrocada', 'derrota', 'derrotado', 'derrotar', 'desafia', 'desafio', 'desafios', 'desafiou', 'desapareceu', 'desaparecida', 'desaparecido', 'desaparecidos', 'desaparecimento', 'desastre', 'desce', 'descentralização', 'descer', 'desceu', 'descida', 'descoberta', 'descoberto', 'descobrir', 'descobriu', 'descontos', 'desculpa', 'desculpas', 'deseja', 'desejo', 'desempenho', 'desempregados', 'desemprego', 'desenvolver', 'desenvolvido', 'desenvolvimento', 'desfile', 'design', 'desiste', 'deslocação', 'desmente', 'despacho', 'despede', 'despedida', 'despedimento', 'despedimentos', 'despedir', 'despesa', 'despesas', 'despiste', 'desportiva', 'desportivo', 'desportivos', 'desporto', 'destaca', 'destacando', 'destacou', 'destaque', 'destinado', 'destino', 'destinos', 'destruiu', 'destruição', 'desvaloriza', 'desvio', 'detenção', 'detenções', 'deter', 'deteve', 'detida', 'detidas', 'detido', 'detidos', 'detém', 'deu', 'deus', 'dever', 'deveria', 'deverão', 'devia', 'deviam', 'devolver', 'dezembro', 'dezenas', 'dgartes', 'dgs', 'di', 'dia', 'diagnóstico', 'diana', 'dias', 'diego', 'diferente', 'diferentes', 'diferença', 'diferenças', 'dificuldade', 'dificuldades', 'difíceis', 'difícil', 'digitais', 'digital', 'digressão', 'dilma', 'dimensão', 'diminuir', 'diminuiu', 'diminuição', 'dinamarca', 'dinheiro', 'diogo', 'diploma', 'diplomacia', 'diplomas', 'diplomata', 'diplomatas', 'diplomática', 'diplomáticas', 'directo', 'director', 'directora', 'direcção', 'direita', 'direito', 'direitos', 'direto', 'diretor', 'diretora', 'diretores', 'direção', 'dirige', 'dirigente', 'dirigentes', 'dirigir', 'disciplina', 'disciplinar', 'disco', 'discoteca', 'discriminação', 'discurso', 'discussão', 'discute', 'discutem', 'discutir', 'disponibilidade', 'disponíveis', 'dispositivo', 'disposto', 'disputa', 'disputada', 'disputado', 'disputam', 'disputar', 'disseram', 'distinguido', 'distribuição', 'distrital', 'distrito', 'distritos', 'distância', 'ditadura', 'dito', 'dividendos', 'divisão', 'divulga', 'divulgada', 'divulgadas', 'divulgados', 'divulgar', 'divulgação', 'divulgou', 'divórcio', 'dizendo', 'diálogo', 'diário', 'djokovic', 'dn', 'dobro', 'doce', 'docente', 'docentes', 'documento', 'documentos', 'documentário', 'doente', 'doentes', 'doença', 'doenças', 'dominado', 'domingo', 'domingos', 'doméstica', 'domínio', 'dona', 'donald', 'dono', 'doping', 'doses', 'douro', 'dr', 'dragão', 'dragões', 'droga', 'drogas', 'duarte', 'duelo', 'dupla', 'duplo', 'dura', 'duração', 'durão', 'década', 'décadas', 'défice', 'dérbi', 'díli', 'dívida', 'dívidas', 'dólar', 'dólares', 'dúvidas', 'economia', 'economias', 'economista', 'economistas', 'económica', 'económicas', 'económico', 'económicos', 'edifício', 'edifícios', 'editado', 'editora', 'edição', 'edições', 'edp', 'eduardo', 'educação', 'efe', 'efeito', 'efeitos', 'efetiva', 'eficaz', 'eficiência', 'eficácia', 'egipto', 'egito', 'egípcio', 'el', 'electricidade', 'eleger', 'eleita', 'eleito', 'eleitorais', 'eleitoral', 'eleitores', 'eleitos', 'eleição', 'eleições', 'elemento', 'elementos', 'eletricidade', 'eletrónica', 'elevada', 'elevadas', 'elevado', 'elevados', 'eliminado', 'eliminar', 'eliminatória', 'eliminação', 'elite', 'elogia', 'elogios', 'elogiou', 'elétrica', 'elétrico', 'elétricos', 'embaixada', 'embaixador', 'embarcação', 'emblema', 'emergência', 'emigrantes', 'emissão', 'emissões', 'emitir', 'emitiu', 'emmanuel', 'empata', 'empataram', 'empate', 'empatou', 'empenho', 'emprego', 'empregos', 'empresa', 'empresarial', 'empresas', 'empresário', 'empresários', 'empréstimo', 'empréstimos', 'encarnados', 'encerra', 'encerrado', 'encerramento', 'encerrar', 'encerrou', 'encontrada', 'encontrado', 'encontrados', 'encontram', 'encontrava', 'encontro', 'encontros', 'encontrou', 'endividamento', 'energia', 'energias', 'energética', 'enfermeiros', 'enfrenta', 'enfrentar', 'engenharia', 'engil', 'enorme', 'ensaio', 'ensino', 'entanto', 'entende', 'entender', 'entendimento', 'entidade', 'entidades', 'entra', 'entrada', 'entram', 'entraram', 'entrega', 'entregar', 'entregou', 'entregue', 'entregues', 'entretanto', 'entrevista', 'envenenamento', 'envia', 'enviada', 'enviado', 'enviar', 'envio', 'enviou', 'envolve', 'envolvendo', 'envolveu', 'envolvido', 'envolvidos', 'envolvimento', 'episódio', 'episódios', 'equador', 'equatorial', 'equilíbrio', 'equipa', 'equipamento', 'equipamentos', 'equipas', 'erc', 'erdogan', 'erro', 'erros', 'escala', 'escalada', 'escalão', 'esclarecer', 'esclareceu', 'esclarecimento', 'esclarecimentos', 'escola', 'escolar', 'escolares', 'escolas', 'escolha', 'escolher', 'escolheu', 'escolhido', 'escreve', 'escrever', 'escreveu', 'escrita', 'escrito', 'escritor', 'escritora', 'escritores', 'escrutínio', 'escutas', 'escândalo', 'escócia', 'esforço', 'esforços', 'espacial', 'espanha', 'espanhol', 'espanhola', 'espanholas', 'espanhóis', 'espaço', 'espaços', 'especiais', 'especial', 'especialidade', 'especialista', 'especialistas', 'especialmente', 'espectadores', 'espectáculo', 'esperado', 'esperam', 'esperança', 'esperar', 'espetáculo', 'espetáculos', 'espinho', 'espionagem', 'espião', 'espécie', 'espécies', 'espírito', 'esquadra', 'esquema', 'esquerda', 'esquerdo', 'essenciais', 'essencial', 'estabelecimento', 'estabelecimentos', 'estabilidade', 'estabilização', 'estacionamento', 'estado', 'estados', 'estaleiros', 'estando', 'estarem', 'estarão', 'estatal', 'estatuto', 'estatutos', 'estatística', 'estatísticas', 'estação', 'estações', 'estilo', 'estima', 'estimativa', 'estivadores', 'estoril', 'estrada', 'estradas', 'estrangeira', 'estrangeiro', 'estrangeiros', 'estrasburgo', 'estratégia', 'estratégica', 'estratégico', 'estrear', 'estreia', 'estrela', 'estrelas', 'estreou', 'estrutura', 'estruturais', 'estruturas', 'estuda', 'estudante', 'estudantes', 'estudar', 'estudo', 'estudos', 'estádio', 'estágio', 'estável', 'eta', 'etapa', 'eua', 'euribor', 'euro', 'euro2012', 'eurodeputado', 'eurodeputados', 'eurogrupo', 'euromilhões', 'euronext', 'europa', 'europeia', 'europeias', 'europeu', 'europeus', 'euros', 'eurostat', 'eurovisão', 'eutanásia', 'evento', 'eventos', 'eventuais', 'eventual', 'everton', 'evitar', 'evolução', 'ex', 'exame', 'exames', 'excelente', 'excesso', 'exceção', 'exclusão', 'executiva', 'executivo', 'execução', 'exercer', 'exercício', 'exibição', 'exige', 'exigem', 'exigir', 'exigiu', 'exigências', 'existentes', 'existir', 'existência', 'expansão', 'expectativa', 'expectativas', 'experimental', 'experiência', 'explicar', 'explicações', 'exploração', 'explosivos', 'explosão', 'exportação', 'exportações', 'exposição', 'exposições', 'expresso', 'expressão', 'expulso', 'expulsão', 'extensão', 'exterior', 'externa', 'externo', 'extinção', 'extra', 'extradição', 'extraordinária', 'extraordinário', 'extrema', 'extremamente', 'extremo', 'exército', 'f', 'f1', 'fabricante', 'face', 'facebook', 'facilitar', 'facto', 'factos', 'faculdade', 'fadista', 'fado', 'faixa', 'fake', 'fala', 'falam', 'falar', 'falava', 'falcao', 'falha', 'falhar', 'falhas', 'falhou', 'falou', 'falsa', 'falsas', 'falsificação', 'falso', 'falsos', 'faltam', 'falência', 'famalicão', 'familiar', 'familiares', 'famoso', 'famosos', 'família', 'famílias', 'faria', 'farmácias', 'faro', 'fase', 'fashion', 'fatura', 'favorito', 'favorável', 'fazendo', 'faça', 'fc', 'fecha', 'fechada', 'fechado', 'fechar', 'fecho', 'fechou', 'fed', 'federal', 'federação', 'federer', 'feira', 'feirense', 'feitas', 'feitos', 'felgueiras', 'felicita', 'felipe', 'feliz', 'feminina', 'feminino', 'fenprof', 'fenómeno', 'feridas', 'ferido', 'feridos', 'ferimentos', 'fernandes', 'fernando', 'ferradura', 'ferrari', 'ferreira', 'ferro', 'ferroviária', 'ferroviário', 'festa', 'festas', 'festivais', 'festival', 'fevereiro', 'ficado', 'ficam', 'ficará', 'ficha', 'ficção', 'fifa', 'figo', 'figueira', 'figueiredo', 'figura', 'figuras', 'filha', 'filho', 'filhos', 'filipe', 'filipinas', 'filme', 'filmes', 'finais', 'finalistas', 'finalmente', 'financeira', 'financeiras', 'financeiro', 'financeiros', 'financiamento', 'financiar', 'finanças', 'finlândia', 'fins', 'fiscais', 'fiscal', 'fiscalização', 'fisco', 'fitch', 'flagrante', 'flor', 'flores', 'floresta', 'florestais', 'florestal', 'florestas', 'fmi', 'foco', 'fogo', 'fogos', 'fome', 'fonseca', 'fonte', 'fontes', 'ford', 'formalmente', 'formar', 'formas', 'formato', 'formação', 'forte', 'fortes', 'força', 'forças', 'foto', 'fotografia', 'fotografias', 'fotos', 'fox', 'foz', 'fpf', 'franca', 'france', 'francesa', 'francesas', 'franceses', 'francisco', 'franco', 'francês', 'frankfurt', 'frança', 'frases', 'fraude', 'frederico', 'freeport', 'freguesia', 'freguesias', 'freitas', 'frente', 'frio', 'fronteira', 'fronteiras', 'frota', 'fuga', 'fugir', 'funchal', 'funciona', 'funcionamento', 'funcionar', 'funcionário', 'funcionários', 'fundador', 'fundamental', 'fundação', 'fundo', 'fundos', 'fundão', 'funeral', 'função', 'funções', 'furacão', 'furto', 'fusão', 'futebol', 'futebolista', 'futebolistas', 'futsal', 'futura', 'futuro', 'futuros', 'fábio', 'fábrica', 'fácil', 'fátima', 'fãs', 'fé', 'félix', 'férias', 'física', 'físico', 'fórmula', 'fórum', 'g20', 'gabinete', 'gabriel', 'gaia', 'gala', 'galeria', 'galiza', 'galp', 'gama', 'ganha', 'ganham', 'ganhar', 'ganhos', 'ganhou', 'garantem', 'garantia', 'garantias', 'garantindo', 'garantir', 'garcia', 'gasolina', 'gaspar', 'gastar', 'gastos', 'gastronomia', 'gasóleo', 'gay', 'gaza', 'gelo', 'genebra', 'general', 'generalidade', 'gente', 'george', 'gera', 'gerais', 'geral', 'gerar', 'geração', 'gerações', 'gere', 'gerir', 'gestores', 'gestão', 'gigante', 'gil', 'global', 'globo', 'gnr', 'godinho', 'gold', 'golden', 'goleada', 'goleia', 'golfe', 'golfo', 'golo', 'golos', 'golpe', 'gomes', 'gondomar', 'gonçalo', 'gonçalves', 'google', 'gosta', 'gosto', 'gouveia', 'governador', 'governamentais', 'governamental', 'governante', 'governação', 'governo', 'governos', 'gp', 'grand', 'grande', 'grandes', 'gratuita', 'grau', 'graus', 'grave', 'gravemente', 'graves', 'gravidade', 'gravidez', 'graça', 'graças', 'grega', 'grego', 'gregos', 'greve', 'greves', 'gripe', 'grupo', 'grupos', 'grávida', 'grécia', 'guaidó', 'guarda', 'guardas', 'guardiola', 'guedes', 'guerra', 'guia', 'guilherme', 'guimarães', 'guineense', 'guineenses', 'guiné', 'gulbenkian', 'guterres', 'gás', 'género', 'h', 'h1n1', 'habitantes', 'habitação', 'habitações', 'habitual', 'haiti', 'hamas', 'hamilton', 'harry', 'haverá', 'haxixe', 'hectares', 'helena', 'helicóptero', 'henrique', 'henriques', 'herói', 'hillary', 'hipótese', 'hipóteses', 'história', 'histórias', 'histórica', 'histórico', 'históricos', 'hojeamanhã', 'holanda', 'holandês', 'hollywood', 'homem', 'homenageia', 'homenagem', 'homens', 'homicídio', 'homossexuais', 'homóloga', 'homólogo', 'homólogos', 'honda', 'honduras', 'hong', 'honra', 'horta', 'horário', 'horários', 'hospitais', 'hospital', 'hospitalar', 'hospitalares', 'hotel', 'hotelaria', 'hotéis', 'hugo', 'hulk', 'humana', 'humanidade', 'humanitária', 'humano', 'humanos', 'humor', 'hungria', 'hélder', 'hóquei', 'ia', 'ibero', 'ibérica', 'ibérico', 'idade', 'idai', 'ideal', 'ideia', 'ideias', 'identidade', 'identificar', 'identificação', 'identificou', 'idosa', 'idoso', 'idosos', 'igreja', 'igual', 'igualdade', 'ii', 'ilegais', 'ilegal', 'ilha', 'ilhas', 'im', 'imagem', 'imagens', 'imediata', 'imediato', 'imi', 'imigrantes', 'imigração', 'imobiliário', 'impacto', 'impasse', 'impede', 'impedir', 'implementação', 'implica', 'impor', 'importante', 'importantes', 'importações', 'impossível', 'imposto', 'impostos', 'imprensa', 'impõe', 'imóveis', 'in', 'inaceitável', 'inaugura', 'inaugurada', 'inaugurado', 'inaugural', 'inauguração', 'incentivos', 'incerteza', 'incidente', 'incidentes', 'inclui', 'incluir', 'inclusão', 'incumprimento', 'incêndio', 'incêndios', 'indemnização', 'indemnizações', 'independente', 'independentes', 'independência', 'indica', 'indicador', 'indicadores', 'indicam', 'indicaram', 'individual', 'indivíduos', 'indonésia', 'industriais', 'industrial', 'indícios', 'indústria', 'ine', 'inem', 'infantil', 'infarmed', 'inferior', 'inflação', 'influência', 'informa', 'informaram', 'informação', 'informações', 'informática', 'informático', 'infraestruturas', 'infância', 'inglaterra', 'inglesa', 'ingleses', 'inglês', 'inicia', 'inicial', 'inicialmente', 'iniciam', 'iniciaram', 'iniciativa', 'iniciativas', 'iniciou', 'inovação', 'inquérito', 'inscritos', 'insiste', 'insolvência', 'inspeção', 'instabilidade', 'instagram', 'instalar', 'instalação', 'instalações', 'institucional', 'instituição', 'instituições', 'instituto', 'instrumento', 'instrução', 'instância', 'insuficiente', 'integra', 'integrada', 'integrado', 'integral', 'integram', 'integrar', 'integração', 'integridade', 'inteligência', 'intenção', 'inter', 'interessados', 'interesse', 'interesses', 'interino', 'interior', 'intermunicipal', 'interna', 'internacionais', 'internacional', 'internacionalização', 'internado', 'international', 'internet', 'interno', 'intervalo', 'intervenção', 'intervenções', 'intervir', 'introdução', 'inundações', 'inverno', 'investe', 'investidores', 'investiga', 'investigado', 'investigador', 'investigadores', 'investigar', 'investigação', 'investigações', 'investimento', 'investimentos', 'investir', 'inácio', 'inédita', 'inédito', 'inês', 'início', 'iorque', 'ip', 'iphone', 'ipma', 'iraniano', 'iraque', 'iria', 'irlanda', 'irlandês', 'irmã', 'irmão', 'irmãos', 'irregularidades', 'irs', 'irão', 'isabel', 'isaltino', 'isenção', 'islâmico', 'islândia', 'israel', 'israelita', 'israelitas', 'istambul', 'italiana', 'italiano', 'italianos', 'itália', 'iva', 'izmailov', 'iémen', 'j', 'jackpot', 'jackson', 'jaime', 'jair', 'james', 'jan', 'janeiro', 'jantar', 'japonesa', 'japonês', 'japão', 'jardim', 'jazz', 'jean', 'jerusalém', 'jerónimo', 'jesualdo', 'jesus', 'joana', 'joaquim', 'joelho', 'joga', 'jogador', 'jogadores', 'jogar', 'jogo', 'jogos', 'john', 'jones', 'jong', 'jorge', 'jornada', 'jornadas', 'jornais', 'jornal', 'jornalismo', 'jornalista', 'jornalistas', 'josé', 'jovem', 'jovens', 'joão', 'juan', 'judiciais', 'judicial', 'judiciária', 'juiz', 'julgado', 'julgados', 'julgamento', 'julgar', 'julho', 'juncker', 'junho', 'juniores', 'junta', 'juntam', 'juntamente', 'juntar', 'juntas', 'juntos', 'juntou', 'juro', 'juros', 'jurídico', 'justa', 'justifica', 'justificou', 'justiça', 'justo', 'juventude', 'juventus', 'juíza', 'juízes', 'júlio', 'júnior', 'júri', 'kadhafi', 'kahn', 'kate', 'khashoggi', 'kim', 'km', 'kong', 'kosovo', 'kyi', 'l', 'la', 'laborais', 'laboral', 'laboratório', 'laden', 'lagoa', 'lagos', 'lamenta', 'lamentou', 'lança', 'lançada', 'lançado', 'lançam', 'lançamento', 'lançar', 'lançou', 'lar', 'laranja', 'largo', 'las', 'lateral', 'latina', 'lc', 'le', 'league', 'legais', 'legal', 'legislativa', 'legislativas', 'legislatura', 'legislação', 'lei', 'leia', 'leilão', 'leiria', 'leis', 'leite', 'leitor', 'leitores', 'leitura', 'leixões', 'lembra', 'lembrando', 'lembrou', 'leonardo', 'leonino', 'ler', 'lesados', 'leslie', 'leste', 'lesão', 'letivo', 'letras', 'leva', 'levado', 'levam', 'levantamento', 'levaram', 'levou', 'leão', 'leões', 'liberdade', 'libertado', 'libertar', 'libertação', 'licença', 'lidar', 'lidera', 'liderada', 'liderado', 'liderança', 'liderar', 'liedson', 'liga', 'ligada', 'ligadas', 'ligados', 'ligação', 'ligações', 'ligeira', 'ligeiramente', 'ligeiro', 'ligeiros', 'lima', 'limitar', 'limitações', 'limite', 'limites', 'limpeza', 'linha', 'linhas', 'lisboa', 'lisboeta', 'lista', 'listas', 'literatura', 'literário', 'litoral', 'liverpool', 'livre', 'livres', 'livro', 'livros', 'lixo', 'lo', 'lobo', 'locais', 'localidade', 'loja', 'lojas', 'londres', 'longa', 'longo', 'lopes', 'loureiro', 'lourenço', 'loures', 'louçã', 'lua', 'luanda', 'lucro', 'lucros', 'lugares', 'luis', 'luisão', 'luiz', 'lula', 'lusa', 'luso', 'lusófonos', 'luta', 'lutar', 'luxemburgo', 'luxo', 'luz', 'luís', 'luísa', 'lyon', 'lê', 'líbia', 'líbio', 'líder', 'líderes', 'língua', 'líquido', 'm', 'macau', 'macedo', 'macedónia', 'machado', 'macron', 'madeira', 'madeirense', 'madeirenses', 'madonna', 'madrid', 'madrugada', 'maduro', 'mafra', 'magalhães', 'magistrados', 'magnitude', 'mai', 'maia', 'maio', 'maiores', 'malparado', 'malta', 'malásia', 'manchester', 'manda', 'mandado', 'mandato', 'mandela', 'manhã', 'manifesta', 'manifestam', 'manifestantes', 'manifestaram', 'manifestação', 'manifestações', 'manifestou', 'mantendo', 'manter', 'manteve', 'mantiveram', 'mantêm', 'manuel', 'manuela', 'manutenção', 'mapa', 'maputo', 'mar', 'maradona', 'maratona', 'marca', 'marcada', 'marcadas', 'marcado', 'marcador', 'marcam', 'marcar', 'marcaram', 'marcas', 'marcelo', 'marcha', 'marco', 'marcos', 'marcou', 'marfim', 'margem', 'maria', 'mariano', 'marido', 'marinha', 'marinho', 'mark', 'marketing', 'marques', 'marquês', 'marrocos', 'marselha', 'marta', 'martin', 'martins', 'março', 'marítima', 'marítimo', 'masculino', 'massa', 'massacre', 'masters', 'mata', 'matar', 'mataram', 'matemática', 'materiais', 'material', 'maternidade', 'mato', 'matos', 'matosinhos', 'matou', 'matéria', 'matérias', 'mau', 'maus', 'may', 'mclaren', 'meados', 'mecanismo', 'mecanismos', 'medalha', 'medalhas', 'media', 'medicamento', 'medicamentos', 'medicina', 'medidas', 'medina', 'mediterrâneo', 'medo', 'meghan', 'meia', 'meias', 'meios', 'melhorar', 'melhores', 'melhoria', 'melo', 'membro', 'membros', 'memorando', 'memória', 'memórias', 'mendes', 'menezes', 'menina', 'menino', 'menores', 'mensagem', 'mensagens', 'mensal', 'mental', 'meo', 'mercado', 'mercadorias', 'mercados', 'mercedes', 'merkel', 'mesa', 'mesquita', 'messi', 'mestre', 'meta', 'metade', 'metas', 'meteorologia', 'metragem', 'metro', 'metropolitana', 'metropolitano', 'metros', 'meuro', 'mexia', 'mexicano', 'miami', 'michael', 'michel', 'michelle', 'microsoft', 'migrantes', 'migrações', 'miguel', 'mike', 'milan', 'milhares', 'milhão', 'milhões', 'milionário', 'militantes', 'militar', 'militares', 'milão', 'mim', 'mina', 'minas', 'mineiros', 'minho', 'mini', 'ministra', 'ministro', 'ministros', 'ministério', 'ministérios', 'minuto', 'minutos', 'mira', 'miranda', 'misericórdia', 'missa', 'missão', 'missões', 'mne', 'mobilidade', 'mobilização', 'mobiliários', 'moda', 'modalidade', 'modelo', 'modelos', 'modernização', 'modo', 'moeda', 'moedas', 'momentos', 'monchique', 'monetária', 'monetário', 'moniz', 'montanha', 'montante', 'monte', 'monteiro', 'montemor', 'montenegro', 'montepio', 'montes', 'montijo', 'monumento', 'moody', 'moon', 'moradores', 'morais', 'moreira', 'moreirense', 'morre', 'morrem', 'morrer', 'morreram', 'morreu', 'morta', 'mortais', 'mortal', 'mortas', 'morte', 'mortes', 'morto', 'mortos', 'moscovo', 'mostra', 'mostram', 'mostrar', 'mostrou', 'mota', 'motivo', 'motivos', 'motociclismo', 'motogp', 'motor', 'motoristas', 'moura', 'mourinho', 'moutinho', 'movimento', 'movimentos', 'moçambicana', 'moçambicano', 'moçambicanos', 'moçambique', 'moção', 'mp', 'mpla', 'mso', 'muammar', 'mubarak', 'muda', 'mudança', 'mudanças', 'mudar', 'mudou', 'muita', 'mulher', 'mulheres', 'multa', 'multas', 'multibanco', 'mundiais', 'mundial', 'mundial2010', 'mundial2018', 'mundo', 'municipais', 'municipal', 'município', 'municípios', 'munique', 'muro', 'museu', 'museus', 'musical', 'muçulmanos', 'má', 'máquina', 'máquinas', 'mário', 'máxima', 'máximos', 'mãe', 'mão', 'mãos', 'média', 'médias', 'médica', 'médicas', 'médico', 'médicos', 'médio', 'mérito', 'méxico', 'mínimo', 'mínimos', 'mísseis', 'mónaco', 'móveis', 'móvel', 'música', 'músicas', 'músico', 'músicos', 'n', 'nacionais', 'nacional', 'nacionalidade', 'nadal', 'namorada', 'namorado', 'nani', 'nasa', 'nasceu', 'nascido', 'nascimento', 'natal', 'natação', 'nato', 'naturais', 'natural', 'natureza', 'naufrágio', 'naval', 'navegação', 'navio', 'navios', 'nazaré', 'nação', 'nações', 'nba', 'necessidade', 'necessidades', 'necessária', 'necessárias', 'necessários', 'nega', 'negativa', 'negativo', 'negativos', 'negoceia', 'negociar', 'negociação', 'negociações', 'negou', 'negra', 'negro', 'negócio', 'negócios', 'nelson', 'net', 'netanyahu', 'neto', 'neve', 'neves', 'new', 'news', 'nicarágua', 'nicolas', 'nicolás', 'nigéria', 'nikkei', 'ninguém', 'nissan', 'nobel', 'nobre', 'nogueira', 'noite', 'nomeado', 'nomeados', 'nomeação', 'nomeações', 'nomes', 'nona', 'nono', 'nordeste', 'normal', 'normalidade', 'normas', 'noroeste', 'norte', 'noruega', 'nota', 'notas', 'notação', 'noticia', 'noticiosa', 'noticiou', 'notícia', 'notícias', 'nova', 'novamente', 'novela', 'novembro', 'novidade', 'novidades', 'nuclear', 'nucleares', 'nunes', 'nuno', 'nápoles', 'níveis', 'números', 'obama', 'objectivo', 'objectivos', 'objetivo', 'objetivos', 'obra', 'obras', 'obriga', 'obrigados', 'obrigar', 'obrigatória', 'obrigatório', 'obrigação', 'obrigações', 'obrigou', 'observatório', 'obter', 'obteve', 'ocasião', 'ocde', 'oceano', 'oceanos', 'ocidental', 'ocorrido', 'oculta', 'ocupa', 'ocupação', 'oe', 'oe2011', 'oe2019', 'oeiras', 'oeste', 'ofensiva', 'oferece', 'oferecer', 'oferta', 'off', 'oficiais', 'oficial', 'oficialmente', 'oi', 'oitavos', 'olhanense', 'olhar', 'olhos', 'oliveira', 'oliveirense', 'olímpico', 'olímpicos', 'oms', 'on', 'onda', 'ondas', 'ong', 'online', 'onu', 'opa', 'open', 'operacionais', 'operacional', 'operado', 'operadora', 'operadores', 'operar', 'operação', 'operações', 'opinião', 'oportunidade', 'oportunidades', 'opositores', 'oposição', 'optimus', 'opção', 'opções', 'ordem', 'ordenou', 'ordens', 'organismo', 'organiza', 'organizada', 'organizado', 'organizar', 'organização', 'organizações', 'orgulho', 'oriental', 'oriente', 'origem', 'original', 'orlando', 'orquestra', 'orçamentais', 'orçamental', 'orçamento', 'ouro', 'out', 'outono', 'outubro', 'ouvido', 'ouvidos', 'ouvir', 'ovar', 'p', 'pablo', 'pacheco', 'paciência', 'pacote', 'pacto', 'pacífico', 'padre', 'paga', 'pagam', 'pagamento', 'pagamentos', 'pagar', 'pagas', 'pago', 'pagos', 'pagou', 'pai', 'pais', 'paixão', 'palavra', 'palavras', 'palco', 'palcos', 'palestiniano', 'palestinianos', 'palma', 'palmela', 'palácio', 'pan', 'panamá', 'papa', 'papel', 'paquistão', 'par', 'paragem', 'paralisação', 'parar', 'parceiro', 'parceiros', 'parceria', 'parcerias', 'parcial', 'parecer', 'paredes', 'paris', 'parlamentar', 'parlamentares', 'parlamento', 'parque', 'parques', 'partes', 'participa', 'participam', 'participantes', 'participar', 'participaram', 'participação', 'participou', 'particular', 'particulares', 'partida', 'partido', 'partidos', 'partilha', 'partiu', 'passado', 'passageiros', 'passagem', 'passam', 'passando', 'passaram', 'passe', 'passeio', 'passes', 'passo', 'passos', 'patente', 'patins', 'património', 'patrício', 'paul', 'paula', 'paulo', 'pavilhão', 'paz', 'paço', 'paços', 'país', 'países', 'pcp', 'pe', 'pec', 'pede', 'pedem', 'pedido', 'pedidos', 'pedindo', 'pediram', 'pediu', 'pedofilia', 'pedra', 'pedras', 'pedro', 'pedrógão', 'peixe', 'pele', 'pena', 'penafiel', 'penal', 'penas', 'peniche', 'pensa', 'pensar', 'pensões', 'penálti', 'península', 'pepe', 'pequena', 'pequenas', 'pequeno', 'pequenos', 'pequim', 'perceber', 'percentuais', 'percurso', 'perda', 'perdas', 'perde', 'perdem', 'perderam', 'perdeu', 'perdido', 'pereira', 'perfil', 'pergunta', 'perguntas', 'perigo', 'peritos', 'permanente', 'permanência', 'permitem', 'permitir', 'permitirá', 'permitiu', 'perpétua', 'perseguição', 'personagem', 'personalidades', 'perspetiva', 'peru', 'período', 'pesado', 'pesar', 'pesca', 'pescadores', 'pescas', 'peso', 'pessoa', 'pessoais', 'pessoal', 'pessoas', 'peter', 'petição', 'petrolífera', 'petróleo', 'pev', 'peça', 'peças', 'pgr', 'pia', 'pianista', 'pib', 'pico', 'piloto', 'pilotos', 'pinheiro', 'pinho', 'pinto', 'pintor', 'pintura', 'pior', 'piores', 'piratas', 'pires', 'pista', 'pj', 'planeamento', 'planeta', 'plano', 'planos', 'plantel', 'plataforma', 'plataformas', 'play', 'plena', 'pleno', 'plenário', 'plástico', 'pm', 'pme', 'pobres', 'pobreza', 'poderes', 'poesia', 'poeta', 'polaco', 'pole', 'policiais', 'policial', 'politécnico', 'poluição', 'polémica', 'polémicas', 'polémico', 'polícia', 'polícias', 'política', 'políticas', 'político', 'políticos', 'polónia', 'pombal', 'pondera', 'ponta', 'ponte', 'pontes', 'pop', 'popular', 'populares', 'população', 'populações', 'porsche', 'porta', 'portagens', 'portal', 'portalegre', 'portas', 'portimonense', 'portimão', 'portista', 'porto', 'portos', 'portugal', 'portuguesa', 'portuguesas', 'portugueses', 'português', 'positiva', 'positivo', 'positivos', 'posições', 'posse', 'possibilidade', 'possíveis', 'posto', 'postos', 'potencial', 'poucas', 'poupança', 'poupar', 'pp', 'pr', 'praia', 'praias', 'prata', 'praticamente', 'prazo', 'prazos', 'praça', 'precariedade', 'precisa', 'precisam', 'precários', 'prejuízo', 'prejuízos', 'preocupa', 'preocupada', 'preocupado', 'preocupados', 'preocupante', 'preocupação', 'preocupações', 'prepara', 'preparada', 'preparado', 'preparam', 'preparar', 'preparação', 'presente', 'presentes', 'presença', 'presidenciais', 'presidencial', 'presidente', 'presidentes', 'presidência', 'preso', 'presos', 'press', 'pressão', 'pressões', 'prestar', 'prestação', 'prestações', 'prestes', 'pretendem', 'prevenir', 'preventiva', 'prevenção', 'prevista', 'previstas', 'previsto', 'previstos', 'previsão', 'previsões', 'prevê', 'preço', 'preços', 'primavera', 'primeira', 'primeiro', 'princesa', 'principais', 'principal', 'principalmente', 'princípio', 'prioridade', 'prioridades', 'prisionais', 'prisional', 'prisão', 'prisões', 'privada', 'privadas', 'privado', 'privados', 'privatização', 'pro', 'problema', 'problemas', 'procedimento', 'procedimentos', 'processar', 'processo', 'processos', 'procura', 'procurador', 'procuradora', 'procuradoria', 'procuram', 'procurar', 'produto', 'produtor', 'produtores', 'produtos', 'produzir', 'produção', 'proença', 'professor', 'professora', 'professores', 'profissionais', 'profissional', 'profissão', 'profunda', 'profundamente', 'programa', 'programas', 'programação', 'progressos', 'proibida', 'proibido', 'proibir', 'proibição', 'projecto', 'projectos', 'projeto', 'projetos', 'prolonga', 'prolongamento', 'prolongar', 'promessa', 'promessas', 'promete', 'prometem', 'prometeu', 'promove', 'promover', 'promovido', 'promoção', 'pronta', 'pronto', 'propor', 'proposta', 'propostas', 'proposto', 'propriedade', 'proprietário', 'proprietários', 'propósito', 'propôs', 'propõe', 'protagonista', 'protagonistas', 'protecção', 'proteger', 'protestam', 'protestar', 'protesto', 'protestos', 'proteção', 'protocolo', 'prova', 'provar', 'provas', 'provavelmente', 'provedor', 'providência', 'provisoriamente', 'provoca', 'provocado', 'provocar', 'provocaram', 'provocou', 'provável', 'província', 'proximidade', 'proíbe', 'prática', 'práticas', 'pré', 'prédio', 'prémio', 'prémios', 'príncipe', 'pró', 'ps', 'psd', 'psi', 'psi20', 'psp', 'pt', 'publica', 'publicada', 'publicado', 'publicados', 'publicar', 'publicação', 'publicidade', 'publicou', 'puigdemont', 'putin', 'pyongyang', 'página', 'páginas', 'páscoa', 'pão', 'pé', 'pódio', 'pós', 'póvoa', 'pôr', 'pôs', 'pública', 'públicas', 'público', 'públicos', 'qaeda', 'qatar', 'qimonda', 'quadro', 'quadros', 'qualidade', 'qualificada', 'qualificação', 'qualificou', 'quantidade', 'quaresma', 'quarta', 'quartel', 'quarto', 'quartos', 'quase', 'quebra', 'queda', 'quedas', 'queiroz', 'queixa', 'queixam', 'queixas', 'quente', 'quercus', 'querer', 'queria', 'questiona', 'questionado', 'questionou', 'questões', 'quilos', 'quilómetros', 'quinta', 'quis', 'quotas', 'r', 'race', 'racismo', 'radical', 'rafael', 'rainha', 'rajoy', 'rali', 'ramos', 'rangel', 'ranking', 'rapaz', 'rapidamente', 'rapto', 'rating', 'raul', 'razão', 'razões', 'raúl', 'rdcongo', 'reabilitação', 'reabre', 'reafirma', 'reafirmou', 'reagiu', 'reais', 'real', 'realidade', 'realiza', 'realizada', 'realizadas', 'realizado', 'realizador', 'realizados', 'realizam', 'realização', 'realizou', 'reação', 'rebeldes', 'rebelo', 'recebe', 'recebem', 'receber', 'receberam', 'recebido', 'receita', 'receitas', 'recenseamento', 'recente', 'recentemente', 'recentes', 'recepção', 'recessão', 'receção', 'reclama', 'reclamações', 'reclusos', 'recolha', 'recolher', 'recomenda', 'recomendações', 'reconhece', 'reconhecer', 'reconheceu', 'reconhecimento', 'reconstrução', 'recorda', 'recorde', 'recordes', 'recordou', 'recorre', 'recorrer', 'recua', 'recuar', 'recuo', 'recuou', 'recupera', 'recuperar', 'recuperação', 'recuperou', 'recurso', 'recursos', 'recusa', 'recusam', 'recusar', 'recusou', 'recém', 'red', 'redação', 'rede', 'redes', 'reduz', 'reduzida', 'reduzido', 'reduziu', 'redução', 'reeleito', 'reeleição', 'reestruturação', 'refeições', 'referendo', 'referindo', 'referência', 'reflexão', 'reforma', 'reformados', 'reformas', 'reforça', 'reforçar', 'reforço', 'reforços', 'reforçou', 'refugiados', 'reféns', 'regime', 'regionais', 'regional', 'regista', 'registada', 'registadas', 'registado', 'registados', 'registar', 'registaram', 'registo', 'registos', 'registou', 'região', 'regiões', 'rego', 'regras', 'regressa', 'regressam', 'regressar', 'regresso', 'regressou', 'regulador', 'reguladora', 'regulamento', 'regular', 'regulação', 'rei', 'reino', 'reis', 'reitera', 'reiterou', 'reitor', 'reivindicações', 'rejeita', 'rejeitou', 'relacionadas', 'relacionados', 'relativa', 'relativo', 'relativos', 'relatório', 'relações', 'religião', 'relvado', 'relvas', 'relógio', 'remodelação', 'ren', 'renamo', 'renato', 'renault', 'rendas', 'rendimento', 'rendimentos', 'renova', 'renovar', 'renovação', 'renovou', 'renováveis', 'renúncia', 'repetir', 'reportagem', 'reposição', 'representam', 'representante', 'representantes', 'representar', 'representação', 'repressão', 'republicana', 'republicano', 'república', 'requalificação', 'requerimento', 'rescisão', 'reserva', 'reservas', 'resgatados', 'resgate', 'residente', 'residentes', 'residência', 'residências', 'resistência', 'resolução', 'resolver', 'respeitar', 'respeito', 'respetivamente', 'responde', 'responder', 'respondeu', 'responsabilidade', 'responsabilidades', 'responsáveis', 'responsável', 'resposta', 'respostas', 'restantes', 'restaurante', 'restaurantes', 'restauração', 'resto', 'restrições', 'resulta', 'resultado', 'resultados', 'resultou', 'resíduos', 'retalho', 'retira', 'retirada', 'retirar', 'retoma', 'retomar', 'retorno', 'retrato', 'reunidos', 'reunir', 'reuniu', 'reunião', 'reuniões', 'revelado', 'revelam', 'revelar', 'revelaram', 'revelação', 'rever', 'revista', 'revisão', 'revolta', 'revolução', 'revê', 'reúne', 'reúnem', 'ribeira', 'ribeiro', 'ricardo', 'richter', 'rico', 'ricos', 'rigor', 'rio', 'risco', 'riscos', 'rita', 'ritmo', 'rivais', 'rival', 'robert', 'roberto', 'rocha', 'rock', 'rodoviária', 'rodrigo', 'rodrigues', 'roger', 'roland', 'roma', 'romance', 'roménia', 'ronaldo', 'ronda', 'rosa', 'rosto', 'rota', 'roubado', 'roubar', 'roubo', 'roubos', 'roupa', 'rousseff', 'rtp', 'rtp1', 'rua', 'ruas', 'ruben', 'rui', 'rumo', 'rurais', 'rural', 'russa', 'russo', 'russos', 'rutura', 'ryanair', 'rádio', 'rápida', 'rápido', 'râguebi', 'rúben', 'rússia', 's', 'sabia', 'sad', 'sai', 'saiba', 'saint', 'sair', 'saiu', 'sal', 'sala', 'salariais', 'salarial', 'salas', 'saldo', 'salgado', 'salientando', 'salientou', 'salto', 'salva', 'salvador', 'salvar', 'salário', 'salários', 'salão', 'sampaio', 'san', 'saneamento', 'sangue', 'santa', 'santana', 'santander', 'santarém', 'santiago', 'santo', 'santos', 'santuário', 'sanções', 'sapadores', 'sara', 'saramago', 'sarampo', 'sarkozy', 'sata', 'satisfeito', 'satélite', 'saudita', 'saudou', 'saudável', 'saída', 'saíram', 'saúda', 'saúde', 'scut', 'seca', 'secretaria', 'secretas', 'secretos', 'secretária', 'secretário', 'sector', 'secundária', 'secundário', 'secção', 'sede', 'sef', 'segredo', 'segredos', 'segue', 'seguem', 'seguia', 'seguida', 'seguido', 'seguindo', 'seguinte', 'segunda', 'segundos', 'segura', 'segurança', 'seguro', 'seguros', 'seixal', 'seleccionador', 'selecionador', 'selecção', 'seleção', 'seleções', 'semana', 'semanas', 'semelhante', 'semestre', 'senado', 'senhor', 'senhora', 'sente', 'sentença', 'sentimento', 'sentir', 'separação', 'sequestro', 'sequência', 'serra', 'serralves', 'serve', 'servir', 'serviço', 'serviços', 'sessão', 'sessões', 'set', 'setembro', 'setor', 'setores', 'setúbal', 'seul', 'sevilha', 'sexo', 'sexta', 'sexuais', 'sexual', 'share', 'show', 'sic', 'sida', 'significativa', 'significativo', 'silva', 'silêncio', 'simples', 'simão', 'sinais', 'sinal', 'sindicais', 'sindical', 'sindicato', 'sindicatos', 'sines', 'singapura', 'sinopse', 'sintra', 'sismo', 'sistema', 'sistemas', 'site', 'situação', 'situações', 'siza', 'skripal', 'slam', 'sns', 'soares', 'sobe', 'sobem', 'soberana', 'soberania', 'sobral', 'sociais', 'social', 'socialista', 'socialistas', 'sociedade', 'sociedades', 'socorro', 'sofia', 'sofre', 'sofrer', 'sofreu', 'sol', 'solar', 'soldado', 'soldados', 'solidariedade', 'solidário', 'solo', 'solução', 'soluções', 'som', 'soma', 'somália', 'sonae', 'sondagem', 'sondagens', 'sonho', 'sorte', 'sorteio', 'soube', 'sousa', 'sozinho', 'sp', 'sport', 'sporting', 'sprint', 'standard', 'steve', 'strauss', 'street', 'stress', 'sub', 'subida', 'subidas', 'subir', 'subiram', 'subiu', 'sublinha', 'sublinhando', 'submarinos', 'substitui', 'substituir', 'substituição', 'subsídio', 'subsídios', 'sucesso', 'sucessor', 'sudoeste', 'sudão', 'sueca', 'sueco', 'suficiente', 'suficientes', 'sugere', 'suicida', 'suicídio', 'sul', 'summit', 'super', 'superar', 'superior', 'superiores', 'supermercado', 'supermercados', 'supertaça', 'supervisão', 'supremo', 'surf', 'surge', 'surgiu', 'surpreendido', 'surpresa', 'surto', 'suspeita', 'suspeitas', 'suspeito', 'suspeitos', 'suspende', 'suspender', 'suspendeu', 'suspensa', 'suspensas', 'suspenso', 'suspensão', 'sustentabilidade', 'sustentável', 'suu', 'suécia', 'suíça', 'suíço', 'sá', 'sábado', 'sánchez', 'século', 'sérgio', 'série', 'sério', 'sérvia', 'sérvio', 'síntese', 'síria', 'sírio', 'sítio', 'sócios', 'sócrates', 't', 'tabaco', 'tabela', 'tailândia', 'taiwan', 'talento', 'talibãs', 'tancos', 'tap', 'tarde', 'tarifas', 'tavares', 'taxa', 'taxas', 'taxistas', 'taça', 'tc', 'teatro', 'tecnologia', 'tecnologias', 'tecnológica', 'tecnológico', 'teerão', 'teixeira', 'tejo', 'telecom', 'telecomunicações', 'telefone', 'telefónica', 'telemóveis', 'telemóvel', 'televisão', 'tema', 'temas', 'teme', 'temer', 'temperatura', 'temperaturas', 'tempestade', 'temporada', 'temporadas', 'tempos', 'tendência', 'tenista', 'tensão', 'tensões', 'tenta', 'tentam', 'tentativa', 'tentou', 'terceira', 'teresa', 'termina', 'terminal', 'terminar', 'terminou', 'termo', 'termos', 'terra', 'terras', 'terreno', 'terrenos', 'territorial', 'território', 'territórios', 'terror', 'terrorismo', 'terrorista', 'terroristas', 'terça', 'terço', 'tesla', 'tesouro', 'teste', 'testemunha', 'testemunhas', 'testes', 'texto', 'tgv', 'theresa', 'tiago', 'tido', 'times', 'timor', 'timorense', 'tirar', 'tiro', 'tiros', 'tiroteio', 'tirso', 'titular', 'titulares', 'tolerância', 'tom', 'toma', 'tomada', 'tomadas', 'tomense', 'tomou', 'tomás', 'tomé', 'tondela', 'toneladas', 'tony', 'top', 'topo', 'torna', 'tornar', 'torneio', 'torno', 'torre', 'torres', 'total', 'totalidade', 'totalmente', 'totoloto', 'tour', 'toyota', 'trabalha', 'trabalhador', 'trabalhadores', 'trabalham', 'trabalho', 'trabalhos', 'tradicionais', 'tradicional', 'tradição', 'traficantes', 'tragédia', 'transações', 'transferir', 'transferência', 'transferências', 'transformar', 'transformação', 'transição', 'transmissão', 'transparência', 'transportadora', 'transporte', 'transportes', 'trata', 'tratado', 'tratamento', 'tratamentos', 'tratar', 'tratos', 'trava', 'travar', 'traz', 'trazer', 'treinador', 'treinadores', 'treinar', 'treino', 'treinos', 'tribunais', 'tribunal', 'trimestre', 'trindade', 'trinta', 'triplo', 'tripoli', 'tripulantes', 'triunfo', 'triunfos', 'troca', 'troféu', 'troika', 'tropas', 'troço', 'trump', 'tráfego', 'tráfico', 'trás', 'trânsito', 'tsf', 'tsunami', 'tunísia', 'turca', 'turco', 'turismo', 'turistas', 'turquia', 'turística', 'turístico', 'tutela', 'tv', 'tvi', 'twitter', 'táxis', 'técnica', 'técnicas', 'técnico', 'técnicos', 'ténis', 'têxtil', 'título', 'títulos', 'tóquio', 'túnel', 'uber', 'ucrânia', 'ue', 'uefa', 'ugt', 'ultrapassa', 'ultrapassar', 'ultrapassou', 'un', 'unanimidade', 'unesco', 'unidade', 'unidades', 'unidas', 'unido', 'unidos', 'united', 'universal', 'universidade', 'universidades', 'universitário', 'universo', 'união', 'urbana', 'urbano', 'urbanos', 'urgente', 'urgentes', 'urgência', 'urgências', 'urnas', 'uruguai', 'usada', 'usado', 'usados', 'uso', 'usou', 'utentes', 'utilizado', 'utilizadores', 'utilizar', 'utilização', 'v', 'vacina', 'vacinas', 'vacinação', 'vaga', 'vagas', 'vale', 'valença', 'valer', 'valeu', 'valongo', 'valores', 'valorizar', 'valorização', 'valência', 'van', 'vantagem', 'vara', 'varzim', 'vasco', 'vasconcelos', 'vaticano', 'vaz', 'vedras', 'veio', 'velha', 'velho', 'velocidade', 'veloso', 'vence', 'vencedor', 'vencedora', 'vencedores', 'vencem', 'vencer', 'venceram', 'venceu', 'venda', 'vendas', 'vende', 'vender', 'vendeu', 'vendido', 'vendidos', 'veneza', 'venezuela', 'venezuelana', 'venezuelano', 'venezuelanos', 'vento', 'verba', 'verbas', 'verdadeira', 'verde', 'verdes', 'verdiana', 'verdiano', 'vereador', 'vergonha', 'vermelha', 'vermelho', 'versão', 'verão', 'veto', 'vettel', 'veículo', 'veículos', 'vi', 'via', 'viagem', 'viagens', 'viajar', 'viana', 'vias', 'viatura', 'viaturas', 'viação', 'vice', 'vicente', 'victoria', 'vida', 'vidas', 'vieira', 'vigilância', 'vih', 'vila', 'villas', 'vinho', 'vinhos', 'violar', 'violação', 'violações', 'violenta', 'violento', 'violentos', 'violência', 'viram', 'virtual', 'visa', 'visando', 'viseu', 'visita', 'visitantes', 'visitar', 'visitas', 'visitou', 'vista', 'visto', 'vistos', 'visão', 'vital', 'vitorino', 'vitória', 'vitórias', 'viu', 'viva', 'vive', 'vivem', 'viver', 'viveu', 'vivo', 'vizinho', 'vizinhos', 'vladimir', 'vodafone', 'voleibol', 'volkswagen', 'voltam', 'voltaram', 'voltou', 'volume', 'voluntários', 'vontade', 'voo', 'voos', 'vota', 'votado', 'votar', 'votação', 'voto', 'votos', 'vou', 'voz', 'vozes', 'vulcão', 'véspera', 'vê', 'vídeo', 'vídeos', 'vírus', 'vítima', 'vítimas', 'vítor', 'wall', 'washington', 'watch', 'web', 'wikileaks', 'william', 'williams', 'world', 'x', 'xangai', 'xavier', 'xi', 'xvi', 'xx', 'xxi', 'york', 'youtube', 'zapatero', 'zelândia', 'zimbabué', 'zon', 'zona', 'zonas', 'ª', 'º', 'áfrica', 'água', 'águas', 'álbum', 'álcool', 'álvaro', 'árabe', 'árabes', 'árbitro', 'árbitros', 'áreas', 'árvore', 'árvores', 'ásia', 'áudio', 'áustria', 'âmbito', 'época', 'épocas', 'ética', 'évora', 'êxito', 'índia', 'índice', 'óbidos', 'óbito', 'ópera', 'órgão', 'órgãos', 'óscar', 'óscares', 'última', 'últimos', 'única', 'único', 'útil']\n",
      "\n",
      "Vocabulary vectors:\n",
      "(4982, 9964)\n"
     ]
    }
   ],
   "source": [
    "hal_matrix, vocab, vocab_vectors = hal(train_set, 5, 300)\n",
    "\n",
    "print(\"HAL Matrix:\")\n",
    "print(hal_matrix.shape)\n",
    "\n",
    "print(\"\\nVocabulary:\")\n",
    "print(vocab)\n",
    "\n",
    "print(\"\\nVocabulary vectors:\")\n",
    "print(vocab_vectors.shape)"
   ]
  },
  {
   "cell_type": "code",
   "execution_count": null,
   "metadata": {},
   "outputs": [],
   "source": [
    "vocab_vectors_2 = np.load(\"vectors-vocab.npy\")  # with SVD\n",
    "vocab_2 = np.load(\"vocab.npy\").tolist()  # with SVD"
   ]
  },
  {
   "cell_type": "code",
   "execution_count": null,
   "metadata": {},
   "outputs": [],
   "source": [
    "from sklearn.metrics.pairwise import cosine_similarity\n",
    "\n",
    "\n",
    "\n",
    "def most_similar(word, vocab, vocab_vectors, n=5):\n",
    "    word_index = vocab.index(word)\n",
    "    word_vector = vocab_vectors[word_index]\n",
    "    similarities = cosine_similarity([word_vector], vocab_vectors)[0]\n",
    "    most_similar_indices = np.argsort(similarities)[-n - 1 : -1][::-1]\n",
    "    return [vocab[i] for i in most_similar_indices]"
   ]
  },
  {
   "cell_type": "code",
   "execution_count": null,
   "metadata": {},
   "outputs": [
    {
     "name": "stdout",
     "output_type": "stream",
     "text": [
      "(HAL) The 5 words most similar to 'aquecimento' are: ['pacto', 'votação', 'montante', 'temperatura', 'limitar']\n",
      "(SVD) The 5 words most similar to 'aquecimento' are: ['poluição', 'fenómenos', 'desflorestação', 'eficaz', 'padrões']\n"
     ]
    }
   ],
   "source": [
    "word = vocab[np.random.randint(0, len(vocab))]\n",
    "most_similar_words = most_similar(word, vocab, vocab_vectors, n=5)\n",
    "most_similar_words_2 = most_similar(word, vocab_2, vocab_vectors_2, n=5)\n",
    "\n",
    "print(f\"(HAL) The 5 words most similar to '{word}' are: {most_similar_words}\")\n",
    "print(f\"(SVD) The 5 words most similar to '{word}' are: {most_similar_words_2}\")"
   ]
  },
  {
   "cell_type": "code",
   "execution_count": 60,
   "metadata": {},
   "outputs": [],
   "source": [
    "# (HAL) The 5 words most similar to 'eurodeputados' are: ['emigrantes', 'empresários', 'bancos', 'artistas', 'filmes']\n",
    "# (SVD) The 5 words most similar to 'eurodeputados' are: ['deputados', 'hemiciclo', 'votação', 'estrasburgo', 'parlamentos']\n",
    "\n",
    "# (HAL) The 5 words most similar to 'aquecimento' are: ['pacto', 'votação', 'montante', 'temperatura', 'limitar']\n",
    "# (SVD) The 5 words most similar to 'aquecimento' are: ['poluição', 'fenómenos', 'desflorestação', 'eficaz', 'padrões']"
   ]
  },
  {
   "cell_type": "code",
   "execution_count": null,
   "metadata": {},
   "outputs": [],
   "source": [
    "def word_arithmetic(a, b, c, vocab, vocab_vectors, n=5):\n",
    "    a_index = vocab.index(a)\n",
    "    b_index = vocab.index(b)\n",
    "    c_index = vocab.index(c)\n",
    "\n",
    "    a_vector = vocab_vectors[a_index]\n",
    "    b_vector = vocab_vectors[b_index]\n",
    "    c_vector = vocab_vectors[c_index]\n",
    "\n",
    "    result_vector = a_vector - b_vector + c_vector\n",
    "\n",
    "    similarities = cosine_similarity([result_vector], vocab_vectors)[0]\n",
    "\n",
    "    top_n_indices = np.argsort(similarities)[-n:]\n",
    "\n",
    "    return [vocab[i] for i in reversed(top_n_indices)]"
   ]
  },
  {
   "cell_type": "code",
   "execution_count": null,
   "metadata": {},
   "outputs": [
    {
     "name": "stdout",
     "output_type": "stream",
     "text": [
      "'rei' - 'homem' + 'mulher' = ['mulher', 'esposa', 'fugiu', 'cunhado', 'empregado']\n"
     ]
    }
   ],
   "source": [
    "result_word = word_arithmetic(\"rei\", \"rainha\", \"mulher\", vocab, vocab_vectors)\n",
    "print(f\"'rei' - 'homem' + 'mulher' = {result_word}\")"
   ]
  },
  {
   "attachments": {},
   "cell_type": "markdown",
   "metadata": {},
   "source": [
    "# Trying some kind of glove"
   ]
  },
  {
   "cell_type": "code",
   "execution_count": null,
   "metadata": {},
   "outputs": [],
   "source": [
    "def coocc_matrix(sentences, window_size, min_occurrences=1):\n",
    "    word_counter = Counter()\n",
    "    sentences = [s.lower() for s in sentences]\n",
    "\n",
    "    for string in sentences:\n",
    "        word_counter.update(string.split())\n",
    "\n",
    "    vocab = set([k for k, v in word_counter.items() if v >= min_occurrences])\n",
    "    vocab = sorted(vocab)\n",
    "\n",
    "    vocab_size = len(vocab)\n",
    "    hal_matrix = np.zeros((vocab_size, vocab_size), dtype=np.float32)\n",
    "    word_to_idx = {word: i for i, word in enumerate(vocab)}\n",
    "    idx_to_word = {i: word for i, word in enumerate(vocab)}\n",
    "\n",
    "    for s in sentences:\n",
    "        tokens = s.split()\n",
    "        len_sentence = len(tokens)\n",
    "        for curr_i in range(len_sentence):\n",
    "            for less_i in range(1, window_size + 1):\n",
    "                before_i = curr_i - less_i\n",
    "                if before_i < 0:\n",
    "                    break\n",
    "                try:\n",
    "                    curr_word = tokens[curr_i]\n",
    "                    before_word = tokens[before_i]\n",
    "                    score = window_size - less_i + 1\n",
    "                    hal_matrix[word_to_idx[curr_word]][\n",
    "                        word_to_idx[before_word]\n",
    "                    ] += score\n",
    "                except:\n",
    "                    continue\n",
    "\n",
    "    return hal_matrix, vocab, word_to_idx, idx_to_word"
   ]
  },
  {
   "cell_type": "code",
   "execution_count": 266,
   "metadata": {},
   "outputs": [],
   "source": [
    "occ_matrix, vocab, word_to_idx, idx_to_word = coocc_matrix(train_set, 5, 200)"
   ]
  },
  {
   "cell_type": "code",
   "execution_count": 267,
   "metadata": {},
   "outputs": [
    {
     "data": {
      "text/plain": [
       "((6796, 6796), 6796)"
      ]
     },
     "execution_count": 267,
     "metadata": {},
     "output_type": "execute_result"
    }
   ],
   "source": [
    "occ_matrix.shape, len(vocab)"
   ]
  },
  {
   "cell_type": "code",
   "execution_count": null,
   "metadata": {},
   "outputs": [],
   "source": [
    "X_train = []\n",
    "len_matrix = len(occ_matrix)\n",
    "for i in range(len_matrix):\n",
    "    for j in range(len_matrix):\n",
    "        if occ_matrix[i][j] > 50:\n",
    "            X_train.append([i, j, np.log10(occ_matrix[i][j])])"
   ]
  },
  {
   "cell_type": "code",
   "execution_count": 276,
   "metadata": {},
   "outputs": [
    {
     "data": {
      "text/plain": [
       "160670"
      ]
     },
     "execution_count": 276,
     "metadata": {},
     "output_type": "execute_result"
    }
   ],
   "source": [
    "len(X_train)"
   ]
  },
  {
   "cell_type": "code",
   "execution_count": null,
   "metadata": {},
   "outputs": [],
   "source": [
    "def sgd_method(X_train, k, ld, lr, epochs, vocab_size):\n",
    "    M = np.random.rand(vocab_size, k)\n",
    "    M /= np.sum(M, axis=1).reshape(-1, 1)\n",
    "\n",
    "    U = np.random.rand(vocab_size, k)\n",
    "    U /= np.sum(U, axis=1).reshape(-1, 1)\n",
    "\n",
    "    for ep in range(epochs + 1):\n",
    "        total_err = 0\n",
    "        for i, j, r in X_train:\n",
    "            qi, pj = M[i], U[j]\n",
    "\n",
    "            eij = r - np.dot(qi, pj)\n",
    "            total_err += eij**2\n",
    "            M[i] = qi + lr * (eij * pj - ld * qi)\n",
    "            U[j] = pj + lr * (eij * qi - ld * pj)\n",
    "        if ep % 1 == 0:\n",
    "            print(f\"Error: {total_err:.4f}\")\n",
    "    return M, U"
   ]
  },
  {
   "cell_type": "code",
   "execution_count": null,
   "metadata": {},
   "outputs": [],
   "source": [
    "def continue_training(X_train, k, ld, lr, epochs, M, U):\n",
    "    for ep in range(epochs + 1):\n",
    "        total_err = 0\n",
    "        for i, j, r in X_train:\n",
    "            qi, pj = M[i], U[j]\n",
    "\n",
    "            eij = r - np.dot(qi, pj)\n",
    "            total_err += eij**2\n",
    "            M[i] = qi + lr * (eij * pj - ld * qi)\n",
    "            U[j] = pj + lr * (eij * qi - ld * pj)\n",
    "        if ep % 1 == 0:\n",
    "            print(f\"Error: {total_err:.4f}\")\n",
    "    return M, U"
   ]
  },
  {
   "cell_type": "code",
   "execution_count": null,
   "metadata": {},
   "outputs": [],
   "source": [
    "M, U = sgd_method(X_train, k=200, lr=0.01, ld=1e-3, epochs=50, vocab_size=len(vocab))"
   ]
  },
  {
   "cell_type": "code",
   "execution_count": null,
   "metadata": {},
   "outputs": [],
   "source": [
    "M, U = continue_training(X_train, k=200, lr=0.1, ld=1e-3, epochs=50, M=M, U=U)"
   ]
  },
  {
   "cell_type": "code",
   "execution_count": null,
   "metadata": {},
   "outputs": [],
   "source": [
    "import numpy as np\n",
    "from sklearn.metrics.pairwise import cosine_similarity\n",
    "\n",
    "\n",
    "def get_similar_words(query_word, embeddings, word_to_index, index_to_word, top_k=5):\n",
    "\n",
    "    query_idx = word_to_index[query_word]\n",
    "    query_embedding = embeddings[query_idx]\n",
    "\n",
    "    similarities = cosine_similarity([query_embedding], embeddings)\n",
    "\n",
    "    similarities = similarities.flatten()\n",
    "\n",
    "    top_k_idx = np.argsort(similarities)[::-1][\n",
    "        1 : top_k + 1\n",
    "    ]  \n",
    "\n",
    "    similar_words = [(index_to_word[idx], similarities[idx]) for idx in top_k_idx]\n",
    "\n",
    "    return similar_words\n",
    "\n",
    "\n",
    "def find_closest_words(\n",
    "    embeddings, word_to_idx, idx_to_word, positive=[], negative=[], topn=5\n",
    "):\n",
    "    positive_vectors = [embeddings[word_to_idx[word]] for word in positive]\n",
    "    negative_vectors = [embeddings[word_to_idx[word]] for word in negative]\n",
    "\n",
    "    result_vector = np.sum(positive_vectors, axis=0) - np.sum(negative_vectors, axis=0)\n",
    "\n",
    "    result_vector /= np.linalg.norm(result_vector)\n",
    "\n",
    "    dot_products = np.dot(embeddings, result_vector)\n",
    "\n",
    "    closest_indices = np.argpartition(dot_products, -topn)[-topn:]\n",
    "    closest_tuples = [(idx_to_word[i], dot_products[i]) for i in closest_indices]\n",
    "    closest_tuples.sort(key=lambda x: x[1], reverse=True)\n",
    "\n",
    "    return closest_tuples"
   ]
  },
  {
   "cell_type": "code",
   "execution_count": null,
   "metadata": {},
   "outputs": [],
   "source": [
    "M_norm = M / np.linalg.norm(M, axis=1).reshape((-1, 1))"
   ]
  },
  {
   "cell_type": "code",
   "execution_count": 349,
   "metadata": {},
   "outputs": [
    {
     "name": "stdout",
     "output_type": "stream",
     "text": [
      "alertam [('defendem', 0.9606735307691576), ('debatem', 0.9496011247455336), ('arquiteto', 0.9450756528710658), ('localização', 0.9443703450989965), ('divórcio', 0.9432927552593505)]\n"
     ]
    }
   ],
   "source": [
    "word = vocab[np.random.randint(0, len(vocab))]\n",
    "similar_words = get_similar_words(word, M_norm, word_to_idx, idx_to_word, top_k=5)\n",
    "print(word, similar_words)"
   ]
  },
  {
   "cell_type": "code",
   "execution_count": null,
   "metadata": {},
   "outputs": [
    {
     "name": "stdout",
     "output_type": "stream",
     "text": [
      "mulher: 0.7642174689348\n",
      "rei: 0.6780250597861164\n",
      "pedra: 0.6757663143514961\n",
      "governador: 0.6756950238675921\n",
      "irmão: 0.6751539252244784\n"
     ]
    }
   ],
   "source": [
    "result = find_closest_words(\n",
    "    M_norm,\n",
    "    word_to_idx,\n",
    "    idx_to_word,\n",
    "    positive=[\"rei\", \"mulher\"],\n",
    "    negative=[\"homem\"],\n",
    "    topn=5,\n",
    ")\n",
    "for word, similarity in result:\n",
    "    print(f\"{word}: {similarity}\")"
   ]
  },
  {
   "attachments": {},
   "cell_type": "markdown",
   "metadata": {},
   "source": [
    "# Graphs"
   ]
  },
  {
   "cell_type": "code",
   "execution_count": null,
   "metadata": {},
   "outputs": [
    {
     "data": {
      "image/png": "[encoded data removed]",
      "text/plain": [
       "<Figure size 1000x600 with 2 Axes>"
      ]
     },
     "metadata": {},
     "output_type": "display_data"
    }
   ],
   "source": [
    "import matplotlib.pyplot as plt\n",
    "import numpy as np\n",
    "\n",
    "\n",
    "reports = [\"Our Report\", \"Rodrigues 2016\"]\n",
    "tokens = [394.82548, 1700]\n",
    "unrestricted = [46.7, 37.7]\n",
    "restricted = [52.7, 53]\n",
    "\n",
    "bar_width = 0.3\n",
    "r1 = np.arange(len(tokens))\n",
    "r2 = [x + bar_width for x in r1]\n",
    "r3 = [x + bar_width for x in r2]\n",
    "\n",
    "fig, ax1 = plt.subplots(figsize=(10, 6))\n",
    "\n",
    "# Create Bars for Tokens\n",
    "bars1 = ax1.bar(\n",
    "    r1,\n",
    "    tokens,\n",
    "    color=\"#008fd5\",\n",
    "    width=bar_width,\n",
    "    label=\"Tokens (per million)\",\n",
    "    edgecolor=\"black\",\n",
    "    capstyle=\"round\",\n",
    ")\n",
    "ax1.set_ylabel(\"Tokens (per million)\", fontsize=12, color=\"#008fd5\")\n",
    "ax1.tick_params(axis=\"y\", colors=\"#008fd5\")\n",
    "\n",
    "\n",
    "ax2 = ax1.twinx()\n",
    "\n",
    "bars2 = ax2.bar(\n",
    "    r2,\n",
    "    unrestricted,\n",
    "    color=\"#fc4f30\",\n",
    "    width=bar_width,\n",
    "    label=\"Unrestricted Accuracy (%)\",\n",
    "    edgecolor=\"black\",\n",
    "    capstyle=\"round\",\n",
    ")\n",
    "bars3 = ax2.bar(\n",
    "    r3,\n",
    "    restricted,\n",
    "    color=\"#e5ae38\",\n",
    "    width=bar_width,\n",
    "    label=\"Restricted Accuracy (%)\",\n",
    "    edgecolor=\"black\",\n",
    "    capstyle=\"round\",\n",
    ")\n",
    "ax2.set_ylabel(\"Accuracy (%)\", fontsize=12, color=\"black\")\n",
    "ax2.tick_params(axis=\"y\", colors=\"black\")\n",
    "\n",
    "plt.xticks([r + bar_width for r in range(len(tokens))], reports, fontsize=12)\n",
    "plt.title(\"Comparing Our Report with Rodrigues 2016\", fontsize=16)\n",
    "\n",
    "handles1, labels1 = ax1.get_legend_handles_labels()\n",
    "handles2, labels2 = ax2.get_legend_handles_labels()\n",
    "handles = handles1 + handles2\n",
    "labels = labels1 + labels2\n",
    "fig.legend(handles, labels, loc=\"lower center\", ncol=3, frameon=False)\n",
    "\n",
    "for ax in [ax1, ax2]:\n",
    "    for sp in ax.spines.values():\n",
    "        sp.set_visible(False)\n",
    "\n",
    "plt.grid(False)\n",
    "plt.savefig(\"comparison.pdf\", bbox_inches=\"tight\")\n",
    "plt.show()"
   ]
  },
  {
   "cell_type": "code",
   "execution_count": null,
   "metadata": {},
   "outputs": [],
   "source": []
  }
 ],
 "metadata": {
  "kernelspec": {
   "display_name": "project_m4ml",
   "language": "python",
   "name": "python3"
  },
  "language_info": {
   "codemirror_mode": {
    "name": "ipython",
    "version": 3
   },
   "file_extension": ".py",
   "mimetype": "text/x-python",
   "name": "python",
   "nbconvert_exporter": "python",
   "pygments_lexer": "ipython3",
   "version": "3.10.10"
  },
  "orig_nbformat": 4
 },
 "nbformat": 4,
 "nbformat_minor": 2
}
