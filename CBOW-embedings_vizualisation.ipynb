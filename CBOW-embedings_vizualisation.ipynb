{
 "cells": [
  {
   "cell_type": "code",
   "execution_count": 23,
   "id": "b9c2aef5",
   "metadata": {},
   "outputs": [],
   "source": [
    "import matplotlib.pyplot as plt\n",
    "import numpy as np\n",
    "import string\n",
    "import torch\n",
    "import torch.nn as nn\n",
    "import nltk\n",
    "from sklearn.manifold import TSNE\n",
    "import plotly.graph_objs as go\n",
    "from sklearn.decomposition import PCA\n",
    "\n",
    "np.random.seed(32)"
   ]
  },
  {
   "cell_type": "code",
   "execution_count": null,
   "id": "0282ab84",
   "metadata": {},
   "outputs": [],
   "source": [
    "contents = []\n",
    "\n",
    "path = \"dataset.txt\"\n",
    "\n",
    "with open(path, \"r\", encoding=\"utf-8\") as file:\n",
    "    i = 0\n",
    "    for line in file:\n",
    "        if i >= 10000000:\n",
    "            break\n",
    "        contents.append(line.lower().split())\n",
    "        i += 1\n",
    "\n",
    "print(len(contents))"
   ]
  },
  {
   "cell_type": "code",
   "execution_count": null,
   "id": "1e21563f",
   "metadata": {},
   "outputs": [
    {
     "name": "stdout",
     "output_type": "stream",
     "text": [
      "total words - 114339451\n",
      "unique words - 563959\n"
     ]
    }
   ],
   "source": [
    "words = []\n",
    "for line in contents:\n",
    "    for word in line:\n",
    "        words.append(word)\n",
    "\n",
    "print(\"total words -\", len(words))\n",
    "print(\"unique words -\", len(set(words)))"
   ]
  },
  {
   "cell_type": "code",
   "execution_count": null,
   "id": "292c0c05",
   "metadata": {},
   "outputs": [
    {
     "data": {
      "image/png": "[encoded data removed]",
      "text/plain": [
       "<Figure size 640x480 with 1 Axes>"
      ]
     },
     "metadata": {},
     "output_type": "display_data"
    }
   ],
   "source": [
    "freq_dist = nltk.FreqDist(words)\n",
    "plt.figure()\n",
    "plt.bar(\n",
    "    x=[x[0] for x in freq_dist.most_common(8)],\n",
    "    height=[x[1] for x in freq_dist.most_common(8)],\n",
    ")\n",
    "plt.show()"
   ]
  },
  {
   "cell_type": "code",
   "execution_count": null,
   "id": "4703fed2",
   "metadata": {},
   "outputs": [],
   "source": [
    "VOCAB_SIZE = 20000\n",
    "C = 4\n",
    "\n",
    "vocab = set([w[0] for w in freq_dist.most_common(VOCAB_SIZE)])\n",
    "word_to_ix = {word: i for i, word in enumerate(sorted(vocab))}\n",
    "ix_to_word = {i: word for i, word in enumerate(sorted(vocab))}"
   ]
  },
  {
   "attachments": {},
   "cell_type": "markdown",
   "id": "5a16af31",
   "metadata": {},
   "source": [
    "CBOW"
   ]
  },
  {
   "cell_type": "code",
   "execution_count": null,
   "id": "4427f2d3",
   "metadata": {
    "scrolled": false
   },
   "outputs": [],
   "source": [
    "device = torch.device(\"cuda\" if torch.cuda.is_available() else \"cpu\")\n",
    "EMBEDDING_SIZE = 300\n",
    "\n",
    "\n",
    "class CBOW(nn.Module):\n",
    "    def __init__(self, vocab_size, embedding_size):\n",
    "        super(CBOW, self).__init__()\n",
    "\n",
    "        self.embedding = nn.Embedding(vocab_size, embedding_size, max_norm=10)\n",
    "\n",
    "        self.linear = nn.Linear(embedding_size, vocab_size)\n",
    "\n",
    "    def forward(self, inputs):\n",
    "        # inputs : (batch_size x C)\n",
    "        embedding = self.embedding(inputs).mean(axis=1)\n",
    "        out = self.linear(embedding)\n",
    "\n",
    "        return out"
   ]
  },
  {
   "cell_type": "code",
   "execution_count": null,
   "id": "ad618844",
   "metadata": {},
   "outputs": [
    {
     "data": {
      "text/plain": [
       "Parameter containing:\n",
       "tensor([[ 1.8600, -0.5842,  0.0111,  ...,  0.5706, -0.2642, -0.3880],\n",
       "        [-0.3148,  0.2817,  0.1301,  ...,  0.1535, -0.4328, -0.0459],\n",
       "        [-0.7661,  0.1849,  0.0743,  ...,  0.8035,  0.0177, -0.3972],\n",
       "        ...,\n",
       "        [-0.2522,  0.4313, -0.1857,  ...,  0.4312, -0.1504, -1.3942],\n",
       "        [ 0.3997, -0.6839, -0.5783,  ..., -0.3125, -0.5671,  0.3966],\n",
       "        [-0.7434, -0.9814,  0.1273,  ..., -0.7991, -0.2330, -0.3072]],\n",
       "       device='cuda:0', requires_grad=True)"
      ]
     },
     "execution_count": 7,
     "metadata": {},
     "output_type": "execute_result"
    }
   ],
   "source": [
    "model = CBOW(VOCAB_SIZE, EMBEDDING_SIZE).to(device)\n",
    "model.load_state_dict(torch.load(\"model_weights10\"))\n",
    "model.eval()\n",
    "\n",
    "emb_matrix = list(model.parameters())[0]\n",
    "\n",
    "emb_matrix"
   ]
  },
  {
   "cell_type": "code",
   "execution_count": null,
   "id": "ec9d796b",
   "metadata": {},
   "outputs": [],
   "source": [
    "def find_closest_words(emb_matrix, words, k=5):\n",
    "\n",
    "    word_embedding = sum([emb_matrix[word_to_ix[w]] for w in words]) / len(words)\n",
    "\n",
    "    similarities = nn.functional.cosine_similarity(emb_matrix, word_embedding)\n",
    "\n",
    "    values, indices = torch.topk(similarities, k + 1)\n",
    "\n",
    "    return [i.item() for i in indices], [v.item() for v in values]\n",
    "\n",
    "\n",
    "def print_closest_words(emb_matrix, words, k=5):\n",
    "\n",
    "    indices, values = find_closest_words(emb_matrix, words, k)\n",
    "\n",
    "    for i in range(k + 1):\n",
    "        print(ix_to_word[indices[i]], \"-\", round(values[i], 3))\n",
    "\n",
    "\n",
    "def plot_embeding(emb_matrix, words, k, method):\n",
    "\n",
    "    emb_matrix_cpu = emb_matrix.cpu().detach().numpy()\n",
    "\n",
    "    sim_words = []\n",
    "    sim_ixs = []\n",
    "    for w in words:\n",
    "        sim_ix, _ = find_closest_words(emb_matrix, [w], k)\n",
    "        sim_words += [ix_to_word[w] for w in sim_ix]\n",
    "        sim_ixs += sim_ix\n",
    "\n",
    "    if method == \"PCA\":\n",
    "        proj = PCA(random_state=0).fit_transform(emb_matrix_cpu[sim_ixs])[:, :2]\n",
    "    else:\n",
    "        proj = TSNE(n_components=2, random_state=0).fit_transform(\n",
    "            emb_matrix_cpu[sim_ixs]\n",
    "        )[:, :2]\n",
    "\n",
    "    data = []\n",
    "\n",
    "    data.append(\n",
    "        go.Scatter(\n",
    "            x=proj[0 : len(sim_words) : k + 1, 0],\n",
    "            y=proj[0 : len(sim_words) : k + 1, 1],\n",
    "            text=sim_words[0 : len(sim_words) : k + 1],\n",
    "            name=\"input words\",\n",
    "            textposition=\"top center\",\n",
    "            textfont_size=15,\n",
    "            mode=\"markers+text\",\n",
    "            marker={\"size\": 20, \"opacity\": 1, \"color\": \"black\"},\n",
    "        )\n",
    "    )\n",
    "\n",
    "    for i in range(0, len(sim_words) - k + 1, k + 1):\n",
    "\n",
    "        data.append(\n",
    "            go.Scatter(\n",
    "                x=proj[i + 1 : i + k + 1, 0],\n",
    "                y=proj[i + 1 : i + k + 1, 1],\n",
    "                text=sim_words[i + 1 : i + k + 1],\n",
    "                name=sim_words[i],\n",
    "                textposition=\"top center\",\n",
    "                textfont_size=15,\n",
    "                mode=\"markers+text\",\n",
    "                marker={\"size\": 10, \"opacity\": 0.8, \"color\": 2},\n",
    "            )\n",
    "        )\n",
    "\n",
    "    layout = go.Layout(\n",
    "        margin={\"l\": 0, \"r\": 0, \"b\": 0, \"t\": 0},\n",
    "        showlegend=True,\n",
    "        legend=dict(\n",
    "            x=1, y=0.5, font=dict(family=\"Courier New\", size=15, color=\"black\")\n",
    "        ),\n",
    "        font=dict(family=\" Courier New \", size=1),\n",
    "        autosize=False,\n",
    "        width=800,\n",
    "        height=600,\n",
    "    )\n",
    "\n",
    "    plot_figure = go.Figure(data, layout)\n",
    "    plot_figure.show()\n",
    "\n",
    "\n",
    "def plot_embeding3D(emb_matrix, words, k):\n",
    "\n",
    "    emb_matrix_cpu = emb_matrix.cpu().detach().numpy()\n",
    "\n",
    "    sim_words = []\n",
    "    sim_ixs = []\n",
    "    for w in words:\n",
    "        sim_ix, _ = find_closest_words(emb_matrix, [w], k)\n",
    "        sim_words += [ix_to_word[w] for w in sim_ix]\n",
    "        sim_ixs += sim_ix\n",
    "\n",
    "    proj = PCA(random_state=0).fit_transform(emb_matrix_cpu[sim_ixs])[:, :3]\n",
    "\n",
    "    data = []\n",
    "\n",
    "    data.append(\n",
    "        go.Scatter3d(\n",
    "            x=proj[0 : len(sim_words) : k + 1, 0],\n",
    "            y=proj[0 : len(sim_words) : k + 1, 1],\n",
    "            z=proj[0 : len(sim_words) : k + 1, 2],\n",
    "            text=sim_words[0 : len(sim_words) : k + 1],\n",
    "            name=\"input words\",\n",
    "            textposition=\"top center\",\n",
    "            textfont_size=15,\n",
    "            mode=\"markers+text\",\n",
    "            marker={\"size\": 15, \"opacity\": 1, \"color\": \"black\"},\n",
    "        )\n",
    "    )\n",
    "\n",
    "    for i in range(0, len(sim_words) - k + 1, k + 1):\n",
    "\n",
    "        data.append(\n",
    "            go.Scatter3d(\n",
    "                x=proj[i + 1 : i + k + 1, 0],\n",
    "                y=proj[i + 1 : i + k + 1, 1],\n",
    "                z=proj[i + 1 : i + k + 1, 2],\n",
    "                text=sim_words[i + 1 : i + k + 1],\n",
    "                name=sim_words[i],\n",
    "                textposition=\"top center\",\n",
    "                textfont_size=15,\n",
    "                mode=\"markers+text\",\n",
    "                marker={\"size\": 5, \"opacity\": 0.8, \"color\": 2},\n",
    "            )\n",
    "        )\n",
    "\n",
    "    # Define the layout\n",
    "    layout = go.Layout(\n",
    "        margin={\"l\": 0, \"r\": 0, \"b\": 0, \"t\": 0},\n",
    "        showlegend=True,\n",
    "        legend=dict(\n",
    "            x=1, y=0.5, font=dict(family=\"Courier New\", size=15, color=\"black\")\n",
    "        ),\n",
    "        font=dict(family=\" Courier New \", size=1),\n",
    "        autosize=False,\n",
    "        width=800,\n",
    "        height=600,\n",
    "    )\n",
    "\n",
    "    plot_figure = go.Figure(data, layout)\n",
    "    plot_figure.show()"
   ]
  },
  {
   "cell_type": "code",
   "execution_count": null,
   "id": "dcd2ca59",
   "metadata": {},
   "outputs": [
    {
     "data": {
      "application/vnd.plotly.v1+json": {
       "config": {
        "plotlyServerURL": "https://plot.ly"
       },
       "data": [
        {
         "marker": {
          "color": "black",
          "opacity": 1,
          "size": 15
         },
         "mode": "markers+text",
         "name": "input words",
         "text": [
          "ps",
          "futebol",
          "mãe",
          "carne",
          "ensino"
         ],
         "textfont": {
          "size": 15
         },
         "textposition": "top center",
         "type": "scatter3d",
         "x": [
          5.155793190002441,
          1.7166051864624023,
          -5.802791118621826,
          -2.4312546253204346,
          1.994382381439209
         ],
         "y": [
          5.5896453857421875,
          -2.305222511291504,
          2.265834331512451,
          -2.810302734375,
          -4.313396453857422
         ],
         "z": [
          -1.033077597618103,
          6.151719093322754,
          -0.7270285487174988,
          -1.3273931741714478,
          -3.3682825565338135
         ]
        },
        {
         "marker": {
          "color": 2,
          "opacity": 0.8,
          "size": 5
         },
         "mode": "markers+text",
         "name": "ps",
         "text": [
          "socialistas",
          "socialista",
          "psd",
          "partido",
          "pcp",
          "esquerda",
          "be",
          "centristas",
          "centrista",
          "cds"
         ],
         "textfont": {
          "size": 15
         },
         "textposition": "top center",
         "type": "scatter3d",
         "x": [
          5.599653244018555,
          4.219786167144775,
          4.929220676422119,
          1.8172627687454224,
          3.4321019649505615,
          3.044186592102051,
          3.995450735092163,
          5.815883636474609,
          4.010116100311279,
          2.735703945159912
         ],
         "y": [
          3.932126760482788,
          4.9313764572143555,
          4.630320072174072,
          4.659555435180664,
          3.757523775100708,
          3.906632423400879,
          3.6040189266204834,
          2.076120376586914,
          2.9826860427856445,
          3.6777875423431396
         ],
         "z": [
          -1.2204352617263794,
          -1.1744253635406494,
          -0.828136682510376,
          0.20105037093162537,
          -1.914859414100647,
          -0.4625761806964874,
          -2.0888373851776123,
          -1.186541199684143,
          -1.9420796632766724,
          -1.4491009712219238
         ]
        },
        {
         "marker": {
          "color": 2,
          "opacity": 0.8,
          "size": 5
         },
         "mode": "markers+text",
         "name": "futebol",
         "text": [
          "futsal",
          "clubes",
          "sporting",
          "benfica",
          "jogo",
          "competição",
          "basquetebol",
          "campeonato",
          "clube",
          "jogadores"
         ],
         "textfont": {
          "size": 15
         },
         "textposition": "top center",
         "type": "scatter3d",
         "x": [
          3.179919719696045,
          2.4671900272369385,
          2.1253931522369385,
          1.3610764741897583,
          0.3773820102214813,
          0.6552891731262207,
          1.6108418703079224,
          1.6544448137283325,
          0.46999889612197876,
          0.8886838555335999
         ],
         "y": [
          -1.591930866241455,
          -2.311164379119873,
          -1.175050973892212,
          -0.09806981682777405,
          -1.804286003112793,
          -2.5757288932800293,
          -1.5270004272460938,
          -1.8287616968154907,
          -0.5692955255508423,
          -1.4630908966064453
         ],
         "z": [
          3.6396501064300537,
          4.321991443634033,
          5.94834041595459,
          6.926192760467529,
          5.514149188995361,
          4.67171573638916,
          2.440431594848633,
          5.016903877258301,
          5.33441162109375,
          4.475998401641846
         ]
        },
        {
         "marker": {
          "color": 2,
          "opacity": 0.8,
          "size": 5
         },
         "mode": "markers+text",
         "name": "mãe",
         "text": [
          "pai",
          "marido",
          "filha",
          "mulher",
          "filho",
          "actriz",
          "homem",
          "criança",
          "família",
          "casal"
         ],
         "textfont": {
          "size": 15
         },
         "textposition": "top center",
         "type": "scatter3d",
         "x": [
          -5.459322929382324,
          -5.143553733825684,
          -4.873307704925537,
          -5.6826043128967285,
          -5.161309719085693,
          -3.910811185836792,
          -4.657926559448242,
          -3.814542293548584,
          -3.9645228385925293,
          -4.060545444488525
         ],
         "y": [
          2.650930404663086,
          3.2899973392486572,
          3.469604730606079,
          2.96628999710083,
          2.7347354888916016,
          2.8632545471191406,
          2.825166702270508,
          1.900112271308899,
          1.6995725631713867,
          2.6165099143981934
         ],
         "z": [
          0.8357210159301758,
          -0.25060799717903137,
          -0.26878029108047485,
          -0.03591596335172653,
          0.9214728474617004,
          0.468267023563385,
          1.0198527574539185,
          -0.7581575512886047,
          -0.43353649973869324,
          0.5318138003349304
         ]
        },
        {
         "marker": {
          "color": 2,
          "opacity": 0.8,
          "size": 5
         },
         "mode": "markers+text",
         "name": "carne",
         "text": [
          "arroz",
          "fruta",
          "açúcar",
          "vinho",
          "espécies",
          "queijo",
          "comer",
          "produtos",
          "frutas",
          "óleo"
         ],
         "textfont": {
          "size": 15
         },
         "textposition": "top center",
         "type": "scatter3d",
         "x": [
          -1.5960514545440674,
          -1.6225820779800415,
          -2.5828633308410645,
          -2.103689670562744,
          -1.9495954513549805,
          -0.7760552167892456,
          -3.316316604614258,
          -1.0525577068328857,
          -0.4755898118019104,
          -1.9400798082351685
         ],
         "y": [
          -1.61622953414917,
          -2.724342107772827,
          -1.2040371894836426,
          -1.6006017923355103,
          -1.9722318649291992,
          -1.7146806716918945,
          -0.617899477481842,
          -2.919583320617676,
          -1.6124542951583862,
          -1.1823219060897827
         ],
         "z": [
          -1.1449995040893555,
          -1.252770185470581,
          -0.8815678358078003,
          -0.4594654440879822,
          -0.1420401930809021,
          -1.1443108320236206,
          -1.087058663368225,
          -0.3845510482788086,
          -1.1305713653564453,
          -0.10513803362846375
         ]
        },
        {
         "marker": {
          "color": 2,
          "opacity": 0.8,
          "size": 5
         },
         "mode": "markers+text",
         "name": "ensino",
         "text": [
          "alunos",
          "cursos",
          "educação",
          "aulas",
          "estudantes",
          "escola",
          "escolas",
          "licenciatura",
          "aluno",
          "docentes"
         ],
         "textfont": {
          "size": 15
         },
         "textposition": "top center",
         "type": "scatter3d",
         "x": [
          0.6207313537597656,
          1.9728074073791504,
          2.0107831954956055,
          -0.17626847326755524,
          1.0634547472000122,
          -1.5007572174072266,
          1.2116584777832031,
          1.645871639251709,
          -0.715233564376831,
          2.9884562492370605
         ],
         "y": [
          -4.101418495178223,
          -4.183169364929199,
          -2.0722851753234863,
          -3.866269588470459,
          -3.077904462814331,
          -2.273181915283203,
          -4.632129192352295,
          -2.2249457836151123,
          -1.4631763696670532,
          -3.5976359844207764
         ],
         "z": [
          -3.645838975906372,
          -2.892584800720215,
          -3.114081859588623,
          -3.2251524925231934,
          -2.0870916843414307,
          -2.7865965366363525,
          -3.3957812786102295,
          -3.0661442279815674,
          -3.4529314041137695,
          -2.5512311458587646
         ]
        }
       ],
       "layout": {
        "autosize": false,
        "font": {
         "family": " Courier New ",
         "size": 1
        },
        "height": 600,
        "legend": {
         "font": {
          "color": "black",
          "family": "Courier New",
          "size": 15
         },
         "x": 1,
         "y": 0.5
        },
        "margin": {
         "b": 0,
         "l": 0,
         "r": 0,
         "t": 0
        },
        "showlegend": true,
        "template": {
         "data": {
          "bar": [
           {
            "error_x": {
             "color": "#2a3f5f"
            },
            "error_y": {
             "color": "#2a3f5f"
            },
            "marker": {
             "line": {
              "color": "#E5ECF6",
              "width": 0.5
             },
             "pattern": {
              "fillmode": "overlay",
              "size": 10,
              "solidity": 0.2
             }
            },
            "type": "bar"
           }
          ],
          "barpolar": [
           {
            "marker": {
             "line": {
              "color": "#E5ECF6",
              "width": 0.5
             },
             "pattern": {
              "fillmode": "overlay",
              "size": 10,
              "solidity": 0.2
             }
            },
            "type": "barpolar"
           }
          ],
          "carpet": [
           {
            "aaxis": {
             "endlinecolor": "#2a3f5f",
             "gridcolor": "white",
             "linecolor": "white",
             "minorgridcolor": "white",
             "startlinecolor": "#2a3f5f"
            },
            "baxis": {
             "endlinecolor": "#2a3f5f",
             "gridcolor": "white",
             "linecolor": "white",
             "minorgridcolor": "white",
             "startlinecolor": "#2a3f5f"
            },
            "type": "carpet"
           }
          ],
          "choropleth": [
           {
            "colorbar": {
             "outlinewidth": 0,
             "ticks": ""
            },
            "type": "choropleth"
           }
          ],
          "contour": [
           {
            "colorbar": {
             "outlinewidth": 0,
             "ticks": ""
            },
            "colorscale": [
             [
              0,
              "#0d0887"
             ],
             [
              0.1111111111111111,
              "#46039f"
             ],
             [
              0.2222222222222222,
              "#7201a8"
             ],
             [
              0.3333333333333333,
              "#9c179e"
             ],
             [
              0.4444444444444444,
              "#bd3786"
             ],
             [
              0.5555555555555556,
              "#d8576b"
             ],
             [
              0.6666666666666666,
              "#ed7953"
             ],
             [
              0.7777777777777778,
              "#fb9f3a"
             ],
             [
              0.8888888888888888,
              "#fdca26"
             ],
             [
              1,
              "#f0f921"
             ]
            ],
            "type": "contour"
           }
          ],
          "contourcarpet": [
           {
            "colorbar": {
             "outlinewidth": 0,
             "ticks": ""
            },
            "type": "contourcarpet"
           }
          ],
          "heatmap": [
           {
            "colorbar": {
             "outlinewidth": 0,
             "ticks": ""
            },
            "colorscale": [
             [
              0,
              "#0d0887"
             ],
             [
              0.1111111111111111,
              "#46039f"
             ],
             [
              0.2222222222222222,
              "#7201a8"
             ],
             [
              0.3333333333333333,
              "#9c179e"
             ],
             [
              0.4444444444444444,
              "#bd3786"
             ],
             [
              0.5555555555555556,
              "#d8576b"
             ],
             [
              0.6666666666666666,
              "#ed7953"
             ],
             [
              0.7777777777777778,
              "#fb9f3a"
             ],
             [
              0.8888888888888888,
              "#fdca26"
             ],
             [
              1,
              "#f0f921"
             ]
            ],
            "type": "heatmap"
           }
          ],
          "heatmapgl": [
           {
            "colorbar": {
             "outlinewidth": 0,
             "ticks": ""
            },
            "colorscale": [
             [
              0,
              "#0d0887"
             ],
             [
              0.1111111111111111,
              "#46039f"
             ],
             [
              0.2222222222222222,
              "#7201a8"
             ],
             [
              0.3333333333333333,
              "#9c179e"
             ],
             [
              0.4444444444444444,
              "#bd3786"
             ],
             [
              0.5555555555555556,
              "#d8576b"
             ],
             [
              0.6666666666666666,
              "#ed7953"
             ],
             [
              0.7777777777777778,
              "#fb9f3a"
             ],
             [
              0.8888888888888888,
              "#fdca26"
             ],
             [
              1,
              "#f0f921"
             ]
            ],
            "type": "heatmapgl"
           }
          ],
          "histogram": [
           {
            "marker": {
             "pattern": {
              "fillmode": "overlay",
              "size": 10,
              "solidity": 0.2
             }
            },
            "type": "histogram"
           }
          ],
          "histogram2d": [
           {
            "colorbar": {
             "outlinewidth": 0,
             "ticks": ""
            },
            "colorscale": [
             [
              0,
              "#0d0887"
             ],
             [
              0.1111111111111111,
              "#46039f"
             ],
             [
              0.2222222222222222,
              "#7201a8"
             ],
             [
              0.3333333333333333,
              "#9c179e"
             ],
             [
              0.4444444444444444,
              "#bd3786"
             ],
             [
              0.5555555555555556,
              "#d8576b"
             ],
             [
              0.6666666666666666,
              "#ed7953"
             ],
             [
              0.7777777777777778,
              "#fb9f3a"
             ],
             [
              0.8888888888888888,
              "#fdca26"
             ],
             [
              1,
              "#f0f921"
             ]
            ],
            "type": "histogram2d"
           }
          ],
          "histogram2dcontour": [
           {
            "colorbar": {
             "outlinewidth": 0,
             "ticks": ""
            },
            "colorscale": [
             [
              0,
              "#0d0887"
             ],
             [
              0.1111111111111111,
              "#46039f"
             ],
             [
              0.2222222222222222,
              "#7201a8"
             ],
             [
              0.3333333333333333,
              "#9c179e"
             ],
             [
              0.4444444444444444,
              "#bd3786"
             ],
             [
              0.5555555555555556,
              "#d8576b"
             ],
             [
              0.6666666666666666,
              "#ed7953"
             ],
             [
              0.7777777777777778,
              "#fb9f3a"
             ],
             [
              0.8888888888888888,
              "#fdca26"
             ],
             [
              1,
              "#f0f921"
             ]
            ],
            "type": "histogram2dcontour"
           }
          ],
          "mesh3d": [
           {
            "colorbar": {
             "outlinewidth": 0,
             "ticks": ""
            },
            "type": "mesh3d"
           }
          ],
          "parcoords": [
           {
            "line": {
             "colorbar": {
              "outlinewidth": 0,
              "ticks": ""
             }
            },
            "type": "parcoords"
           }
          ],
          "pie": [
           {
            "automargin": true,
            "type": "pie"
           }
          ],
          "scatter": [
           {
            "fillpattern": {
             "fillmode": "overlay",
             "size": 10,
             "solidity": 0.2
            },
            "type": "scatter"
           }
          ],
          "scatter3d": [
           {
            "line": {
             "colorbar": {
              "outlinewidth": 0,
              "ticks": ""
             }
            },
            "marker": {
             "colorbar": {
              "outlinewidth": 0,
              "ticks": ""
             }
            },
            "type": "scatter3d"
           }
          ],
          "scattercarpet": [
           {
            "marker": {
             "colorbar": {
              "outlinewidth": 0,
              "ticks": ""
             }
            },
            "type": "scattercarpet"
           }
          ],
          "scattergeo": [
           {
            "marker": {
             "colorbar": {
              "outlinewidth": 0,
              "ticks": ""
             }
            },
            "type": "scattergeo"
           }
          ],
          "scattergl": [
           {
            "marker": {
             "colorbar": {
              "outlinewidth": 0,
              "ticks": ""
             }
            },
            "type": "scattergl"
           }
          ],
          "scattermapbox": [
           {
            "marker": {
             "colorbar": {
              "outlinewidth": 0,
              "ticks": ""
             }
            },
            "type": "scattermapbox"
           }
          ],
          "scatterpolar": [
           {
            "marker": {
             "colorbar": {
              "outlinewidth": 0,
              "ticks": ""
             }
            },
            "type": "scatterpolar"
           }
          ],
          "scatterpolargl": [
           {
            "marker": {
             "colorbar": {
              "outlinewidth": 0,
              "ticks": ""
             }
            },
            "type": "scatterpolargl"
           }
          ],
          "scatterternary": [
           {
            "marker": {
             "colorbar": {
              "outlinewidth": 0,
              "ticks": ""
             }
            },
            "type": "scatterternary"
           }
          ],
          "surface": [
           {
            "colorbar": {
             "outlinewidth": 0,
             "ticks": ""
            },
            "colorscale": [
             [
              0,
              "#0d0887"
             ],
             [
              0.1111111111111111,
              "#46039f"
             ],
             [
              0.2222222222222222,
              "#7201a8"
             ],
             [
              0.3333333333333333,
              "#9c179e"
             ],
             [
              0.4444444444444444,
              "#bd3786"
             ],
             [
              0.5555555555555556,
              "#d8576b"
             ],
             [
              0.6666666666666666,
              "#ed7953"
             ],
             [
              0.7777777777777778,
              "#fb9f3a"
             ],
             [
              0.8888888888888888,
              "#fdca26"
             ],
             [
              1,
              "#f0f921"
             ]
            ],
            "type": "surface"
           }
          ],
          "table": [
           {
            "cells": {
             "fill": {
              "color": "#EBF0F8"
             },
             "line": {
              "color": "white"
             }
            },
            "header": {
             "fill": {
              "color": "#C8D4E3"
             },
             "line": {
              "color": "white"
             }
            },
            "type": "table"
           }
          ]
         },
         "layout": {
          "annotationdefaults": {
           "arrowcolor": "#2a3f5f",
           "arrowhead": 0,
           "arrowwidth": 1
          },
          "autotypenumbers": "strict",
          "coloraxis": {
           "colorbar": {
            "outlinewidth": 0,
            "ticks": ""
           }
          },
          "colorscale": {
           "diverging": [
            [
             0,
             "#8e0152"
            ],
            [
             0.1,
             "#c51b7d"
            ],
            [
             0.2,
             "#de77ae"
            ],
            [
             0.3,
             "#f1b6da"
            ],
            [
             0.4,
             "#fde0ef"
            ],
            [
             0.5,
             "#f7f7f7"
            ],
            [
             0.6,
             "#e6f5d0"
            ],
            [
             0.7,
             "#b8e186"
            ],
            [
             0.8,
             "#7fbc41"
            ],
            [
             0.9,
             "#4d9221"
            ],
            [
             1,
             "#276419"
            ]
           ],
           "sequential": [
            [
             0,
             "#0d0887"
            ],
            [
             0.1111111111111111,
             "#46039f"
            ],
            [
             0.2222222222222222,
             "#7201a8"
            ],
            [
             0.3333333333333333,
             "#9c179e"
            ],
            [
             0.4444444444444444,
             "#bd3786"
            ],
            [
             0.5555555555555556,
             "#d8576b"
            ],
            [
             0.6666666666666666,
             "#ed7953"
            ],
            [
             0.7777777777777778,
             "#fb9f3a"
            ],
            [
             0.8888888888888888,
             "#fdca26"
            ],
            [
             1,
             "#f0f921"
            ]
           ],
           "sequentialminus": [
            [
             0,
             "#0d0887"
            ],
            [
             0.1111111111111111,
             "#46039f"
            ],
            [
             0.2222222222222222,
             "#7201a8"
            ],
            [
             0.3333333333333333,
             "#9c179e"
            ],
            [
             0.4444444444444444,
             "#bd3786"
            ],
            [
             0.5555555555555556,
             "#d8576b"
            ],
            [
             0.6666666666666666,
             "#ed7953"
            ],
            [
             0.7777777777777778,
             "#fb9f3a"
            ],
            [
             0.8888888888888888,
             "#fdca26"
            ],
            [
             1,
             "#f0f921"
            ]
           ]
          },
          "colorway": [
           "#636efa",
           "#EF553B",
           "#00cc96",
           "#ab63fa",
           "#FFA15A",
           "#19d3f3",
           "#FF6692",
           "#B6E880",
           "#FF97FF",
           "#FECB52"
          ],
          "font": {
           "color": "#2a3f5f"
          },
          "geo": {
           "bgcolor": "white",
           "lakecolor": "white",
           "landcolor": "#E5ECF6",
           "showlakes": true,
           "showland": true,
           "subunitcolor": "white"
          },
          "hoverlabel": {
           "align": "left"
          },
          "hovermode": "closest",
          "mapbox": {
           "style": "light"
          },
          "paper_bgcolor": "white",
          "plot_bgcolor": "#E5ECF6",
          "polar": {
           "angularaxis": {
            "gridcolor": "white",
            "linecolor": "white",
            "ticks": ""
           },
           "bgcolor": "#E5ECF6",
           "radialaxis": {
            "gridcolor": "white",
            "linecolor": "white",
            "ticks": ""
           }
          },
          "scene": {
           "xaxis": {
            "backgroundcolor": "#E5ECF6",
            "gridcolor": "white",
            "gridwidth": 2,
            "linecolor": "white",
            "showbackground": true,
            "ticks": "",
            "zerolinecolor": "white"
           },
           "yaxis": {
            "backgroundcolor": "#E5ECF6",
            "gridcolor": "white",
            "gridwidth": 2,
            "linecolor": "white",
            "showbackground": true,
            "ticks": "",
            "zerolinecolor": "white"
           },
           "zaxis": {
            "backgroundcolor": "#E5ECF6",
            "gridcolor": "white",
            "gridwidth": 2,
            "linecolor": "white",
            "showbackground": true,
            "ticks": "",
            "zerolinecolor": "white"
           }
          },
          "shapedefaults": {
           "line": {
            "color": "#2a3f5f"
           }
          },
          "ternary": {
           "aaxis": {
            "gridcolor": "white",
            "linecolor": "white",
            "ticks": ""
           },
           "baxis": {
            "gridcolor": "white",
            "linecolor": "white",
            "ticks": ""
           },
           "bgcolor": "#E5ECF6",
           "caxis": {
            "gridcolor": "white",
            "linecolor": "white",
            "ticks": ""
           }
          },
          "title": {
           "x": 0.05
          },
          "xaxis": {
           "automargin": true,
           "gridcolor": "white",
           "linecolor": "white",
           "ticks": "",
           "title": {
            "standoff": 15
           },
           "zerolinecolor": "white",
           "zerolinewidth": 2
          },
          "yaxis": {
           "automargin": true,
           "gridcolor": "white",
           "linecolor": "white",
           "ticks": "",
           "title": {
            "standoff": 15
           },
           "zerolinecolor": "white",
           "zerolinewidth": 2
          }
         }
        },
        "width": 800
       }
      }
     },
     "metadata": {},
     "output_type": "display_data"
    }
   ],
   "source": [
    "plot_embeding3D(emb_matrix, [\"ps\", \"futebol\", \"mãe\", \"carne\", \"ensino\"], 10)"
   ]
  },
  {
   "cell_type": "code",
   "execution_count": null,
   "id": "1a4892f2",
   "metadata": {},
   "outputs": [
    {
     "data": {
      "application/vnd.plotly.v1+json": {
       "config": {
        "plotlyServerURL": "https://plot.ly"
       },
       "data": [
        {
         "marker": {
          "color": "black",
          "opacity": 1,
          "size": 20
         },
         "mode": "markers+text",
         "name": "input words",
         "text": [
          "ps",
          "futebol",
          "mãe",
          "carne",
          "ensino"
         ],
         "textfont": {
          "size": 15
         },
         "textposition": "top center",
         "type": "scatter",
         "x": [
          1.5321037769317627,
          0.11159433424472809,
          3.8632335662841797,
          3.6620466709136963,
          0.7605301141738892
         ],
         "y": [
          1.3319923877716064,
          -3.6507365703582764,
          -1.0650125741958618,
          -3.19622802734375,
          -1.020036220550537
         ]
        },
        {
         "marker": {
          "color": 2,
          "opacity": 0.8,
          "size": 10
         },
         "mode": "markers+text",
         "name": "ps",
         "text": [
          "socialistas",
          "socialista",
          "psd",
          "partido",
          "pcp",
          "esquerda",
          "be",
          "centristas",
          "centrista",
          "cds"
         ],
         "textfont": {
          "size": 15
         },
         "textposition": "top center",
         "type": "scatter",
         "x": [
          1.3638960123062134,
          1.2702733278274536,
          1.5583550930023193,
          2.368696451187134,
          2.097254514694214,
          2.2630934715270996,
          1.9428085088729858,
          0.7358317971229553,
          0.7778592705726624,
          1.5967607498168945
         ],
         "y": [
          1.25968337059021,
          1.1983903646469116,
          1.2660326957702637,
          1.0413463115692139,
          1.771865963935852,
          1.5167381763458252,
          1.7957764863967896,
          1.544218897819519,
          1.3074915409088135,
          2.18186092376709
         ]
        },
        {
         "marker": {
          "color": 2,
          "opacity": 0.8,
          "size": 10
         },
         "mode": "markers+text",
         "name": "futebol",
         "text": [
          "futsal",
          "clubes",
          "sporting",
          "benfica",
          "jogo",
          "competição",
          "basquetebol",
          "campeonato",
          "clube",
          "jogadores"
         ],
         "textfont": {
          "size": 15
         },
         "textposition": "top center",
         "type": "scatter",
         "x": [
          -0.2549392879009247,
          0.20963720977306366,
          0.8147898316383362,
          0.8597872853279114,
          1.2252846956253052,
          0.6341437697410583,
          -0.34473636746406555,
          0.6565871834754944,
          0.6519655585289001,
          1.2717461585998535
         ],
         "y": [
          -3.3124399185180664,
          -4.153763771057129,
          -4.347333908081055,
          -4.247196674346924,
          -3.950995445251465,
          -3.3511555194854736,
          -3.126516103744507,
          -3.4369382858276367,
          -4.444340705871582,
          -4.005585193634033
         ]
        },
        {
         "marker": {
          "color": 2,
          "opacity": 0.8,
          "size": 10
         },
         "mode": "markers+text",
         "name": "mãe",
         "text": [
          "pai",
          "marido",
          "filha",
          "mulher",
          "filho",
          "actriz",
          "homem",
          "criança",
          "família",
          "casal"
         ],
         "textfont": {
          "size": 15
         },
         "textposition": "top center",
         "type": "scatter",
         "x": [
          4.1240315437316895,
          3.9031786918640137,
          4.204466342926025,
          3.9998979568481445,
          4.37013053894043,
          3.375948429107666,
          4.53458309173584,
          4.360230445861816,
          3.8118414878845215,
          3.864305019378662
         ],
         "y": [
          -1.1136943101882935,
          -0.9362565279006958,
          -0.6282782554626465,
          -0.9596893787384033,
          -0.8364732265472412,
          -0.9073725342750549,
          -1.2481694221496582,
          -0.19133436679840088,
          -0.1489105224609375,
          -0.2956560552120209
         ]
        },
        {
         "marker": {
          "color": 2,
          "opacity": 0.8,
          "size": 10
         },
         "mode": "markers+text",
         "name": "carne",
         "text": [
          "arroz",
          "fruta",
          "açúcar",
          "vinho",
          "espécies",
          "queijo",
          "comer",
          "produtos",
          "frutas",
          "óleo"
         ],
         "textfont": {
          "size": 15
         },
         "textposition": "top center",
         "type": "scatter",
         "x": [
          4.0438971519470215,
          3.2466542720794678,
          3.8433148860931396,
          3.232856512069702,
          4.148989677429199,
          2.981508493423462,
          3.618673801422119,
          3.5697693824768066,
          3.1175930500030518,
          4.425527572631836
         ],
         "y": [
          -3.2193922996520996,
          -3.4532129764556885,
          -2.816399335861206,
          -2.8931591510772705,
          -3.5903120040893555,
          -2.98119854927063,
          -2.1554596424102783,
          -3.7461376190185547,
          -3.766587018966675,
          -3.120727062225342
         ]
        },
        {
         "marker": {
          "color": 2,
          "opacity": 0.8,
          "size": 10
         },
         "mode": "markers+text",
         "name": "ensino",
         "text": [
          "alunos",
          "cursos",
          "educação",
          "aulas",
          "estudantes",
          "escola",
          "escolas",
          "licenciatura",
          "aluno",
          "docentes"
         ],
         "textfont": {
          "size": 15
         },
         "textposition": "top center",
         "type": "scatter",
         "x": [
          1.0997978448867798,
          0.22247298061847687,
          1.0686955451965332,
          1.4851855039596558,
          0.7740779519081116,
          1.8709399700164795,
          1.3912445306777954,
          0.08961369097232819,
          1.634960651397705,
          0.5493853688240051
         ],
         "y": [
          -1.409718632698059,
          -1.0465335845947266,
          -0.6547340154647827,
          -1.4967199563980103,
          -1.6315693855285645,
          -1.3707202672958374,
          -1.5925122499465942,
          -0.8861923217773438,
          -1.0125980377197266,
          -1.54644775390625
         ]
        }
       ],
       "layout": {
        "autosize": false,
        "font": {
         "family": " Courier New ",
         "size": 1
        },
        "height": 600,
        "legend": {
         "font": {
          "color": "black",
          "family": "Courier New",
          "size": 15
         },
         "x": 1,
         "y": 0.5
        },
        "margin": {
         "b": 0,
         "l": 0,
         "r": 0,
         "t": 0
        },
        "showlegend": true,
        "template": {
         "data": {
          "bar": [
           {
            "error_x": {
             "color": "#2a3f5f"
            },
            "error_y": {
             "color": "#2a3f5f"
            },
            "marker": {
             "line": {
              "color": "#E5ECF6",
              "width": 0.5
             },
             "pattern": {
              "fillmode": "overlay",
              "size": 10,
              "solidity": 0.2
             }
            },
            "type": "bar"
           }
          ],
          "barpolar": [
           {
            "marker": {
             "line": {
              "color": "#E5ECF6",
              "width": 0.5
             },
             "pattern": {
              "fillmode": "overlay",
              "size": 10,
              "solidity": 0.2
             }
            },
            "type": "barpolar"
           }
          ],
          "carpet": [
           {
            "aaxis": {
             "endlinecolor": "#2a3f5f",
             "gridcolor": "white",
             "linecolor": "white",
             "minorgridcolor": "white",
             "startlinecolor": "#2a3f5f"
            },
            "baxis": {
             "endlinecolor": "#2a3f5f",
             "gridcolor": "white",
             "linecolor": "white",
             "minorgridcolor": "white",
             "startlinecolor": "#2a3f5f"
            },
            "type": "carpet"
           }
          ],
          "choropleth": [
           {
            "colorbar": {
             "outlinewidth": 0,
             "ticks": ""
            },
            "type": "choropleth"
           }
          ],
          "contour": [
           {
            "colorbar": {
             "outlinewidth": 0,
             "ticks": ""
            },
            "colorscale": [
             [
              0,
              "#0d0887"
             ],
             [
              0.1111111111111111,
              "#46039f"
             ],
             [
              0.2222222222222222,
              "#7201a8"
             ],
             [
              0.3333333333333333,
              "#9c179e"
             ],
             [
              0.4444444444444444,
              "#bd3786"
             ],
             [
              0.5555555555555556,
              "#d8576b"
             ],
             [
              0.6666666666666666,
              "#ed7953"
             ],
             [
              0.7777777777777778,
              "#fb9f3a"
             ],
             [
              0.8888888888888888,
              "#fdca26"
             ],
             [
              1,
              "#f0f921"
             ]
            ],
            "type": "contour"
           }
          ],
          "contourcarpet": [
           {
            "colorbar": {
             "outlinewidth": 0,
             "ticks": ""
            },
            "type": "contourcarpet"
           }
          ],
          "heatmap": [
           {
            "colorbar": {
             "outlinewidth": 0,
             "ticks": ""
            },
            "colorscale": [
             [
              0,
              "#0d0887"
             ],
             [
              0.1111111111111111,
              "#46039f"
             ],
             [
              0.2222222222222222,
              "#7201a8"
             ],
             [
              0.3333333333333333,
              "#9c179e"
             ],
             [
              0.4444444444444444,
              "#bd3786"
             ],
             [
              0.5555555555555556,
              "#d8576b"
             ],
             [
              0.6666666666666666,
              "#ed7953"
             ],
             [
              0.7777777777777778,
              "#fb9f3a"
             ],
             [
              0.8888888888888888,
              "#fdca26"
             ],
             [
              1,
              "#f0f921"
             ]
            ],
            "type": "heatmap"
           }
          ],
          "heatmapgl": [
           {
            "colorbar": {
             "outlinewidth": 0,
             "ticks": ""
            },
            "colorscale": [
             [
              0,
              "#0d0887"
             ],
             [
              0.1111111111111111,
              "#46039f"
             ],
             [
              0.2222222222222222,
              "#7201a8"
             ],
             [
              0.3333333333333333,
              "#9c179e"
             ],
             [
              0.4444444444444444,
              "#bd3786"
             ],
             [
              0.5555555555555556,
              "#d8576b"
             ],
             [
              0.6666666666666666,
              "#ed7953"
             ],
             [
              0.7777777777777778,
              "#fb9f3a"
             ],
             [
              0.8888888888888888,
              "#fdca26"
             ],
             [
              1,
              "#f0f921"
             ]
            ],
            "type": "heatmapgl"
           }
          ],
          "histogram": [
           {
            "marker": {
             "pattern": {
              "fillmode": "overlay",
              "size": 10,
              "solidity": 0.2
             }
            },
            "type": "histogram"
           }
          ],
          "histogram2d": [
           {
            "colorbar": {
             "outlinewidth": 0,
             "ticks": ""
            },
            "colorscale": [
             [
              0,
              "#0d0887"
             ],
             [
              0.1111111111111111,
              "#46039f"
             ],
             [
              0.2222222222222222,
              "#7201a8"
             ],
             [
              0.3333333333333333,
              "#9c179e"
             ],
             [
              0.4444444444444444,
              "#bd3786"
             ],
             [
              0.5555555555555556,
              "#d8576b"
             ],
             [
              0.6666666666666666,
              "#ed7953"
             ],
             [
              0.7777777777777778,
              "#fb9f3a"
             ],
             [
              0.8888888888888888,
              "#fdca26"
             ],
             [
              1,
              "#f0f921"
             ]
            ],
            "type": "histogram2d"
           }
          ],
          "histogram2dcontour": [
           {
            "colorbar": {
             "outlinewidth": 0,
             "ticks": ""
            },
            "colorscale": [
             [
              0,
              "#0d0887"
             ],
             [
              0.1111111111111111,
              "#46039f"
             ],
             [
              0.2222222222222222,
              "#7201a8"
             ],
             [
              0.3333333333333333,
              "#9c179e"
             ],
             [
              0.4444444444444444,
              "#bd3786"
             ],
             [
              0.5555555555555556,
              "#d8576b"
             ],
             [
              0.6666666666666666,
              "#ed7953"
             ],
             [
              0.7777777777777778,
              "#fb9f3a"
             ],
             [
              0.8888888888888888,
              "#fdca26"
             ],
             [
              1,
              "#f0f921"
             ]
            ],
            "type": "histogram2dcontour"
           }
          ],
          "mesh3d": [
           {
            "colorbar": {
             "outlinewidth": 0,
             "ticks": ""
            },
            "type": "mesh3d"
           }
          ],
          "parcoords": [
           {
            "line": {
             "colorbar": {
              "outlinewidth": 0,
              "ticks": ""
             }
            },
            "type": "parcoords"
           }
          ],
          "pie": [
           {
            "automargin": true,
            "type": "pie"
           }
          ],
          "scatter": [
           {
            "fillpattern": {
             "fillmode": "overlay",
             "size": 10,
             "solidity": 0.2
            },
            "type": "scatter"
           }
          ],
          "scatter3d": [
           {
            "line": {
             "colorbar": {
              "outlinewidth": 0,
              "ticks": ""
             }
            },
            "marker": {
             "colorbar": {
              "outlinewidth": 0,
              "ticks": ""
             }
            },
            "type": "scatter3d"
           }
          ],
          "scattercarpet": [
           {
            "marker": {
             "colorbar": {
              "outlinewidth": 0,
              "ticks": ""
             }
            },
            "type": "scattercarpet"
           }
          ],
          "scattergeo": [
           {
            "marker": {
             "colorbar": {
              "outlinewidth": 0,
              "ticks": ""
             }
            },
            "type": "scattergeo"
           }
          ],
          "scattergl": [
           {
            "marker": {
             "colorbar": {
              "outlinewidth": 0,
              "ticks": ""
             }
            },
            "type": "scattergl"
           }
          ],
          "scattermapbox": [
           {
            "marker": {
             "colorbar": {
              "outlinewidth": 0,
              "ticks": ""
             }
            },
            "type": "scattermapbox"
           }
          ],
          "scatterpolar": [
           {
            "marker": {
             "colorbar": {
              "outlinewidth": 0,
              "ticks": ""
             }
            },
            "type": "scatterpolar"
           }
          ],
          "scatterpolargl": [
           {
            "marker": {
             "colorbar": {
              "outlinewidth": 0,
              "ticks": ""
             }
            },
            "type": "scatterpolargl"
           }
          ],
          "scatterternary": [
           {
            "marker": {
             "colorbar": {
              "outlinewidth": 0,
              "ticks": ""
             }
            },
            "type": "scatterternary"
           }
          ],
          "surface": [
           {
            "colorbar": {
             "outlinewidth": 0,
             "ticks": ""
            },
            "colorscale": [
             [
              0,
              "#0d0887"
             ],
             [
              0.1111111111111111,
              "#46039f"
             ],
             [
              0.2222222222222222,
              "#7201a8"
             ],
             [
              0.3333333333333333,
              "#9c179e"
             ],
             [
              0.4444444444444444,
              "#bd3786"
             ],
             [
              0.5555555555555556,
              "#d8576b"
             ],
             [
              0.6666666666666666,
              "#ed7953"
             ],
             [
              0.7777777777777778,
              "#fb9f3a"
             ],
             [
              0.8888888888888888,
              "#fdca26"
             ],
             [
              1,
              "#f0f921"
             ]
            ],
            "type": "surface"
           }
          ],
          "table": [
           {
            "cells": {
             "fill": {
              "color": "#EBF0F8"
             },
             "line": {
              "color": "white"
             }
            },
            "header": {
             "fill": {
              "color": "#C8D4E3"
             },
             "line": {
              "color": "white"
             }
            },
            "type": "table"
           }
          ]
         },
         "layout": {
          "annotationdefaults": {
           "arrowcolor": "#2a3f5f",
           "arrowhead": 0,
           "arrowwidth": 1
          },
          "autotypenumbers": "strict",
          "coloraxis": {
           "colorbar": {
            "outlinewidth": 0,
            "ticks": ""
           }
          },
          "colorscale": {
           "diverging": [
            [
             0,
             "#8e0152"
            ],
            [
             0.1,
             "#c51b7d"
            ],
            [
             0.2,
             "#de77ae"
            ],
            [
             0.3,
             "#f1b6da"
            ],
            [
             0.4,
             "#fde0ef"
            ],
            [
             0.5,
             "#f7f7f7"
            ],
            [
             0.6,
             "#e6f5d0"
            ],
            [
             0.7,
             "#b8e186"
            ],
            [
             0.8,
             "#7fbc41"
            ],
            [
             0.9,
             "#4d9221"
            ],
            [
             1,
             "#276419"
            ]
           ],
           "sequential": [
            [
             0,
             "#0d0887"
            ],
            [
             0.1111111111111111,
             "#46039f"
            ],
            [
             0.2222222222222222,
             "#7201a8"
            ],
            [
             0.3333333333333333,
             "#9c179e"
            ],
            [
             0.4444444444444444,
             "#bd3786"
            ],
            [
             0.5555555555555556,
             "#d8576b"
            ],
            [
             0.6666666666666666,
             "#ed7953"
            ],
            [
             0.7777777777777778,
             "#fb9f3a"
            ],
            [
             0.8888888888888888,
             "#fdca26"
            ],
            [
             1,
             "#f0f921"
            ]
           ],
           "sequentialminus": [
            [
             0,
             "#0d0887"
            ],
            [
             0.1111111111111111,
             "#46039f"
            ],
            [
             0.2222222222222222,
             "#7201a8"
            ],
            [
             0.3333333333333333,
             "#9c179e"
            ],
            [
             0.4444444444444444,
             "#bd3786"
            ],
            [
             0.5555555555555556,
             "#d8576b"
            ],
            [
             0.6666666666666666,
             "#ed7953"
            ],
            [
             0.7777777777777778,
             "#fb9f3a"
            ],
            [
             0.8888888888888888,
             "#fdca26"
            ],
            [
             1,
             "#f0f921"
            ]
           ]
          },
          "colorway": [
           "#636efa",
           "#EF553B",
           "#00cc96",
           "#ab63fa",
           "#FFA15A",
           "#19d3f3",
           "#FF6692",
           "#B6E880",
           "#FF97FF",
           "#FECB52"
          ],
          "font": {
           "color": "#2a3f5f"
          },
          "geo": {
           "bgcolor": "white",
           "lakecolor": "white",
           "landcolor": "#E5ECF6",
           "showlakes": true,
           "showland": true,
           "subunitcolor": "white"
          },
          "hoverlabel": {
           "align": "left"
          },
          "hovermode": "closest",
          "mapbox": {
           "style": "light"
          },
          "paper_bgcolor": "white",
          "plot_bgcolor": "#E5ECF6",
          "polar": {
           "angularaxis": {
            "gridcolor": "white",
            "linecolor": "white",
            "ticks": ""
           },
           "bgcolor": "#E5ECF6",
           "radialaxis": {
            "gridcolor": "white",
            "linecolor": "white",
            "ticks": ""
           }
          },
          "scene": {
           "xaxis": {
            "backgroundcolor": "#E5ECF6",
            "gridcolor": "white",
            "gridwidth": 2,
            "linecolor": "white",
            "showbackground": true,
            "ticks": "",
            "zerolinecolor": "white"
           },
           "yaxis": {
            "backgroundcolor": "#E5ECF6",
            "gridcolor": "white",
            "gridwidth": 2,
            "linecolor": "white",
            "showbackground": true,
            "ticks": "",
            "zerolinecolor": "white"
           },
           "zaxis": {
            "backgroundcolor": "#E5ECF6",
            "gridcolor": "white",
            "gridwidth": 2,
            "linecolor": "white",
            "showbackground": true,
            "ticks": "",
            "zerolinecolor": "white"
           }
          },
          "shapedefaults": {
           "line": {
            "color": "#2a3f5f"
           }
          },
          "ternary": {
           "aaxis": {
            "gridcolor": "white",
            "linecolor": "white",
            "ticks": ""
           },
           "baxis": {
            "gridcolor": "white",
            "linecolor": "white",
            "ticks": ""
           },
           "bgcolor": "#E5ECF6",
           "caxis": {
            "gridcolor": "white",
            "linecolor": "white",
            "ticks": ""
           }
          },
          "title": {
           "x": 0.05
          },
          "xaxis": {
           "automargin": true,
           "gridcolor": "white",
           "linecolor": "white",
           "ticks": "",
           "title": {
            "standoff": 15
           },
           "zerolinecolor": "white",
           "zerolinewidth": 2
          },
          "yaxis": {
           "automargin": true,
           "gridcolor": "white",
           "linecolor": "white",
           "ticks": "",
           "title": {
            "standoff": 15
           },
           "zerolinecolor": "white",
           "zerolinewidth": 2
          }
         }
        },
        "width": 800
       }
      }
     },
     "metadata": {},
     "output_type": "display_data"
    }
   ],
   "source": [
    "plot_embeding(emb_matrix, [\"ps\", \"futebol\", \"mãe\", \"carne\", \"ensino\"], 10, \"TSNE\")"
   ]
  },
  {
   "cell_type": "code",
   "execution_count": null,
   "id": "e323c246",
   "metadata": {},
   "outputs": [
    {
     "data": {
      "application/vnd.plotly.v1+json": {
       "config": {
        "plotlyServerURL": "https://plot.ly"
       },
       "data": [
        {
         "marker": {
          "color": "black",
          "opacity": 1,
          "size": 20
         },
         "mode": "markers+text",
         "name": "input words",
         "text": [
          "1",
          "março",
          "joão",
          "gramas"
         ],
         "textfont": {
          "size": 15
         },
         "textposition": "top center",
         "type": "scatter",
         "x": [
          0.8119137287139893,
          -1.0756679773330688,
          -0.3600016236305237,
          1.523598313331604
         ],
         "y": [
          6.698259353637695,
          7.65192174911499,
          9.640748977661133,
          8.680902481079102
         ]
        },
        {
         "marker": {
          "color": 2,
          "opacity": 0.8,
          "size": 10
         },
         "mode": "markers+text",
         "name": "1",
         "text": [
          "2",
          "3",
          "4",
          "0",
          "5",
          "6",
          "7",
          "8",
          "10",
          "15"
         ],
         "textfont": {
          "size": 15
         },
         "textposition": "top center",
         "type": "scatter",
         "x": [
          0.7614724636077881,
          0.7020693421363831,
          0.6618326902389526,
          1.1751405000686646,
          0.6465380787849426,
          0.5394096374511719,
          0.5896517634391785,
          0.5811318159103394,
          0.2205067276954651,
          0.12319350242614746
         ],
         "y": [
          6.708187103271484,
          6.743575572967529,
          6.850488662719727,
          6.694146633148193,
          6.921743392944336,
          6.951899528503418,
          7.016968727111816,
          7.043182849884033,
          6.596450328826904,
          6.572120666503906
         ]
        },
        {
         "marker": {
          "color": 2,
          "opacity": 0.8,
          "size": 10
         },
         "mode": "markers+text",
         "name": "março",
         "text": [
          "fevereiro",
          "julho",
          "novembro",
          "dezembro",
          "maio",
          "outubro",
          "junho",
          "setembro",
          "agosto",
          "janeiro"
         ],
         "textfont": {
          "size": 15
         },
         "textposition": "top center",
         "type": "scatter",
         "x": [
          -1.1287059783935547,
          -0.9346203804016113,
          -1.1090980768203735,
          -1.1149874925613403,
          -1.1182199716567993,
          -1.134568214416504,
          -0.9981021285057068,
          -0.8619403839111328,
          -0.8677979111671448,
          -0.6893416047096252
         ],
         "y": [
          7.780637741088867,
          7.567286491394043,
          7.742410182952881,
          7.559437274932861,
          7.386139392852783,
          7.4241838455200195,
          7.47892951965332,
          7.657848358154297,
          7.503905296325684,
          7.835306644439697
         ]
        },
        {
         "marker": {
          "color": 2,
          "opacity": 0.8,
          "size": 10
         },
         "mode": "markers+text",
         "name": "joão",
         "text": [
          "rui",
          "susana",
          "josé",
          "vasco",
          "ricardo",
          "advogado",
          "joaquim",
          "francisco",
          "jorge",
          "alfa"
         ],
         "textfont": {
          "size": 15
         },
         "textposition": "top center",
         "type": "scatter",
         "x": [
          -0.6175903677940369,
          -0.0628400444984436,
          -0.6894932985305786,
          -0.17536015808582306,
          -0.6084331274032593,
          -0.8816167116165161,
          -0.5548012256622314,
          -0.5366507172584534,
          -0.23453086614608765,
          0.0455428846180439
         ],
         "y": [
          9.434412956237793,
          9.78790283203125,
          9.718879699707031,
          9.781900405883789,
          9.435901641845703,
          9.539032936096191,
          9.691263198852539,
          9.8882474899292,
          9.946784973144531,
          9.196710586547852
         ]
        },
        {
         "marker": {
          "color": 2,
          "opacity": 0.8,
          "size": 10
         },
         "mode": "markers+text",
         "name": "gramas",
         "text": [
          "quilos",
          "quilogramas",
          "doses",
          "toneladas",
          "litros",
          "barris",
          "álcool",
          "cêntimos",
          "mm",
          "dólares"
         ],
         "textfont": {
          "size": 15
         },
         "textposition": "top center",
         "type": "scatter",
         "x": [
          1.3736610412597656,
          1.2299762964248657,
          1.2345138788223267,
          1.2569873332977295,
          1.3671616315841675,
          1.0034403800964355,
          1.7488079071044922,
          1.5574657917022705,
          1.8573254346847534,
          1.1595184803009033
         ],
         "y": [
          8.617313385009766,
          8.738384246826172,
          8.638072967529297,
          8.501211166381836,
          8.29944896697998,
          8.334511756896973,
          9.045823097229004,
          7.888372421264648,
          8.327756881713867,
          8.18951416015625
         ]
        }
       ],
       "layout": {
        "autosize": false,
        "font": {
         "family": " Courier New ",
         "size": 1
        },
        "height": 600,
        "legend": {
         "font": {
          "color": "black",
          "family": "Courier New",
          "size": 15
         },
         "x": 1,
         "y": 0.5
        },
        "margin": {
         "b": 0,
         "l": 0,
         "r": 0,
         "t": 0
        },
        "showlegend": true,
        "template": {
         "data": {
          "bar": [
           {
            "error_x": {
             "color": "#2a3f5f"
            },
            "error_y": {
             "color": "#2a3f5f"
            },
            "marker": {
             "line": {
              "color": "#E5ECF6",
              "width": 0.5
             },
             "pattern": {
              "fillmode": "overlay",
              "size": 10,
              "solidity": 0.2
             }
            },
            "type": "bar"
           }
          ],
          "barpolar": [
           {
            "marker": {
             "line": {
              "color": "#E5ECF6",
              "width": 0.5
             },
             "pattern": {
              "fillmode": "overlay",
              "size": 10,
              "solidity": 0.2
             }
            },
            "type": "barpolar"
           }
          ],
          "carpet": [
           {
            "aaxis": {
             "endlinecolor": "#2a3f5f",
             "gridcolor": "white",
             "linecolor": "white",
             "minorgridcolor": "white",
             "startlinecolor": "#2a3f5f"
            },
            "baxis": {
             "endlinecolor": "#2a3f5f",
             "gridcolor": "white",
             "linecolor": "white",
             "minorgridcolor": "white",
             "startlinecolor": "#2a3f5f"
            },
            "type": "carpet"
           }
          ],
          "choropleth": [
           {
            "colorbar": {
             "outlinewidth": 0,
             "ticks": ""
            },
            "type": "choropleth"
           }
          ],
          "contour": [
           {
            "colorbar": {
             "outlinewidth": 0,
             "ticks": ""
            },
            "colorscale": [
             [
              0,
              "#0d0887"
             ],
             [
              0.1111111111111111,
              "#46039f"
             ],
             [
              0.2222222222222222,
              "#7201a8"
             ],
             [
              0.3333333333333333,
              "#9c179e"
             ],
             [
              0.4444444444444444,
              "#bd3786"
             ],
             [
              0.5555555555555556,
              "#d8576b"
             ],
             [
              0.6666666666666666,
              "#ed7953"
             ],
             [
              0.7777777777777778,
              "#fb9f3a"
             ],
             [
              0.8888888888888888,
              "#fdca26"
             ],
             [
              1,
              "#f0f921"
             ]
            ],
            "type": "contour"
           }
          ],
          "contourcarpet": [
           {
            "colorbar": {
             "outlinewidth": 0,
             "ticks": ""
            },
            "type": "contourcarpet"
           }
          ],
          "heatmap": [
           {
            "colorbar": {
             "outlinewidth": 0,
             "ticks": ""
            },
            "colorscale": [
             [
              0,
              "#0d0887"
             ],
             [
              0.1111111111111111,
              "#46039f"
             ],
             [
              0.2222222222222222,
              "#7201a8"
             ],
             [
              0.3333333333333333,
              "#9c179e"
             ],
             [
              0.4444444444444444,
              "#bd3786"
             ],
             [
              0.5555555555555556,
              "#d8576b"
             ],
             [
              0.6666666666666666,
              "#ed7953"
             ],
             [
              0.7777777777777778,
              "#fb9f3a"
             ],
             [
              0.8888888888888888,
              "#fdca26"
             ],
             [
              1,
              "#f0f921"
             ]
            ],
            "type": "heatmap"
           }
          ],
          "heatmapgl": [
           {
            "colorbar": {
             "outlinewidth": 0,
             "ticks": ""
            },
            "colorscale": [
             [
              0,
              "#0d0887"
             ],
             [
              0.1111111111111111,
              "#46039f"
             ],
             [
              0.2222222222222222,
              "#7201a8"
             ],
             [
              0.3333333333333333,
              "#9c179e"
             ],
             [
              0.4444444444444444,
              "#bd3786"
             ],
             [
              0.5555555555555556,
              "#d8576b"
             ],
             [
              0.6666666666666666,
              "#ed7953"
             ],
             [
              0.7777777777777778,
              "#fb9f3a"
             ],
             [
              0.8888888888888888,
              "#fdca26"
             ],
             [
              1,
              "#f0f921"
             ]
            ],
            "type": "heatmapgl"
           }
          ],
          "histogram": [
           {
            "marker": {
             "pattern": {
              "fillmode": "overlay",
              "size": 10,
              "solidity": 0.2
             }
            },
            "type": "histogram"
           }
          ],
          "histogram2d": [
           {
            "colorbar": {
             "outlinewidth": 0,
             "ticks": ""
            },
            "colorscale": [
             [
              0,
              "#0d0887"
             ],
             [
              0.1111111111111111,
              "#46039f"
             ],
             [
              0.2222222222222222,
              "#7201a8"
             ],
             [
              0.3333333333333333,
              "#9c179e"
             ],
             [
              0.4444444444444444,
              "#bd3786"
             ],
             [
              0.5555555555555556,
              "#d8576b"
             ],
             [
              0.6666666666666666,
              "#ed7953"
             ],
             [
              0.7777777777777778,
              "#fb9f3a"
             ],
             [
              0.8888888888888888,
              "#fdca26"
             ],
             [
              1,
              "#f0f921"
             ]
            ],
            "type": "histogram2d"
           }
          ],
          "histogram2dcontour": [
           {
            "colorbar": {
             "outlinewidth": 0,
             "ticks": ""
            },
            "colorscale": [
             [
              0,
              "#0d0887"
             ],
             [
              0.1111111111111111,
              "#46039f"
             ],
             [
              0.2222222222222222,
              "#7201a8"
             ],
             [
              0.3333333333333333,
              "#9c179e"
             ],
             [
              0.4444444444444444,
              "#bd3786"
             ],
             [
              0.5555555555555556,
              "#d8576b"
             ],
             [
              0.6666666666666666,
              "#ed7953"
             ],
             [
              0.7777777777777778,
              "#fb9f3a"
             ],
             [
              0.8888888888888888,
              "#fdca26"
             ],
             [
              1,
              "#f0f921"
             ]
            ],
            "type": "histogram2dcontour"
           }
          ],
          "mesh3d": [
           {
            "colorbar": {
             "outlinewidth": 0,
             "ticks": ""
            },
            "type": "mesh3d"
           }
          ],
          "parcoords": [
           {
            "line": {
             "colorbar": {
              "outlinewidth": 0,
              "ticks": ""
             }
            },
            "type": "parcoords"
           }
          ],
          "pie": [
           {
            "automargin": true,
            "type": "pie"
           }
          ],
          "scatter": [
           {
            "fillpattern": {
             "fillmode": "overlay",
             "size": 10,
             "solidity": 0.2
            },
            "type": "scatter"
           }
          ],
          "scatter3d": [
           {
            "line": {
             "colorbar": {
              "outlinewidth": 0,
              "ticks": ""
             }
            },
            "marker": {
             "colorbar": {
              "outlinewidth": 0,
              "ticks": ""
             }
            },
            "type": "scatter3d"
           }
          ],
          "scattercarpet": [
           {
            "marker": {
             "colorbar": {
              "outlinewidth": 0,
              "ticks": ""
             }
            },
            "type": "scattercarpet"
           }
          ],
          "scattergeo": [
           {
            "marker": {
             "colorbar": {
              "outlinewidth": 0,
              "ticks": ""
             }
            },
            "type": "scattergeo"
           }
          ],
          "scattergl": [
           {
            "marker": {
             "colorbar": {
              "outlinewidth": 0,
              "ticks": ""
             }
            },
            "type": "scattergl"
           }
          ],
          "scattermapbox": [
           {
            "marker": {
             "colorbar": {
              "outlinewidth": 0,
              "ticks": ""
             }
            },
            "type": "scattermapbox"
           }
          ],
          "scatterpolar": [
           {
            "marker": {
             "colorbar": {
              "outlinewidth": 0,
              "ticks": ""
             }
            },
            "type": "scatterpolar"
           }
          ],
          "scatterpolargl": [
           {
            "marker": {
             "colorbar": {
              "outlinewidth": 0,
              "ticks": ""
             }
            },
            "type": "scatterpolargl"
           }
          ],
          "scatterternary": [
           {
            "marker": {
             "colorbar": {
              "outlinewidth": 0,
              "ticks": ""
             }
            },
            "type": "scatterternary"
           }
          ],
          "surface": [
           {
            "colorbar": {
             "outlinewidth": 0,
             "ticks": ""
            },
            "colorscale": [
             [
              0,
              "#0d0887"
             ],
             [
              0.1111111111111111,
              "#46039f"
             ],
             [
              0.2222222222222222,
              "#7201a8"
             ],
             [
              0.3333333333333333,
              "#9c179e"
             ],
             [
              0.4444444444444444,
              "#bd3786"
             ],
             [
              0.5555555555555556,
              "#d8576b"
             ],
             [
              0.6666666666666666,
              "#ed7953"
             ],
             [
              0.7777777777777778,
              "#fb9f3a"
             ],
             [
              0.8888888888888888,
              "#fdca26"
             ],
             [
              1,
              "#f0f921"
             ]
            ],
            "type": "surface"
           }
          ],
          "table": [
           {
            "cells": {
             "fill": {
              "color": "#EBF0F8"
             },
             "line": {
              "color": "white"
             }
            },
            "header": {
             "fill": {
              "color": "#C8D4E3"
             },
             "line": {
              "color": "white"
             }
            },
            "type": "table"
           }
          ]
         },
         "layout": {
          "annotationdefaults": {
           "arrowcolor": "#2a3f5f",
           "arrowhead": 0,
           "arrowwidth": 1
          },
          "autotypenumbers": "strict",
          "coloraxis": {
           "colorbar": {
            "outlinewidth": 0,
            "ticks": ""
           }
          },
          "colorscale": {
           "diverging": [
            [
             0,
             "#8e0152"
            ],
            [
             0.1,
             "#c51b7d"
            ],
            [
             0.2,
             "#de77ae"
            ],
            [
             0.3,
             "#f1b6da"
            ],
            [
             0.4,
             "#fde0ef"
            ],
            [
             0.5,
             "#f7f7f7"
            ],
            [
             0.6,
             "#e6f5d0"
            ],
            [
             0.7,
             "#b8e186"
            ],
            [
             0.8,
             "#7fbc41"
            ],
            [
             0.9,
             "#4d9221"
            ],
            [
             1,
             "#276419"
            ]
           ],
           "sequential": [
            [
             0,
             "#0d0887"
            ],
            [
             0.1111111111111111,
             "#46039f"
            ],
            [
             0.2222222222222222,
             "#7201a8"
            ],
            [
             0.3333333333333333,
             "#9c179e"
            ],
            [
             0.4444444444444444,
             "#bd3786"
            ],
            [
             0.5555555555555556,
             "#d8576b"
            ],
            [
             0.6666666666666666,
             "#ed7953"
            ],
            [
             0.7777777777777778,
             "#fb9f3a"
            ],
            [
             0.8888888888888888,
             "#fdca26"
            ],
            [
             1,
             "#f0f921"
            ]
           ],
           "sequentialminus": [
            [
             0,
             "#0d0887"
            ],
            [
             0.1111111111111111,
             "#46039f"
            ],
            [
             0.2222222222222222,
             "#7201a8"
            ],
            [
             0.3333333333333333,
             "#9c179e"
            ],
            [
             0.4444444444444444,
             "#bd3786"
            ],
            [
             0.5555555555555556,
             "#d8576b"
            ],
            [
             0.6666666666666666,
             "#ed7953"
            ],
            [
             0.7777777777777778,
             "#fb9f3a"
            ],
            [
             0.8888888888888888,
             "#fdca26"
            ],
            [
             1,
             "#f0f921"
            ]
           ]
          },
          "colorway": [
           "#636efa",
           "#EF553B",
           "#00cc96",
           "#ab63fa",
           "#FFA15A",
           "#19d3f3",
           "#FF6692",
           "#B6E880",
           "#FF97FF",
           "#FECB52"
          ],
          "font": {
           "color": "#2a3f5f"
          },
          "geo": {
           "bgcolor": "white",
           "lakecolor": "white",
           "landcolor": "#E5ECF6",
           "showlakes": true,
           "showland": true,
           "subunitcolor": "white"
          },
          "hoverlabel": {
           "align": "left"
          },
          "hovermode": "closest",
          "mapbox": {
           "style": "light"
          },
          "paper_bgcolor": "white",
          "plot_bgcolor": "#E5ECF6",
          "polar": {
           "angularaxis": {
            "gridcolor": "white",
            "linecolor": "white",
            "ticks": ""
           },
           "bgcolor": "#E5ECF6",
           "radialaxis": {
            "gridcolor": "white",
            "linecolor": "white",
            "ticks": ""
           }
          },
          "scene": {
           "xaxis": {
            "backgroundcolor": "#E5ECF6",
            "gridcolor": "white",
            "gridwidth": 2,
            "linecolor": "white",
            "showbackground": true,
            "ticks": "",
            "zerolinecolor": "white"
           },
           "yaxis": {
            "backgroundcolor": "#E5ECF6",
            "gridcolor": "white",
            "gridwidth": 2,
            "linecolor": "white",
            "showbackground": true,
            "ticks": "",
            "zerolinecolor": "white"
           },
           "zaxis": {
            "backgroundcolor": "#E5ECF6",
            "gridcolor": "white",
            "gridwidth": 2,
            "linecolor": "white",
            "showbackground": true,
            "ticks": "",
            "zerolinecolor": "white"
           }
          },
          "shapedefaults": {
           "line": {
            "color": "#2a3f5f"
           }
          },
          "ternary": {
           "aaxis": {
            "gridcolor": "white",
            "linecolor": "white",
            "ticks": ""
           },
           "baxis": {
            "gridcolor": "white",
            "linecolor": "white",
            "ticks": ""
           },
           "bgcolor": "#E5ECF6",
           "caxis": {
            "gridcolor": "white",
            "linecolor": "white",
            "ticks": ""
           }
          },
          "title": {
           "x": 0.05
          },
          "xaxis": {
           "automargin": true,
           "gridcolor": "white",
           "linecolor": "white",
           "ticks": "",
           "title": {
            "standoff": 15
           },
           "zerolinecolor": "white",
           "zerolinewidth": 2
          },
          "yaxis": {
           "automargin": true,
           "gridcolor": "white",
           "linecolor": "white",
           "ticks": "",
           "title": {
            "standoff": 15
           },
           "zerolinecolor": "white",
           "zerolinewidth": 2
          }
         }
        },
        "width": 800
       }
      }
     },
     "metadata": {},
     "output_type": "display_data"
    }
   ],
   "source": [
    "plot_embeding(emb_matrix, [\"1\", \"março\", \"joão\", \"gramas\"], 10, \"TSNE\")"
   ]
  },
  {
   "cell_type": "code",
   "execution_count": null,
   "id": "c542ba06",
   "metadata": {},
   "outputs": [
    {
     "name": "stdout",
     "output_type": "stream",
     "text": [
      "crime - 1.0\n",
      "crimes - 0.625\n",
      "homicídio - 0.401\n",
      "roubo - 0.363\n",
      "mp - 0.361\n",
      "arguido - 0.355\n"
     ]
    }
   ],
   "source": [
    "print_closest_words(emb_matrix, [\"crime\"], 5)"
   ]
  },
  {
   "cell_type": "code",
   "execution_count": null,
   "id": "995b3c9c",
   "metadata": {},
   "outputs": [
    {
     "name": "stdout",
     "output_type": "stream",
     "text": [
      "ronaldo - 1.0\n",
      "jogador - 0.413\n",
      "avançado - 0.38\n",
      "futebolista - 0.348\n",
      "seleção - 0.309\n",
      "compatriota - 0.308\n"
     ]
    }
   ],
   "source": [
    "print_closest_words(emb_matrix, [\"ronaldo\"], 5)"
   ]
  },
  {
   "cell_type": "code",
   "execution_count": null,
   "id": "15f06d4c",
   "metadata": {},
   "outputs": [
    {
     "name": "stdout",
     "output_type": "stream",
     "text": [
      "encarnados - 0.79\n",
      "futebol - 0.79\n",
      "benfica - 0.647\n",
      "leões - 0.641\n",
      "sporting - 0.595\n",
      "dragões - 0.547\n"
     ]
    }
   ],
   "source": [
    "print_closest_words(emb_matrix, [\"futebol\", \"encarnados\"], 5)"
   ]
  },
  {
   "cell_type": "code",
   "execution_count": null,
   "id": "dbf92142",
   "metadata": {},
   "outputs": [
    {
     "name": "stdout",
     "output_type": "stream",
     "text": [
      "futebol - 0.814\n",
      "leões - 0.812\n",
      "sporting - 0.643\n",
      "benfica - 0.625\n",
      "encarnados - 0.578\n",
      "dragões - 0.557\n"
     ]
    }
   ],
   "source": [
    "print_closest_words(emb_matrix, [\"futebol\", \"leões\"], 5)"
   ]
  },
  {
   "cell_type": "code",
   "execution_count": null,
   "id": "972c3812",
   "metadata": {},
   "outputs": [
    {
     "name": "stdout",
     "output_type": "stream",
     "text": [
      "jovens - 0.769\n",
      "ensino - 0.766\n",
      "alunos - 0.544\n",
      "estudantes - 0.535\n",
      "crianças - 0.372\n",
      "professores - 0.369\n"
     ]
    }
   ],
   "source": [
    "print_closest_words(emb_matrix, [\"ensino\", \"jovens\"], 5)"
   ]
  },
  {
   "cell_type": "code",
   "execution_count": null,
   "id": "91dd5bc2",
   "metadata": {},
   "outputs": [],
   "source": [
    "def emb_operation(emb_matrix, positive, negative, k=5):\n",
    "\n",
    "    pos_embedings = [emb_matrix[word_to_ix[w]] for w in positive]\n",
    "    neg_embedings = [emb_matrix[word_to_ix[w]] for w in negative]\n",
    "\n",
    "    res = sum(pos_embedings) - sum(neg_embedings)\n",
    "\n",
    "    similarities = nn.functional.cosine_similarity(emb_matrix, res)\n",
    "\n",
    "    values, indices = torch.topk(similarities, k + 1)\n",
    "\n",
    "    for i in range(k + 1):\n",
    "        print(ix_to_word[indices[i].item()], \"-\", round(values[i].item(), 3))"
   ]
  },
  {
   "cell_type": "code",
   "execution_count": null,
   "id": "48945b0e",
   "metadata": {},
   "outputs": [
    {
     "name": "stdout",
     "output_type": "stream",
     "text": [
      "homem - 0.711\n",
      "mãe - 0.69\n",
      "pai - 0.396\n",
      "bebé - 0.395\n",
      "jovem - 0.394\n",
      "filho - 0.384\n"
     ]
    }
   ],
   "source": [
    "emb_operation(emb_matrix, [\"mãe\", \"homem\"], [\"mulher\"], 5)"
   ]
  },
  {
   "cell_type": "code",
   "execution_count": null,
   "id": "f60fcd2e",
   "metadata": {},
   "outputs": [],
   "source": [
    "emb_matrix_cpu = emb_matrix.cpu().detach().numpy()\n",
    "\n",
    "proj = PCA(random_state=0).fit_transform(emb_matrix_cpu)[:, :2]\n",
    "\n",
    "# proj = TSNE(n_components = 2, random_state=0).fit_transform(emb_matrix_cpu[sim_ixs])[:,:2]\n",
    "\n",
    "data = []\n",
    "\n",
    "data.append(\n",
    "    go.Scatter(\n",
    "        x=proj[:, 0],\n",
    "        y=proj[:, 1],\n",
    "        text=sorted(vocab),\n",
    "        name=\"words\",\n",
    "        textposition=\"top center\",\n",
    "        textfont_size=10,\n",
    "        mode=\"markers+text\",\n",
    "        marker={\"size\": 5, \"opacity\": 1, \"color\": \"black\"},\n",
    "    )\n",
    ")\n",
    "\n",
    "# Define the layout\n",
    "layout = go.Layout(\n",
    "    margin={\"l\": 0, \"r\": 0, \"b\": 0, \"t\": 0},\n",
    "    showlegend=False,\n",
    "    font=dict(family=\" Courier New \", size=1),\n",
    "    autosize=False,\n",
    "    width=800,\n",
    "    height=600,\n",
    ")\n",
    "\n",
    "plot_figure = go.Figure(data, layout)\n",
    "plot_figure.show()"
   ]
  },
  {
   "cell_type": "code",
   "execution_count": null,
   "id": "6b9f4930",
   "metadata": {},
   "outputs": [],
   "source": []
  }
 ],
 "metadata": {
  "kernelspec": {
   "display_name": "Python 3 (ipykernel)",
   "language": "python",
   "name": "python3"
  },
  "language_info": {
   "codemirror_mode": {
    "name": "ipython",
    "version": 3
   },
   "file_extension": ".py",
   "mimetype": "text/x-python",
   "name": "python",
   "nbconvert_exporter": "python",
   "pygments_lexer": "ipython3",
   "version": "3.9.12"
  }
 },
 "nbformat": 4,
 "nbformat_minor": 5
}
