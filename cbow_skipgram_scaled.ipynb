{
 "cells": [
  {
   "cell_type": "code",
   "execution_count": null,
   "metadata": {
    "id": "EvVlYj7Jv-EX"
   },
   "outputs": [],
   "source": [
    "train_set = []\n",
    "\n",
    "with open(\"/content/drive/MyDrive/dataset.txt\", \"r\") as file:\n",
    "    i = 0\n",
    "    for line in file:\n",
    "        i += 1"
   ]
  },
  {
   "cell_type": "code",
   "execution_count": null,
   "metadata": {
    "id": "aRCqD2u2uPmo"
   },
   "outputs": [],
   "source": [
    "train_set = []\n",
    "\n",
    "with open(\"/content/drive/MyDrive/dataset.txt\", \"r\") as file:\n",
    "    i = 0\n",
    "    for line in file:\n",
    "        i += 1\n",
    "        if i > 10_000_000:\n",
    "            break\n",
    "        train_set.append(line.strip().split())"
   ]
  },
  {
   "cell_type": "code",
   "execution_count": null,
   "metadata": {
    "id": "82MoXlI9uf0l"
   },
   "outputs": [],
   "source": [
    "len(train_set)"
   ]
  },
  {
   "cell_type": "code",
   "execution_count": null,
   "metadata": {
    "id": "upBjfJvgwGuW"
   },
   "outputs": [],
   "source": [
    "from gensim.models.word2vec import LineSentence\n",
    "\n",
    "\n",
    "sentences = LineSentence(\"/content/drive/MyDrive/dataset.txt\")"
   ]
  },
  {
   "cell_type": "code",
   "execution_count": null,
   "metadata": {
    "id": "I6JpiSRSKWbd"
   },
   "outputs": [],
   "source": [
    "from gensim.models import Word2Vec\n",
    "from gensim.models.word2vec import LineSentence\n",
    "\n",
    "\n",
    "size = 300\n",
    "window = 5\n",
    "min_count = 200\n",
    "workers = 3\n",
    "negative = 15\n",
    "alpha = 0.025\n",
    "\n",
    "model = Word2Vec(\n",
    "    sentences,\n",
    "    vector_size=size,\n",
    "    window=window,\n",
    "    min_count=min_count,\n",
    "    workers=workers,\n",
    "    sg=1,\n",
    "    negative=negative,\n",
    "    alpha=alpha,\n",
    "    epochs=1,\n",
    ")"
   ]
  },
  {
   "cell_type": "code",
   "execution_count": null,
   "metadata": {
    "colab": {
     "base_uri": "https://localhost:8080/"
    },
    "id": "lTto3i6CM25r",
    "outputId": "029f8257-6862-424e-e06c-0a1d481269ab"
   },
   "outputs": [
    {
     "name": "stdout",
     "output_type": "stream",
     "text": [
      "[('jipe', 0.8449032306671143), ('veículo', 0.8017972111701965), ('motorizada', 0.752616822719574), ('viatura', 0.7471174001693726), ('autocaravana', 0.7390323877334595)]\n"
     ]
    }
   ],
   "source": [
    "print(model.wv.most_similar(\"carro\", topn=5))"
   ]
  },
  {
   "cell_type": "code",
   "execution_count": null,
   "metadata": {
    "colab": {
     "base_uri": "https://localhost:8080/"
    },
    "id": "0PAMjc6UZgZT",
    "outputId": "104fa309-e23d-4cff-d124-4c3e1955b79f"
   },
   "outputs": [
    {
     "name": "stdout",
     "output_type": "stream",
     "text": [
      "[('mãe', 0.8078006505966187), ('tia', 0.7760241627693176), ('irmã', 0.766018271446228), ('sobrinha', 0.7489227652549744), ('avó', 0.7484900951385498)]\n"
     ]
    }
   ],
   "source": [
    "print(model.wv.most_similar(positive=[\"pai\", \"filha\"], negative=[\"filho\"], topn=5))"
   ]
  },
  {
   "cell_type": "code",
   "execution_count": null,
   "metadata": {
    "id": "X5pyR65xp5cN"
   },
   "outputs": [],
   "source": [
    "from gensim.models import Word2Vec\n",
    "from gensim.models.word2vec import LineSentence\n",
    "\n",
    "sentences = LineSentence(\"/content/drive/MyDrive/dataset.txt\")\n",
    "\n",
    "model = Word2Vec.load(\"/content/drive/MyDrive/SKIPGRAM_complete\")\n",
    "\n",
    "more_epochs = 1\n",
    "model.train(\n",
    "    sentences,\n",
    "    total_examples=model.corpus_count,\n",
    "    epochs=more_epochs,\n",
    "    start_alpha=model.alpha,\n",
    ")"
   ]
  },
  {
   "cell_type": "code",
   "execution_count": null,
   "metadata": {
    "colab": {
     "base_uri": "https://localhost:8080/",
     "height": 35
    },
    "id": "O5grz2_cp5Mm",
    "outputId": "7d00e4c8-b199-45f0-fc47-edac04ff6a38"
   },
   "outputs": [
    {
     "data": {
      "application/vnd.google.colaboratory.intrinsic+json": {
       "type": "string"
      },
      "text/plain": [
       "'1.24.3'"
      ]
     },
     "execution_count": 1,
     "metadata": {},
     "output_type": "execute_result"
    }
   ],
   "source": [
    "import numpy\n",
    "\n",
    "\n",
    "\n",
    "numpy.version.version"
   ]
  },
  {
   "cell_type": "code",
   "execution_count": null,
   "metadata": {
    "id": "pY9jWo9TfhqG"
   },
   "outputs": [],
   "source": [
    "from gensim.models import Word2Vec"
   ]
  },
  {
   "cell_type": "code",
   "execution_count": null,
   "metadata": {
    "id": "eUHoFNv7fhnK"
   },
   "outputs": [],
   "source": [
    "model = Word2Vec.load(\"/content/drive/MyDrive/SKIPGRAM-VERYCOMPLETE\")"
   ]
  },
  {
   "cell_type": "code",
   "execution_count": null,
   "metadata": {
    "colab": {
     "base_uri": "https://localhost:8080/"
    },
    "id": "vkqi8UYqf0rv",
    "outputId": "9c606b38-6d6a-4db5-95b9-88babbdfe348"
   },
   "outputs": [
    {
     "name": "stdout",
     "output_type": "stream",
     "text": [
      "[('viatura', 0.7543141841888428), ('jipe', 0.7510409951210022), ('veículo', 0.7474261522293091), ('motorizada', 0.7078578472137451), ('carrinha', 0.6915445327758789)]\n"
     ]
    }
   ],
   "source": [
    "print(model.wv.most_similar(\"carro\", topn=5))"
   ]
  },
  {
   "cell_type": "code",
   "execution_count": null,
   "metadata": {
    "colab": {
     "base_uri": "https://localhost:8080/"
    },
    "id": "Tmxy6JSNq_1Y",
    "outputId": "d40e97ab-ea4e-4ff7-8b65-b64f342b716e"
   },
   "outputs": [
    {
     "name": "stdout",
     "output_type": "stream",
     "text": [
      "[('Paris', 0.5914446711540222), ('Brive', 0.5265403985977173), ('Nanterre', 0.5236431360244751), ('Rouen', 0.5001103281974792), ('Boulogne', 0.4871380627155304)]\n"
     ]
    }
   ],
   "source": [
    "print(\n",
    "    model.wv.most_similar(positive=[\"Lisboa\", \"França\"], negative=[\"Portugal\"], topn=5)\n",
    ")"
   ]
  },
  {
   "cell_type": "code",
   "execution_count": null,
   "metadata": {
    "colab": {
     "base_uri": "https://localhost:8080/"
    },
    "id": "Q1yO_ZdGqecz",
    "outputId": "33ce9098-b6f3-4b6a-f5d2-7ec57963652a"
   },
   "outputs": [
    {
     "name": "stdout",
     "output_type": "stream",
     "text": [
      "[('Inverno', 0.6651300191879272), ('verão', 0.6158168911933899), ('inverno', 0.5994593501091003), ('Outono', 0.5329179763793945), ('estival', 0.4306049644947052)]\n"
     ]
    }
   ],
   "source": [
    "print(model.wv.most_similar(positive=[\"Verão\", \"frio\"], negative=[\"quente\"], topn=5))"
   ]
  },
  {
   "cell_type": "code",
   "execution_count": null,
   "metadata": {
    "colab": {
     "base_uri": "https://localhost:8080/"
    },
    "id": "v7WmIbXIqWEX",
    "outputId": "80a06edb-8c61-4365-f0fb-3334029b362f"
   },
   "outputs": [
    {
     "name": "stdout",
     "output_type": "stream",
     "text": [
      "[('Modigliani', 0.5821676254272461), ('Picasso', 0.5787156820297241), ('Chagall', 0.5741919875144958), ('Matisse', 0.5536707639694214), ('Manet', 0.5403190851211548)]\n"
     ]
    }
   ],
   "source": [
    "print(\n",
    "    model.wv.most_similar(\n",
    "        positive=[\"Einstein\", \"pintor\"], negative=[\"cientista\"], topn=5\n",
    "    )\n",
    ")"
   ]
  },
  {
   "cell_type": "code",
   "execution_count": null,
   "metadata": {
    "colab": {
     "base_uri": "https://localhost:8080/"
    },
    "id": "FsQ-83pZfhin",
    "outputId": "6b3c161b-cec5-4fac-992a-fd662c7c6b44"
   },
   "outputs": [
    {
     "name": "stdout",
     "output_type": "stream",
     "text": [
      "[('Apple', 0.7757056951522827), ('Samsung', 0.6781055331230164), ('iPad', 0.6757962703704834), ('Google', 0.6453433036804199), ('Intel', 0.6296945214271545)]\n"
     ]
    }
   ],
   "source": [
    "print(\n",
    "    model.wv.most_similar(\n",
    "        positive=[\"Microsoft\", \"iPhone\"], negative=[\"Windows\"], topn=5\n",
    "    )\n",
    ")"
   ]
  },
  {
   "cell_type": "code",
   "execution_count": null,
   "metadata": {
    "colab": {
     "base_uri": "https://localhost:8080/"
    },
    "id": "pIafnq5a3Ioi",
    "outputId": "412fd28e-07d0-48af-f965-aa9520b081d6"
   },
   "outputs": [
    {
     "name": "stdout",
     "output_type": "stream",
     "text": [
      "Vocabulary size: 72757\n"
     ]
    }
   ],
   "source": [
    "print(\"Vocabulary size:\", len(model.wv.key_to_index))"
   ]
  },
  {
   "cell_type": "code",
   "execution_count": null,
   "metadata": {
    "id": "6UeAvIRefhUf"
   },
   "outputs": [],
   "source": [
    "category_scores = {}\n",
    "\n",
    "current_category = None\n",
    "\n",
    "with open(\"/content/drive/MyDrive/LX-4WAnalogies_v2.txt\", \"r\") as f:\n",
    "\n",
    "    for line in f:\n",
    "\n",
    "        words = line.strip().split()\n",
    "\n",
    "        if words[0] == \":\":\n",
    "            current_category = words[1]\n",
    "            category_scores[current_category] = {\n",
    "                \"valid_questions\": 0,\n",
    "                \"correct_answers\": 0,\n",
    "            }\n",
    "            continue\n",
    "\n",
    "        if all(word in model.wv.key_to_index for word in words):\n",
    "            category_scores[current_category][\"valid_questions\"] += 1\n",
    "            inferred_vector = model.wv.most_similar(\n",
    "                positive=[words[0], words[3]], negative=[words[1]], topn=1\n",
    "            )\n",
    "\n",
    "            if inferred_vector and inferred_vector[0][0] == words[2]:\n",
    "                category_scores[current_category][\"correct_answers\"] += 1"
   ]
  },
  {
   "cell_type": "code",
   "execution_count": null,
   "metadata": {
    "id": "X6RskBYup4PA"
   },
   "outputs": [],
   "source": [
    "for category, scores in category_scores.items():\n",
    "    valid_questions = scores[\"valid_questions\"]\n",
    "    correct_answers = scores[\"correct_answers\"]\n",
    "    score = correct_answers / valid_questions if valid_questions > 0 else 0\n",
    "    print(\n",
    "        f\"{category:<30}: {correct_answers:>5} / {valid_questions:>5} which is {100 * score:.2f}%\"\n",
    "    )"
   ]
  },
  {
   "cell_type": "code",
   "execution_count": null,
   "metadata": {
    "id": "LVC1WD0-l2Wh"
   },
   "outputs": [],
   "source": [
    "total_correct, total_questions = 0, 0\n",
    "for category, scores in category_scores.items():\n",
    "    valid_questions = scores[\"valid_questions\"]\n",
    "    correct_answers = scores[\"correct_answers\"]\n",
    "    total_questions += valid_questions\n",
    "    total_correct += correct_answers\n",
    "print(f\"Total score = {total_correct/total_questions:.3f}\")"
   ]
  },
  {
   "cell_type": "markdown",
   "metadata": {
    "id": "t6mEeTjmo9to"
   },
   "source": [
    "## Restricted"
   ]
  },
  {
   "cell_type": "code",
   "execution_count": null,
   "metadata": {
    "id": "0KLXf_jKpBQB"
   },
   "outputs": [],
   "source": [
    "category_scores = {}\n",
    "\n",
    "current_category = None\n",
    "\n",
    "restricted_vocab = list(model.wv.key_to_index.keys())[:30000]\n",
    "\n",
    "with open(\"/content/drive/MyDrive/LX-4WAnalogies_v2.txt\", \"r\") as f:\n",
    "\n",
    "    for line in f:\n",
    "\n",
    "        words = line.strip().split()\n",
    "\n",
    "        if words[0] == \":\":\n",
    "            current_category = words[1]\n",
    "            category_scores[current_category] = {\n",
    "                \"valid_questions\": 0,\n",
    "                \"correct_answers\": 0,\n",
    "            }\n",
    "            continue\n",
    "\n",
    "        if all(word in restricted_vocab for word in words):\n",
    "\n",
    "            category_scores[current_category][\"valid_questions\"] += 1\n",
    "\n",
    "            inferred_vector = model.wv.most_similar(\n",
    "                positive=[words[0], words[3]], negative=[words[1]], topn=1\n",
    "            )\n",
    "\n",
    "            if inferred_vector and inferred_vector[0][0] == words[2]:\n",
    "\n",
    "                category_scores[current_category][\"correct_answers\"] += 1"
   ]
  },
  {
   "cell_type": "code",
   "execution_count": null,
   "metadata": {
    "id": "AStOuz8NpDiZ"
   },
   "outputs": [],
   "source": [
    "total_correct, total_questions = 0, 0\n",
    "for category, scores in category_scores.items():\n",
    "    valid_questions = scores[\"valid_questions\"]\n",
    "    correct_answers = scores[\"correct_answers\"]\n",
    "    total_questions += valid_questions\n",
    "    total_correct += correct_answers\n",
    "print(f\"Total score = {total_correct/total_questions:.3f}\")"
   ]
  },
  {
   "cell_type": "code",
   "execution_count": null,
   "metadata": {
    "id": "Ykjgz7_mq3XY"
   },
   "outputs": [],
   "source": [
    "# CBOW 0.396 0.608 0.462 0.663\n",
    "# SKIP 0.467 0.692 0.527 0.744"
   ]
  },
  {
   "cell_type": "markdown",
   "metadata": {
    "id": "7sCz6UvXqD6-"
   },
   "source": [
    "## Accept top 5"
   ]
  },
  {
   "cell_type": "code",
   "execution_count": null,
   "metadata": {
    "id": "xSFSYMlbp4MM"
   },
   "outputs": [],
   "source": [
    "category_scores = {}\n",
    "\n",
    "current_category = None\n",
    "\n",
    "with open(\"/content/drive/MyDrive/LX-4WAnalogies_v2.txt\", \"r\") as f:\n",
    "\n",
    "    for line in f:\n",
    "\n",
    "        words = line.strip().split()\n",
    "\n",
    "        if words[0] == \":\":\n",
    "            current_category = words[1]\n",
    "            category_scores[current_category] = {\n",
    "                \"valid_questions\": 0,\n",
    "                \"correct_answers\": 0,\n",
    "            }\n",
    "            continue\n",
    "\n",
    "        if all(word in model.wv.key_to_index for word in words):\n",
    "\n",
    "            category_scores[current_category][\"valid_questions\"] += 1\n",
    "\n",
    "            inferred_vectors = model.wv.most_similar(\n",
    "                positive=[words[0], words[3]], negative=[words[1]], topn=5\n",
    "            )\n",
    "\n",
    "            predicted_words = [word for word, similarity in inferred_vectors]\n",
    "            if words[2] in predicted_words:\n",
    "\n",
    "                category_scores[current_category][\"correct_answers\"] += 1"
   ]
  },
  {
   "cell_type": "code",
   "execution_count": null,
   "metadata": {
    "colab": {
     "base_uri": "https://localhost:8080/"
    },
    "id": "-tkOYhdup4Jk",
    "outputId": "68d994e4-45d2-4b75-b226-d3d9ca6f7997"
   },
   "outputs": [
    {
     "name": "stdout",
     "output_type": "stream",
     "text": [
      "capital-common-countries      :   361 /   420 which is 85.95%\n",
      "capital-world                 :  1569 /  2085 which is 75.25%\n",
      "currency                      :     8 /   128 which is 6.25%\n",
      "city-in-state                 :    82 /   772 which is 10.62%\n",
      "family                        :   263 /   302 which is 87.09%\n",
      "gram1-adjective-to-adverb     :   192 /   592 which is 32.43%\n",
      "gram2-opposite                :    90 /   180 which is 50.00%\n",
      "gram3-comparative             :     0 /     0 which is 0.00%\n",
      "gram4-superlative             :    40 /    52 which is 76.92%\n",
      "gram5-present-participle      :   512 /   600 which is 85.33%\n",
      "gram6-nationality-adjective   :   212 /   333 which is 63.66%\n",
      "gram7-past-tense              :   781 /  1190 which is 65.63%\n",
      "gram8-plural                  :   567 /  1122 which is 50.53%\n",
      "gram9-plural-verbs            :   285 /   380 which is 75.00%\n"
     ]
    }
   ],
   "source": [
    "for category, scores in category_scores.items():\n",
    "    valid_questions = scores[\"valid_questions\"]\n",
    "    correct_answers = scores[\"correct_answers\"]\n",
    "    score = correct_answers / valid_questions if valid_questions > 0 else 0\n",
    "\n",
    "    print(\n",
    "        f\"{category:<30}: {correct_answers:>5} / {valid_questions:>5} which is {100 * score:.2f}%\"\n",
    "    )"
   ]
  },
  {
   "cell_type": "code",
   "execution_count": null,
   "metadata": {
    "colab": {
     "base_uri": "https://localhost:8080/"
    },
    "id": "24TusqbwbW9n",
    "outputId": "53aee5e0-b7c3-4aed-9dd1-69f0e838e587"
   },
   "outputs": [
    {
     "name": "stdout",
     "output_type": "stream",
     "text": [
      "Total score = 0.608\n"
     ]
    }
   ],
   "source": [
    "total_correct, total_questions = 0, 0\n",
    "for category, scores in category_scores.items():\n",
    "    valid_questions = scores[\"valid_questions\"]\n",
    "    correct_answers = scores[\"correct_answers\"]\n",
    "    total_questions += valid_questions\n",
    "    total_correct += correct_answers\n",
    "print(f\"Total score = {total_correct/total_questions:.3f}\")"
   ]
  },
  {
   "cell_type": "code",
   "execution_count": null,
   "metadata": {
    "id": "ahGcKaXrcQm4"
   },
   "outputs": [],
   "source": [
    "category_scores = {}\n",
    "\n",
    "current_category = None\n",
    "\n",
    "restricted_vocab = list(model.wv.key_to_index.keys())[:30000]\n",
    "\n",
    "with open(\"/content/drive/MyDrive/LX-4WAnalogies_v2.txt\", \"r\") as f:\n",
    "\n",
    "    for line in f:\n",
    "\n",
    "        words = line.strip().split()\n",
    "\n",
    "        if words[0] == \":\":\n",
    "            current_category = words[1]\n",
    "            category_scores[current_category] = {\n",
    "                \"valid_questions\": 0,\n",
    "                \"correct_answers\": 0,\n",
    "            }\n",
    "            continue\n",
    "\n",
    "        if all(word in restricted_vocab for word in words):\n",
    "\n",
    "            category_scores[current_category][\"valid_questions\"] += 1\n",
    "\n",
    "            inferred_vector = model.wv.most_similar(\n",
    "                positive=[words[0], words[3]], negative=[words[1]], topn=5\n",
    "            )\n",
    "\n",
    "            if any(word[0] == words[2] for word in inferred_vector):\n",
    "\n",
    "                category_scores[current_category][\"correct_answers\"] += 1"
   ]
  },
  {
   "cell_type": "code",
   "execution_count": null,
   "metadata": {
    "colab": {
     "base_uri": "https://localhost:8080/"
    },
    "id": "4-88aikUDIO1",
    "outputId": "b685da21-7e23-4c98-e2fd-817759f3ccac"
   },
   "outputs": [
    {
     "name": "stdout",
     "output_type": "stream",
     "text": [
      "Total score = 0.744\n"
     ]
    }
   ],
   "source": [
    "total_correct, total_questions = 0, 0\n",
    "for category, scores in category_scores.items():\n",
    "    valid_questions = scores[\"valid_questions\"]\n",
    "    correct_answers = scores[\"correct_answers\"]\n",
    "    total_questions += valid_questions\n",
    "    total_correct += correct_answers\n",
    "print(f\"Total score = {total_correct/total_questions:.3f}\")"
   ]
  },
  {
   "cell_type": "code",
   "execution_count": null,
   "metadata": {
    "id": "Ou8lWylXDJb3"
   },
   "outputs": [],
   "source": []
  }
 ],
 "metadata": {
  "colab": {
   "gpuType": "T4",
   "provenance": [],
   "toc_visible": true
  },
  "kernelspec": {
   "display_name": "Python 3",
   "name": "python3"
  },
  "language_info": {
   "name": "python"
  }
 },
 "nbformat": 4,
 "nbformat_minor": 0
}
