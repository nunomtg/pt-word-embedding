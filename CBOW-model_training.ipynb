{
 "cells": [
  {
   "cell_type": "code",
   "execution_count": null,
   "id": "b9c2aef5",
   "metadata": {},
   "outputs": [],
   "source": [
    "import matplotlib.pyplot as plt\n",
    "import numpy as np\n",
    "import string\n",
    "import torch\n",
    "import torch.nn as nn\n",
    "import nltk\n",
    "from tqdm import tqdm\n",
    "\n",
    "np.random.seed(32)"
   ]
  },
  {
   "cell_type": "code",
   "execution_count": null,
   "id": "0282ab84",
   "metadata": {},
   "outputs": [
    {
     "name": "stdout",
     "output_type": "stream",
     "text": [
      "10000000\n"
     ]
    }
   ],
   "source": [
    "contents = []\n",
    "\n",
    "path = \"dataset.txt\"\n",
    "\n",
    "with open(path, \"r\", encoding=\"utf-8\") as file:\n",
    "    i = 0\n",
    "    for line in file:\n",
    "        if i >= 10000000:\n",
    "            break\n",
    "        contents.append(line.lower().split())\n",
    "        i += 1\n",
    "\n",
    "print(len(contents))"
   ]
  },
  {
   "cell_type": "code",
   "execution_count": null,
   "id": "1e21563f",
   "metadata": {},
   "outputs": [
    {
     "name": "stdout",
     "output_type": "stream",
     "text": [
      "total words - 114339451\n",
      "unique words - 563959\n"
     ]
    }
   ],
   "source": [
    "words = []\n",
    "for line in contents:\n",
    "    for word in line:\n",
    "        words.append(word)\n",
    "\n",
    "print(\"total words -\", len(words))\n",
    "print(\"unique words -\", len(set(words)))"
   ]
  },
  {
   "cell_type": "code",
   "execution_count": null,
   "id": "292c0c05",
   "metadata": {},
   "outputs": [
    {
     "data": {
      "image/png": "[encoded data removed]",
      "text/plain": [
       "<Figure size 640x480 with 1 Axes>"
      ]
     },
     "metadata": {},
     "output_type": "display_data"
    }
   ],
   "source": [
    "freq_dist = nltk.FreqDist(words)\n",
    "plt.figure()\n",
    "plt.bar(\n",
    "    x=[x[0] for x in freq_dist.most_common(8)],\n",
    "    height=[x[1] for x in freq_dist.most_common(8)],\n",
    ")\n",
    "plt.show()"
   ]
  },
  {
   "cell_type": "code",
   "execution_count": null,
   "id": "9dd1fef9",
   "metadata": {},
   "outputs": [],
   "source": [
    "VOCAB_SIZE = 20000\n",
    "C = 4\n",
    "\n",
    "vocab = set([w[0] for w in freq_dist.most_common(VOCAB_SIZE)])\n",
    "word_to_ix = {word: i for i, word in enumerate(sorted(vocab))}\n",
    "ix_to_word = {i: word for i, word in enumerate(sorted(vocab))}"
   ]
  },
  {
   "cell_type": "code",
   "execution_count": null,
   "id": "9522e0ba",
   "metadata": {},
   "outputs": [
    {
     "name": "stdout",
     "output_type": "stream",
     "text": [
      "words - 114339451\n",
      "sentences - 10000000\n",
      "vocab size - 20000\n",
      "dataset size - 12700122\n"
     ]
    }
   ],
   "source": [
    "data = []\n",
    "\n",
    "for line in contents:\n",
    "\n",
    "    word_ix = [\"<unk>\" if w not in vocab else word_to_ix[w] for w in line]\n",
    "\n",
    "    if \"<unk>\" not in word_ix:\n",
    "        for i in range(C, len(line) - C):\n",
    "            context = word_ix[i - C : i] + word_ix[i + 1 : i + 1 + C]\n",
    "            target = word_ix[i]\n",
    "            data.append((context, target))\n",
    "\n",
    "print(\"words -\", len(words))\n",
    "print(\"sentences -\", len(contents))\n",
    "print(\"vocab size -\", len(vocab))\n",
    "print(\"dataset size -\", len(data))"
   ]
  },
  {
   "attachments": {},
   "cell_type": "markdown",
   "id": "5a16af31",
   "metadata": {},
   "source": [
    "CBOW"
   ]
  },
  {
   "cell_type": "code",
   "execution_count": null,
   "id": "4427f2d3",
   "metadata": {
    "scrolled": false
   },
   "outputs": [],
   "source": [
    "device = torch.device(\"cuda\" if torch.cuda.is_available() else \"cpu\")\n",
    "EMBEDDING_SIZE = 300\n",
    "\n",
    "\n",
    "class CBOW(nn.Module):\n",
    "    def __init__(self, vocab_size, embedding_size):\n",
    "        super(CBOW, self).__init__()\n",
    "\n",
    "        self.embedding = nn.Embedding(vocab_size, embedding_size, max_norm=10)\n",
    "\n",
    "        self.linear = nn.Linear(embedding_size, vocab_size)\n",
    "\n",
    "    def forward(self, inputs):\n",
    "        # inputs : (batch_size x C)\n",
    "        embedding = self.embedding(inputs).mean(axis=1)\n",
    "        out = self.linear(embedding)\n",
    "\n",
    "        return out"
   ]
  },
  {
   "cell_type": "code",
   "execution_count": null,
   "id": "62dfcbaf",
   "metadata": {
    "scrolled": true
   },
   "outputs": [
    {
     "data": {
      "text/plain": [
       "CBOW(\n",
       "  (embedding): Embedding(20000, 300, max_norm=10)\n",
       "  (linear): Linear(in_features=300, out_features=20000, bias=True)\n",
       ")"
      ]
     },
     "execution_count": 8,
     "metadata": {},
     "output_type": "execute_result"
    }
   ],
   "source": [
    "BATCH_SIZE = 32\n",
    "\n",
    "loss_function = nn.CrossEntropyLoss()\n",
    "model = CBOW(len(vocab), EMBEDDING_SIZE)\n",
    "optimizer = torch.optim.Adam(model.parameters(), lr=0.001)\n",
    "\n",
    "context = torch.tensor([x[0] for x in data])\n",
    "target = torch.tensor([x[1] for x in data])\n",
    "\n",
    "dataset = torch.utils.data.TensorDataset(context, target)\n",
    "\n",
    "train_size = int(0.8 * len(dataset))\n",
    "test_size = len(dataset) - train_size\n",
    "\n",
    "train_dataset, test_dataset = torch.utils.data.random_split(\n",
    "    dataset, [train_size, test_size]\n",
    ")\n",
    "\n",
    "train_dataloader = torch.utils.data.DataLoader(\n",
    "    train_dataset, batch_size=BATCH_SIZE, shuffle=True\n",
    ")\n",
    "test_dataloader = torch.utils.data.DataLoader(\n",
    "    test_dataset, batch_size=BATCH_SIZE, shuffle=True\n",
    ")\n",
    "\n",
    "model.to(device)"
   ]
  },
  {
   "cell_type": "code",
   "execution_count": null,
   "id": "8dff98cf",
   "metadata": {},
   "outputs": [
    {
     "name": "stderr",
     "output_type": "stream",
     "text": [
      "100%|██████████| 317504/317504 [18:14<00:00, 290.19it/s]\n"
     ]
    },
    {
     "name": "stdout",
     "output_type": "stream",
     "text": [
      "Epoch - 0 | Train Loss - 6.635367586212214 | Test Loss 6.286344269991585\n"
     ]
    },
    {
     "name": "stderr",
     "output_type": "stream",
     "text": [
      "100%|██████████| 317504/317504 [18:15<00:00, 289.88it/s]\n"
     ]
    },
    {
     "name": "stdout",
     "output_type": "stream",
     "text": [
      "Epoch - 1 | Train Loss - 6.087299757695594 | Test Loss 6.1970714341301045\n"
     ]
    },
    {
     "name": "stderr",
     "output_type": "stream",
     "text": [
      "100%|██████████| 317504/317504 [18:12<00:00, 290.59it/s]\n"
     ]
    },
    {
     "name": "stdout",
     "output_type": "stream",
     "text": [
      "Epoch - 2 | Train Loss - 5.999271332639608 | Test Loss 6.171749750066499\n"
     ]
    },
    {
     "name": "stderr",
     "output_type": "stream",
     "text": [
      "100%|██████████| 317504/317504 [18:12<00:00, 290.72it/s]\n"
     ]
    },
    {
     "name": "stdout",
     "output_type": "stream",
     "text": [
      "Epoch - 3 | Train Loss - 5.964211063440553 | Test Loss 6.156019235851763\n"
     ]
    },
    {
     "name": "stderr",
     "output_type": "stream",
     "text": [
      "100%|██████████| 317504/317504 [18:14<00:00, 290.09it/s]\n"
     ]
    },
    {
     "name": "stdout",
     "output_type": "stream",
     "text": [
      "Epoch - 4 | Train Loss - 5.947253332901212 | Test Loss 6.150370441713518\n"
     ]
    }
   ],
   "source": [
    "for epoch in range(5):\n",
    "    train_loss = 0\n",
    "    test_loss = 0\n",
    "\n",
    "    progress_bar = tqdm(total=len(train_dataloader))\n",
    "\n",
    "    \"\"\"Train\"\"\"\n",
    "    model.train()\n",
    "    for context, target in train_dataloader:\n",
    "        context = context.to(device)\n",
    "        target = target.to(device)\n",
    "\n",
    "        optimizer.zero_grad()\n",
    "\n",
    "        out = model(context)\n",
    "        loss = loss_function(out, target)\n",
    "        train_loss += loss.item()\n",
    "\n",
    "        loss.backward()\n",
    "        optimizer.step()\n",
    "\n",
    "        progress_bar.update(1)\n",
    "\n",
    "    progress_bar.close()\n",
    "\n",
    "    \"\"\"Test\"\"\"\n",
    "    model.eval()\n",
    "    with torch.no_grad():\n",
    "        for context, target in test_dataloader:\n",
    "            context = context.to(device)\n",
    "            target = target.to(device)\n",
    "\n",
    "            out = model(context)\n",
    "            test_loss += loss_function(out, target).item()\n",
    "\n",
    "    print(\n",
    "        \"Epoch -\",\n",
    "        epoch + 1,\n",
    "        \"| Train Loss -\",\n",
    "        train_loss / (len(train_dataset) / BATCH_SIZE),\n",
    "        \"| Test Loss\",\n",
    "        test_loss / (len(test_dataset) / BATCH_SIZE),\n",
    "    )"
   ]
  },
  {
   "cell_type": "code",
   "execution_count": null,
   "id": "ad618844",
   "metadata": {},
   "outputs": [
    {
     "data": {
      "text/plain": [
       "Parameter containing:\n",
       "tensor([[ 1.8600, -0.5842,  0.0111,  ...,  0.5706, -0.2642, -0.3880],\n",
       "        [-0.3148,  0.2817,  0.1301,  ...,  0.1535, -0.4328, -0.0459],\n",
       "        [-0.7661,  0.1849,  0.0743,  ...,  0.8035,  0.0177, -0.3972],\n",
       "        ...,\n",
       "        [-0.2522,  0.4313, -0.1857,  ...,  0.4312, -0.1504, -1.3942],\n",
       "        [ 0.3997, -0.6839, -0.5783,  ..., -0.3125, -0.5671,  0.3966],\n",
       "        [-0.7434, -0.9814,  0.1273,  ..., -0.7991, -0.2330, -0.3072]],\n",
       "       device='cuda:0', requires_grad=True)"
      ]
     },
     "execution_count": 9,
     "metadata": {},
     "output_type": "execute_result"
    }
   ],
   "source": [
    "model = CBOW(VOCAB_SIZE, EMBEDDING_SIZE).to(device)\n",
    "model.load_state_dict(torch.load(\"model_weights10\"))\n",
    "model.eval()\n",
    "\n",
    "emb_matrix = list(model.parameters())[0]\n",
    "\n",
    "emb_matrix"
   ]
  }
 ],
 "metadata": {
  "kernelspec": {
   "display_name": "Python 3 (ipykernel)",
   "language": "python",
   "name": "python3"
  },
  "language_info": {
   "codemirror_mode": {
    "name": "ipython",
    "version": 3
   },
   "file_extension": ".py",
   "mimetype": "text/x-python",
   "name": "python",
   "nbconvert_exporter": "python",
   "pygments_lexer": "ipython3",
   "version": "3.9.12"
  }
 },
 "nbformat": 4,
 "nbformat_minor": 5
}
